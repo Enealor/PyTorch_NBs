{
 "cells": [
  {
   "cell_type": "markdown",
   "metadata": {},
   "source": [
    "# Variational Ladder Autoencoders\n",
    "\n",
    "## Summary\n",
    "This notebook describes and implements a [Variational Ladder Autoencoder (VLAE)](https://arxiv.org/abs/1702.08396). Similar to a Variational Autoencoder (VAE), a VLAE learns to both encode a data point into a latent variable and to decode the latent variable into a reconstruction of the data point. Unlike a VAE, a VLAE outputs latent variables at multiple layers of the encoding network, rather than feeding through each layer to one latent variable. The change allows for finer features to be disentangled from coarser features.\n",
    "\n",
    "The architecture implemented here is purely experimental. The original implementation can be found [here](https://github.com/ermongroup/Variational-Ladder-Autoencoder)."
   ]
  },
  {
   "cell_type": "code",
   "execution_count": 1,
   "metadata": {},
   "outputs": [],
   "source": [
    "import torch as t\n",
    "import torch.nn as nn\n",
    "import torch.nn.functional as F"
   ]
  },
  {
   "cell_type": "markdown",
   "metadata": {},
   "source": [
    "#### VLAE Class\n",
    "\n",
    "The class used here is similar to the VAE class used in my [VAE notebook](./Basic_VAE.ipynb). However, the 'generate_similar' method now has "
   ]
  },
  {
   "cell_type": "code",
   "execution_count": 3,
   "metadata": {},
   "outputs": [],
   "source": [
    "class VLAE(nn.Module):\n",
    "    '''\n",
    "    Creates a Variation Autoencoder\n",
    "    \n",
    "    :param encoder_network: (nn.Module)\n",
    "    :param decoder_network: (nn.Module)\n",
    "    :param loss: (str, opt) Either 'kl' or 'mc'. Sets how to calculate loss.\n",
    "    '''\n",
    "    def __init__(self, encoder_network, decoder_network, loss='mc'):\n",
    "        super(VLAE, self).__init__()\n",
    "        \n",
    "        self.add_module('encode', encoder_network)\n",
    "        self.add_module('generate', decoder_network)\n",
    "        self.loss = loss.lower()\n",
    "        \n",
    "    def forward(self, input):\n",
    "        '''\n",
    "        Passes forward through encoder to create a sample latent\n",
    "        representation, then decodes that representation.\n",
    "        \n",
    "        :param input: (t.Tensor) \n",
    "        :return: (t.Tensor) Reconstruction of x and it's latent loss\n",
    "        '''\n",
    "        mean, scale = self.encode(input)\n",
    "        eps = t.randn_like(mean)\n",
    "        z = mean+scale*eps\n",
    "        if self.training:\n",
    "            if self.loss == 'mc':\n",
    "                loss = self.MC(z, eps, scale)\n",
    "            elif self.loss == 'kl':\n",
    "                loss = -self.KL(mean, scale)\n",
    "        else:\n",
    "            loss = t.tensor(0)\n",
    "        \n",
    "        return self.generate(z), loss\n",
    "\n",
    "    def generate_similar(self, input, noise=True):\n",
    "        '''\n",
    "        Creates similar examples by encoding the observation and then decoding the \n",
    "        latent observation. If noise is True, then it uses the latent variable\n",
    "        z = mean+eps*scale. Otherwise, z = mean.\n",
    "\n",
    "        :param input: (t.Tensor)\n",
    "        :param noise: (Bool, opt)\n",
    "        :return: (torch.Tensor) Reconstruction of input\n",
    "        '''\n",
    "        mean, scale = self.encode(input)\n",
    "\n",
    "        if noise:\n",
    "            eps = t.randn_like(mean)\n",
    "            z = mean+scale*eps\n",
    "        else:\n",
    "            z = mean\n",
    "\n",
    "        return self.generate(z)\n",
    "    \n",
    "    @staticmethod\n",
    "    def MC(z, eps, scale):\n",
    "        '''\n",
    "        Computes fully monte carlo loss for the statistics layer.\n",
    "        \n",
    "        :param z: (t.Tensor) latent variable\n",
    "        :param eps: (t.Tensor) random noise\n",
    "        :param scale: (t.Tensor) scale (or standard deviation)\n",
    "        '''     \n",
    "        loss = t.sum(z.pow(2)/2-(eps.pow(2)/2+scale.log()), 1)\n",
    "        return loss.mean()"
   ]
  },
  {
   "cell_type": "markdown",
   "metadata": {},
   "source": [
    "#### Utility layer\n",
    "This layer reshapes the input. This is done for convenience when using `nn.Sequential`."
   ]
  },
  {
   "cell_type": "code",
   "execution_count": 4,
   "metadata": {},
   "outputs": [],
   "source": [
    "class ReshapeLayer(nn.Module):\n",
    "    '''\n",
    "    Reshapes the input to be the output using view. Shapes are checked\n",
    "    on forward pass to verify that they are compatible.\n",
    "\n",
    "    :param view_shape: The shape to cast the input to. Given a batch\n",
    "        input of shape (n, _) will be cast to (n, view_shape).\n",
    "    '''\n",
    "    def __init__(self, view_shape):\n",
    "        super(ReshapeLayer, self).__init__()\n",
    "        self.view_shape = view_shape\n",
    "\n",
    "    def forward(self, x):\n",
    "        '''\n",
    "        Reshapes x to initialized shape.\n",
    "        :param x: (t.Tensor)\n",
    "        :return: (t.Tensor)\n",
    "        '''\n",
    "        output_shape = (x.shape[0],) + self.view_shape\n",
    "        assert self.dimension(x.shape) == self.dimension(output_shape), \\\n",
    "            '{0} and {1} are not compatabile'.format(x.shape, output_shape)\n",
    "        return x.view(output_shape)\n",
    "\n",
    "    @staticmethod\n",
    "    def dimension(shape):\n",
    "        #Helper function for checking dimensions\n",
    "        out = 1\n",
    "        for s in shape:\n",
    "            out *= s\n",
    "        return out"
   ]
  },
  {
   "cell_type": "code",
   "execution_count": 5,
   "metadata": {},
   "outputs": [],
   "source": [
    "def init_weights(m):\n",
    "    if type(m) == nn.Linear or type(m) == nn.Conv2d or type(m) == nn.ConvTranspose2d:\n",
    "        nn.init.kaiming_normal_(m.weight, a=1)"
   ]
  },
  {
   "cell_type": "code",
   "execution_count": 6,
   "metadata": {},
   "outputs": [],
   "source": [
    "class FeatureEncoder(nn.Module):\n",
    "    def __init__(self, in_channels, hidden_size, image_size, z_size, drop_prob=0.1):\n",
    "        super(FeatureEncoder, self).__init__()\n",
    "        self.feature_map = nn.Sequential(\n",
    "            nn.Conv2d(in_channels, hidden_size, image_size),\n",
    "            nn.Flatten(),\n",
    "            nn.AlphaDropout(p=drop_prob),\n",
    "            nn.Linear(hidden_size, hidden_size),\n",
    "            nn.SELU(),\n",
    "        )\n",
    "        self.mean = nn.Linear(hidden_size, z_size)\n",
    "        self.log_var = nn.Linear(hidden_size, z_size)\n",
    "        \n",
    "        self.feature_map.apply(init_weights)\n",
    "    \n",
    "    def forward(self, input):\n",
    "        x = self.feature_map(input)\n",
    "        mean = self.mean(x)\n",
    "        scale = (self.log_var(x)/2).exp()\n",
    "        return mean, scale\n",
    "    \n",
    "class FeatureDecoder(nn.Module):\n",
    "    def __init__(self, z_size, hidden_size, image_size, out_channels, drop_prob=0.1):\n",
    "        super(FeatureDecoder, self).__init__()\n",
    "        self.feature_map = nn.Sequential(\n",
    "            nn.Linear(z_size, hidden_size),\n",
    "            nn.SELU(),\n",
    "            nn.AlphaDropout(p=drop_prob),\n",
    "            nn.Linear(hidden_size, hidden_size),\n",
    "            nn.SELU(),\n",
    "            ReshapeLayer((hidden_size, 1, 1)),\n",
    "            nn.ConvTranspose2d(hidden_size, out_channels, image_size),\n",
    "            nn.SELU()\n",
    "        )\n",
    "        self.feature_map.apply(init_weights)\n",
    "    \n",
    "    def forward(self, input):\n",
    "        return self.feature_map(input)"
   ]
  },
  {
   "cell_type": "code",
   "execution_count": 7,
   "metadata": {},
   "outputs": [],
   "source": [
    "class ConvDown(nn.Module):\n",
    "    def __init__(self, in_channels, out_channels, kernel_size, stride=1):\n",
    "        super(ConvDown, self).__init__()\n",
    "        self.conv = nn.Sequential(\n",
    "            nn.Conv2d(in_channels, out_channels, kernel_size, stride),\n",
    "            nn.SELU()\n",
    "        )\n",
    "        self.conv.apply(init_weights)\n",
    "        \n",
    "    def forward(self, input):\n",
    "        return self.conv(input)\n",
    "\n",
    "class Encoder(nn.Module):\n",
    "    def __init__(self, channel_factor, hidden_size, z_size, drop_prob):\n",
    "        super(Encoder, self).__init__()\n",
    "        self.conv1 = ConvDown(1, channel_factor, 4, 2)\n",
    "        self.feat1 = FeatureEncoder(channel_factor, hidden_size, 13, z_size, drop_prob)\n",
    "        self.conv2 = ConvDown(channel_factor, 2*channel_factor, 3, 2)\n",
    "        self.feat2 = FeatureEncoder(2*channel_factor, hidden_size, 6, z_size, drop_prob)\n",
    "        self.conv3 = ConvDown(2*channel_factor, 4*channel_factor, 4, 1)\n",
    "        self.feat3 = FeatureEncoder(4*channel_factor, hidden_size, 3, z_size, drop_prob)\n",
    "        self.conv4 = ConvDown(4*channel_factor, 8*channel_factor, 3, 1)\n",
    "        self.feat4 = FeatureEncoder(8*channel_factor, hidden_size, 1, z_size, drop_prob)\n",
    "    \n",
    "    def forward(self, input):\n",
    "        x = self.conv1(input)\n",
    "        mean1, scale1 = self.feat1(x)\n",
    "        x = self.conv2(x)\n",
    "        mean2, scale2 = self.feat2(x)\n",
    "        x = self.conv3(x)\n",
    "        mean3, scale3 = self.feat3(x)\n",
    "        x = self.conv4(x)\n",
    "        mean4, scale4 = self.feat4(x)\n",
    "        means = t.cat([mean1, mean2, mean3, mean4], 1)\n",
    "        scales = t.cat([scale1, scale2, scale3, scale4], 1)\n",
    "        return means, scales"
   ]
  },
  {
   "cell_type": "markdown",
   "metadata": {},
   "source": [
    "The following generator uses several layers of latent variables, which are added at each convolution. Originally I tried concatenation, but this failed to produce convincing images after 50 epochs."
   ]
  },
  {
   "cell_type": "code",
   "execution_count": 12,
   "metadata": {},
   "outputs": [],
   "source": [
    "\n",
    "\n",
    "class ConvUp(nn.Module):\n",
    "    def __init__(self, in_channels, out_channels, kernel_size, stride=1):\n",
    "        super(ConvUp, self).__init__()\n",
    "        self.conv = nn.Sequential(\n",
    "            nn.ConvTranspose2d(in_channels, out_channels, kernel_size, stride),\n",
    "            nn.SELU()\n",
    "        )\n",
    "        self.conv.apply(init_weights)\n",
    "        \n",
    "    def forward(self, input):\n",
    "        return self.conv(input)\n",
    "    \n",
    "class Decoder(nn.Module):\n",
    "    def __init__(self, channel_factor, hidden_size, z_size, drop_prob):\n",
    "        super(Decoder, self).__init__()\n",
    "        self.z_size = z_size\n",
    "        self.feat1 = FeatureDecoder(z_size, hidden_size, 1, 8*channel_factor, drop_prob)\n",
    "        self.conv1 = ConvUp(8*channel_factor, 4*channel_factor, 3, 1)\n",
    "        self.feat2 = FeatureDecoder(z_size, hidden_size, 3, 4*channel_factor, drop_prob)\n",
    "        self.conv2 = ConvUp(4*channel_factor, 2*channel_factor, 4, 1)\n",
    "        self.feat3 = FeatureDecoder(z_size, hidden_size, 6, 2*channel_factor, drop_prob)\n",
    "        self.conv3 = ConvUp(2*channel_factor, channel_factor, 3, 2)\n",
    "        self.feat4 = FeatureDecoder(z_size, hidden_size, 13, channel_factor, drop_prob)\n",
    "        self.conv4 = nn.ConvTranspose2d(channel_factor, 1, 4, 2)\n",
    "    \n",
    "    def forward(self, input):\n",
    "        #Split into 4 equally sized latent variables\n",
    "        z1, z2, z3, z4 = input.split(self.z_size, 1)\n",
    "        \n",
    "        x1 = self.feat1(z1)\n",
    "        x2 = self.feat2(z2)\n",
    "        x3 = self.feat3(z3)\n",
    "        x4 = self.feat4(z4)\n",
    "        \n",
    "        x = self.conv1(x1)\n",
    "        x = self.conv2(x+x2)\n",
    "        x = self.conv3(x+x3)\n",
    "        return t.tanh(self.conv4(x+x4))"
   ]
  },
  {
   "cell_type": "markdown",
   "metadata": {},
   "source": [
    "### Building the network\n",
    "\n",
    "Here we build the encoder and decoder. This is done using the Sequential function. The encoder network needs to end with the statistics layer. The decoder is just a standard decoder. The size of the hidden layers are chosen experimentally.\n",
    "\n",
    "The encoder and decoder networks are based on the Deep Convolution GAN architecture. The images are encoded using strided convolutions with dropout, batch normalization and Leaky ReLU units. The latent encoding is then decoded using strided convolution tranpositions with dropout, batch normalization and ReLU units."
   ]
  },
  {
   "cell_type": "code",
   "execution_count": 13,
   "metadata": {},
   "outputs": [],
   "source": [
    "latent_dim = 16\n",
    "channel_factor = 16\n",
    "drop_prob = 0.1\n",
    "\n",
    "#Build networks\n",
    "encoder_net = Encoder(channel_factor, latent_dim, latent_dim, drop_prob)\n",
    "\n",
    "decoder_net = Decoder(channel_factor, latent_dim, latent_dim, drop_prob)\n",
    "\n",
    "model = VAE(encoder_net, decoder_net)"
   ]
  },
  {
   "cell_type": "markdown",
   "metadata": {},
   "source": [
    "### Dataset\n",
    "\n",
    "For this notebook, we use the MNIST dataset. A drop-in replacement that can be used is the FashionMNIST dataset."
   ]
  },
  {
   "cell_type": "code",
   "execution_count": 14,
   "metadata": {},
   "outputs": [],
   "source": [
    "import torch.utils.data as data\n",
    "import torchvision.datasets as datasets\n",
    "from torchvision.transforms import Compose, Normalize, ToTensor\n",
    "from torchvision.utils import make_grid, save_image\n",
    "\n",
    "transforms = Compose([ToTensor(), Normalize([0.5], [0.5])])\n",
    "training_set = datasets.MNIST(root='./data/', train=True, download=False, transform=transforms)\n",
    "batch_size = 128\n",
    "training_loader = data.DataLoader(dataset=training_set, batch_size=batch_size, shuffle=True)"
   ]
  },
  {
   "cell_type": "markdown",
   "metadata": {},
   "source": [
    "### Optimizing the network parameters\n",
    "\n",
    "Now that we have the network, we need to find parameters that minimizes our estimate above. In order to accomplish this, we run the model over a batch of observations, and then compute the loss. Using stochastic gradient descent methods, we can then find a change of parameters that will (usually) decrease the loss.\n",
    "\n",
    "More explicitely, the encoder network takes in an observation $x$ and produces statistics, $(\\mu, \\Sigma)$, for the latent variable, $z$. Using the Monte Carlo loss or KL divergence above, we can determine a loss for the encoder. We then use $z$ to generate a reconstruction of the observation, $\\hat{x}$. By comparing $x$ and $\\hat{x}$, we have a loss for the decoder. The total loss of the variational autoencoder is the sum of these two losses. Because we are minimizing the sum, there is no guarantee that both components will decrease. In fact, the encoder loss typically increases while the decoder loss typically decreases. This is seen in the training summary printed below."
   ]
  },
  {
   "cell_type": "code",
   "execution_count": 15,
   "metadata": {},
   "outputs": [],
   "source": [
    "def mse_loss(input, target):\n",
    "    loss = (input-target).pow(2)/2\n",
    "    #Return batch average\n",
    "    return loss.mean(0).sum()"
   ]
  },
  {
   "cell_type": "code",
   "execution_count": 16,
   "metadata": {},
   "outputs": [],
   "source": [
    "def train_vae(model, data_loader, optimizer, use_gpu=True):\n",
    "    average_recon = 0\n",
    "    average_latent = 0\n",
    "    for n_batch, (x, _) in enumerate(data_loader):\n",
    "        if use_gpu:\n",
    "            x = x.cuda()\n",
    "        \n",
    "        x_pred, latent_loss = model(x)\n",
    "        \n",
    "        #compute -log p(x|z)\n",
    "        recon_loss = mse_loss(x, x_pred)\n",
    "        loss = recon_loss+latent_loss\n",
    "        \n",
    "        #Compute average\n",
    "        average_latent += (latent_loss-average_latent)/(n_batch+1)\n",
    "        average_recon += (recon_loss-average_recon)/(n_batch+1)\n",
    "\n",
    "        #Zero gradients, perform a backward pass, and update the weights.\n",
    "        optimizer.zero_grad()\n",
    "        loss.backward()\n",
    "        optimizer.step()\n",
    "\n",
    "        #Print percent complete\n",
    "        print(percent_complete.format(batch_size*n_batch/n_data), end='')\n",
    "        \n",
    "    return average_recon, average_latent"
   ]
  },
  {
   "cell_type": "code",
   "execution_count": 17,
   "metadata": {
    "scrolled": false
   },
   "outputs": [
    {
     "name": "stdout",
     "output_type": "stream",
     "text": [
      "Epoch 1/30 - recon loss: 80.892 - latent loss: 13.047 - total loss: 93.939\n",
      "Epoch 2/30 - recon loss: 61.612 - latent loss: 14.454 - total loss: 76.065\n",
      "Epoch 3/30 - recon loss: 56.161 - latent loss: 14.769 - total loss: 70.93\n",
      "Epoch 4/30 - recon loss: 51.931 - latent loss: 14.724 - total loss: 66.655\n",
      "Epoch 5/30 - recon loss: 48.756 - latent loss: 14.805 - total loss: 63.56\n",
      "Epoch 6/30 - recon loss: 46.491 - latent loss: 15.055 - total loss: 61.546\n",
      "Epoch 7/30 - recon loss: 44.829 - latent loss: 15.251 - total loss: 60.079\n",
      "Epoch 8/30 - recon loss: 43.482 - latent loss: 15.399 - total loss: 58.881\n",
      "Epoch 9/30 - recon loss: 42.375 - latent loss: 15.544 - total loss: 57.919\n",
      "Epoch 10/30 - recon loss: 41.389 - latent loss: 15.692 - total loss: 57.081\n",
      "Epoch 11/30 - recon loss: 40.606 - latent loss: 15.843 - total loss: 56.449\n",
      "Epoch 12/30 - recon loss: 39.815 - latent loss: 15.99 - total loss: 55.805\n",
      "Epoch 13/30 - recon loss: 39.185 - latent loss: 16.086 - total loss: 55.271\n",
      "Epoch 14/30 - recon loss: 38.52 - latent loss: 16.2 - total loss: 54.719\n",
      "Epoch 15/30 - recon loss: 37.998 - latent loss: 16.26 - total loss: 54.258\n",
      "Epoch 16/30 - recon loss: 37.638 - latent loss: 16.342 - total loss: 53.98\n",
      "Epoch 17/30 - recon loss: 37.158 - latent loss: 16.436 - total loss: 53.594\n",
      "Epoch 18/30 - recon loss: 36.746 - latent loss: 16.465 - total loss: 53.211\n",
      "Epoch 19/30 - recon loss: 36.468 - latent loss: 16.492 - total loss: 52.96\n",
      "Epoch 20/30 - recon loss: 36.087 - latent loss: 16.581 - total loss: 52.668\n",
      "Epoch 21/30 - recon loss: 35.874 - latent loss: 16.609 - total loss: 52.483\n",
      "Epoch 22/30 - recon loss: 35.588 - latent loss: 16.637 - total loss: 52.225\n",
      "Epoch 23/30 - recon loss: 35.33 - latent loss: 16.68 - total loss: 52.01\n",
      "Epoch 24/30 - recon loss: 35.083 - latent loss: 16.706 - total loss: 51.788\n",
      "Epoch 25/30 - recon loss: 34.852 - latent loss: 16.729 - total loss: 51.581\n",
      "Epoch 26/30 - recon loss: 34.572 - latent loss: 16.762 - total loss: 51.334\n",
      "Epoch 27/30 - recon loss: 34.47 - latent loss: 16.77 - total loss: 51.241\n",
      "Epoch 28/30 - recon loss: 34.206 - latent loss: 16.818 - total loss: 51.023\n",
      "Epoch 29/30 - recon loss: 34.082 - latent loss: 16.795 - total loss: 50.877\n",
      "Epoch 30/30 - recon loss: 33.9 - latent loss: 16.799 - total loss: 50.699\n"
     ]
    }
   ],
   "source": [
    "epochs = 30\n",
    "use_gpu = t.cuda.is_available()\n",
    "model.train()\n",
    "\n",
    "#Add to gpu before making the optimizer\n",
    "if use_gpu:\n",
    "    model.cuda(0)\n",
    "\n",
    "optimizer = t.optim.Adamax(model.parameters())\n",
    "\n",
    "epoch_summary_text = '\\rEpoch {0}/{1}'\n",
    "loss_summary_text = '{0} loss: {1:.5}'\n",
    "\n",
    "percent_complete = '\\r{0:.1%}'\n",
    "\n",
    "n_data = len(training_set)\n",
    "for epoch in range(epochs):\n",
    "    recon_loss, latent_loss = train_vae(model, training_loader, optimizer, use_gpu)\n",
    "\n",
    "    #Create summary loss\n",
    "    epoch_summary = epoch_summary_text.format(epoch+1, epochs)\n",
    "    latent_summary = loss_summary_text.format('latent', latent_loss)\n",
    "    recon_summary = loss_summary_text.format('recon', recon_loss)\n",
    "    total_summary = loss_summary_text.format('total', latent_loss+recon_loss)\n",
    "    print(epoch_summary, recon_summary, latent_summary, total_summary, sep=' - ')\n",
    "    \n",
    "t.save(model.state_dict(), './models/vlae.pkl')"
   ]
  },
  {
   "cell_type": "markdown",
   "metadata": {},
   "source": [
    "## Examples\n",
    "\n",
    "### Image Reconstruction\n",
    "\n",
    "Variational autoencoders can be used to reconstruct observations. This is exactly the training process: we encode the observation to a latent variable, and then use the latent variable to generate an image. After training, the network should be able to reconstruct both the example and similar examples. This is shown below. The images in the top row are the originals, while the images below are the reconstructions. The second row is a reconstruction using the mean, while the lower rows show what would be typically generated during training.\n",
    "\n",
    "The reconstructions are noticeably blurry. This is a fairly common issue with simple VAE models. There are a number of ways to improve the quality of the generated pictures. A few of these are mentioned below."
   ]
  },
  {
   "cell_type": "code",
   "execution_count": 18,
   "metadata": {},
   "outputs": [],
   "source": [
    "#Set up picture\n",
    "n_images = 6\n",
    "rows=5\n",
    "\n",
    "model.eval()\n",
    "with t.no_grad():\n",
    "    data_sample = next(iter(training_loader))\n",
    "    images, _ = data_sample\n",
    "    images = images[:n_images]\n",
    "    if use_gpu:\n",
    "        images = images.cuda()\n",
    "    \n",
    "    album = [images]\n",
    "    #Create most likely example (i.e. using the mean)\n",
    "    album.append(model.generate_similar(images, noise=False))\n",
    "    \n",
    "    #Create similar examples with noise\n",
    "    for row in range(2, rows):\n",
    "        album.append(model.generate_similar(images))\n",
    "\n",
    "album = t.cat(album, 0)\n",
    "save_image(album, './images/MNIST-VLAE-reconstructions.png', nrow=n_images)"
   ]
  },
  {
   "cell_type": "markdown",
   "metadata": {},
   "source": [
    "Image Reconstructions\n",
    "![Digit reconstructions](./images/MNIST-VLAE-reconstructions.png)"
   ]
  },
  {
   "cell_type": "markdown",
   "metadata": {},
   "source": [
    "### Image generation using latent sampling\n",
    "\n",
    "My interest in VAEs are mostly tied to the fact that you can use them to generate new images. One of the original assumptions we made at the onset of our model is that $p_\\ell$ is normally distributed. Thus, we can generate $z$ by drawing from a standard normal distribution $N(0, I)$ and then decode that generated latent variable to form an observation. This is what we see below."
   ]
  },
  {
   "cell_type": "code",
   "execution_count": 19,
   "metadata": {},
   "outputs": [],
   "source": [
    "grid_size = 10\n",
    "\n",
    "with t.no_grad():\n",
    "    latent_sample = t.randn(grid_size**2, latent_dim*4, device=album.device)\n",
    "    images = model.generate(latent_sample)\n",
    "\n",
    "save_image(images, './images/MNIST-VLAE-latent_samples.png', nrow=grid_size)"
   ]
  },
  {
   "cell_type": "markdown",
   "metadata": {},
   "source": [
    "Randomly generated images\n",
    "![Latent Sample image](./images/MNIST-VLAE-latent_samples.png)"
   ]
  },
  {
   "cell_type": "markdown",
   "metadata": {},
   "source": [
    "### Latent Interpolation\n",
    "\n",
    "Another way to use a Variational Autoencoder is to combine the latent encodings. That is, if we have an image $x_1$ and $x_2$ with latent encodings $z_1$ and $z_2$ respectively, we can form a third image $x_3$ from a combination of $z_1$ and $z_2$. This is shown below. The first and last images are the original. The second and fourth are the recreations of the original. The image in the middle, $x_3$, is formed using the latent encoding $(1-\\alpha)z_1+\\alpha z_2$, with $0 \\leq \\alpha \\leq 1$. By changing the sliders, the center changes. \n",
    "\n",
    "Note: if training the model locally would take too long, then I recommend downloading the file `/models/vae.pkl` and loading it using `t.load(model, 'vae.pkl')` to allow for experimentation with the below widget. This model can also be further trained if desired."
   ]
  },
  {
   "cell_type": "code",
   "execution_count": 20,
   "metadata": {},
   "outputs": [
    {
     "data": {
      "application/vnd.jupyter.widget-view+json": {
       "model_id": "0cef374c5cc045b9aca91d3e224444c9",
       "version_major": 2,
       "version_minor": 0
      },
      "text/plain": [
       "interactive(children=(IntSlider(value=1, description='Image 1', min=1), IntSlider(value=101, description='Imag…"
      ]
     },
     "metadata": {},
     "output_type": "display_data"
    }
   ],
   "source": [
    "import ipywidgets as widgets\n",
    "from IPython.display import display\n",
    "import matplotlib.pylab as plt\n",
    "\n",
    "def image_mix(image_idx_1, image_idx_2, mix_value):\n",
    "    with t.no_grad():\n",
    "        #Grab sample images\n",
    "        image_1 = training_set[image_idx_1-1][0]\n",
    "        image_2 = training_set[image_idx_2-1][0]\n",
    "        #Encode\n",
    "        input = t.stack([image_1, image_2], 0)\n",
    "        if use_gpu:\n",
    "            input = input.cuda()\n",
    "        latent = model.encode(input)[0]\n",
    "        #Mix latent codes\n",
    "        mixed_latent = (1-mix_value)*latent[0]+mix_value*latent[1]\n",
    "        #Decode into images\n",
    "        latent = t.stack([latent[0], mixed_latent, latent[1]], 0)\n",
    "        images = model.generate(latent)\n",
    "        #Turn into grid\n",
    "        images = make_grid(t.cat([input[0].unsqueeze(0), images, input[1].unsqueeze(0)]), 5)\n",
    "        #Permute for imshow\n",
    "        images = images.permute(1,2,0)\n",
    "        plt.imshow(images.cpu())\n",
    "        \n",
    "model.eval()\n",
    "\n",
    "mix_slider = widgets.FloatSlider(\n",
    "    value=0,\n",
    "    min=0,\n",
    "    max=1,\n",
    "    step=0.05,\n",
    "    description='Transition'\n",
    ")\n",
    "image_1_slider = widgets.IntSlider(\n",
    "    value=1,\n",
    "    min=1,\n",
    "    max=100,\n",
    "    description='Image 1'\n",
    ")\n",
    "\n",
    "image_2_slider = widgets.IntSlider(\n",
    "    value=101,\n",
    "    min=101,\n",
    "    max=200,\n",
    "    description='Image 2'\n",
    ")\n",
    "\n",
    "interactive_plot = widgets.interactive(image_mix, image_idx_1=image_1_slider, image_idx_2=image_2_slider, mix_value=mix_slider)\n",
    "output = interactive_plot.children[-1]\n",
    "output.layout.height = '150px'\n",
    "display(interactive_plot)"
   ]
  },
  {
   "cell_type": "markdown",
   "metadata": {},
   "source": [
    "## Further Reading\n",
    "\n",
    "If you are interested in learning more about variational autoencoders, here is what I recommend:\n",
    "* [Sticking the Landing](https://arxiv.org/abs/1703.09194). As mentioned above, it explains why the MC loss is used rather than KL divergence.\n",
    "* [Towards a deeper understanding of VAEs](https://arxiv.org/abs/1702.08658v1), which explains in part why the blurry images above occur. I had originally believed it was a result of using an inappropriate loss function, but it turns out that this is actually caused by the decoder using the average reconstruction. In our notation, this means the decoder is learning to return $\\mathbb{E}_{p(x|z)}[x]$. The paper also discuss how to avoid blurry images.\n",
    "* [Improved Variational Inference with Inverse Autoregressive Flow](https://arxiv.org/abs/1606.04934v2), which describes how to encode to non-diagonal covariance matrices $\\Sigma(x)$ in a computationally straight-forward way. Another approach based on this paper is offered in [convex combination linear Inverse Autoregressive Flow](https://arxiv.org/abs/1706.0232), which is more easily applied.\n",
    "* It's also worth pointing out that you can use *several* latent variables. There are two variants I'm aware of for this: the Ladder Variational Autoencoder and the Variational Ladder Autoencoder."
   ]
  },
  {
   "cell_type": "markdown",
   "metadata": {},
   "source": [
    "## Final Comments\n",
    "\n",
    "I made this notebook to have an easy way of sharing my interest in VAEs with others. If you find an error or have any suggestions, please let me know."
   ]
  }
 ],
 "metadata": {
  "kernelspec": {
   "display_name": "Python 3",
   "language": "python",
   "name": "python3"
  },
  "language_info": {
   "codemirror_mode": {
    "name": "ipython",
    "version": 3
   },
   "file_extension": ".py",
   "mimetype": "text/x-python",
   "name": "python",
   "nbconvert_exporter": "python",
   "pygments_lexer": "ipython3",
   "version": "3.7.4"
  }
 },
 "nbformat": 4,
 "nbformat_minor": 2
}
