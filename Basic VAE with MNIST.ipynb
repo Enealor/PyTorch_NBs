{
 "cells": [
  {
   "cell_type": "markdown",
   "metadata": {},
   "source": [
    "# An Overview of Variational Autoencoders in pytorch (WIP)\n",
    "\n",
    "This notebook implements a Variational Autoencoder (VAE) in pytorch. VAEs are described in detail in this [tutorial](https://arxiv.org/abs/1606.05908). This is an implementation of a VAE as described in the paper, using both fully connected layers and convolution layers. There are a number of changes that can be made. Of particular interest are the following:\n",
    "* Using the labels in order to implement a Conditional VAE (CVAE) as described in the tutorial above. This type of VAE uses extra information (the labels) as part of the encoding and decoding process.\n",
    "* Using Inverse Autoregressive Flow modules as described in [IVF](https://arxiv.org/abs/1606.04934). This allows us to model more complex distributions. In particular, it provides an efficient way to have non-diagonal covariance matrices.\n",
    "* Using an an [adversarial model](https://arxiv.org/abs/1512.09300) to measure the difference between images rather than using a per-pixel difference such as the BCE used in this notebook."
   ]
  },
  {
   "cell_type": "code",
   "execution_count": 254,
   "metadata": {},
   "outputs": [],
   "source": [
    "##Import relevant libraries\n",
    "#Libraries used to create network\n",
    "import torch as t\n",
    "import torch.nn as nn\n",
    "import torch.nn.functional as F\n",
    "\n",
    "#Libraries used to retrieve data set and load it\n",
    "from torch.utils.data import DataLoader\n",
    "import torchvision.datasets as datasets\n",
    "from torchvision.transforms import Compose, RandomHorizontalFlip, RandomRotation, ToTensor\n",
    "\n",
    "file_path = './models/{0}-{1}.pkl'"
   ]
  },
  {
   "cell_type": "markdown",
   "metadata": {},
   "source": [
    "## Loss functions\n",
    "\n",
    "The first loss function is defined by how well the image is reconstructed by the network. The more similar each pixel is in the original image is to the same pixel in the reconstructed image, the smaller this loss will be. This loss forces each image reconstruction to be similar to the input image.\n",
    "\n",
    "The second loss function is the KL Divergence of the encoded mean and variance from the standard normal distribution. This imposes structure on the latent space by pushing the latent representation towards being a standard normal. The further the encoded means and variances are from a $N(0, 1)$ distribution, the more the encoding is penalized. "
   ]
  },
  {
   "cell_type": "code",
   "execution_count": 255,
   "metadata": {},
   "outputs": [],
   "source": [
    "bce = nn.BCEWithLogitsLoss(reduction='sum')\n",
    "\n",
    "def KL(means, variances, minimum=1., epsilon=1e-8):\n",
    "    '''\n",
    "    Computes the KL divergence of N(means, variances) with N(0, 1) on a batch,\n",
    "    then returns the mean of the batch.\n",
    "\n",
    "    :param means: (torch.Tensor)\n",
    "    :param variances: (torch.Tensor)\n",
    "    :param minimum: (float, optional) Minimum value allows for each KL divergence.\n",
    "    :param epsilon: (float, optional)\n",
    "    :return: The KL divergence\n",
    "    '''\n",
    "    loss = t.sum(variances+means.pow(2)-t.log(variances+epsilon)-1,1)/2.\n",
    "    minimum = minimum*t.ones_like(loss)\n",
    "    stack = t.stack([loss, minimum])\n",
    "    return t.max(stack).mean()"
   ]
  },
  {
   "cell_type": "markdown",
   "metadata": {},
   "source": [
    "## Utility Layers\n",
    "\n",
    "This creates the latent layer and a Reshape layer. The latter is exactly as it sounds; it reshapes the input that passes through it.\n",
    "\n",
    "The former layer is what differentiates this from an autoencoder."
   ]
  },
  {
   "cell_type": "code",
   "execution_count": 256,
   "metadata": {},
   "outputs": [],
   "source": [
    "class LatentLayer(nn.Module):\n",
    "    '''\n",
    "    Creates a layer that takes an input and outputs a sample of latent variables. This is intended to\n",
    "    be a connecting layer, and so it has two fully connected layers - one learns the means in the\n",
    "    latent space, while the other learns the variances. The output for the variance has a softplus\n",
    "    activator as it must be positive.\n",
    "    '''\n",
    "    def __init__(self, input_size, latent_size):\n",
    "        super(LatentLayer, self).__init__()\n",
    "        self.layer_mu = nn.Linear(input_size, latent_size)\n",
    "        self.layer_var = nn.Linear(input_size, latent_size)\n",
    "        \n",
    "    def forward(self, x):\n",
    "        #Compute statistic parameters\n",
    "        mu = self.layer_mu(x)\n",
    "        var = F.softplus(self.layer_var(x))\n",
    "        #Create sample\n",
    "        samples = mu+t.randn_like(mu)*var.sqrt()\n",
    "        return samples, mu, var\n",
    "\n",
    "class ReshapeLayer(nn.Module):\n",
    "    '''\n",
    "    Reshapes the input to be the output using view. Shapes are checked\n",
    "    on forward pass to verify that they are compatible.\n",
    "\n",
    "    :param view_shape: The shape to cast the input to. Given a batch\n",
    "        input of shape (n, _) will be cast to (n, view_shape).\n",
    "    '''\n",
    "    def __init__(self, view_shape):\n",
    "        super(ReshapeLayer, self).__init__()\n",
    "        self.view_shape = view_shape\n",
    "\n",
    "    def forward(self, x):\n",
    "        '''\n",
    "        Reshapes x to initialized shape. Assumes that x.shape[0] is\n",
    "        the batch size.\n",
    "\n",
    "        :param x: (torch.tensor)\n",
    "        :return: (torch.tensor)\n",
    "        '''\n",
    "        output_shape = (x.shape[0],) + self.view_shape\n",
    "        assert self.dimension(x.shape) == self.dimension(output_shape), '{0} and {1} are not compatabile'.format(x.shape, output_shape)\n",
    "        return x.view(output_shape)\n",
    "\n",
    "    @staticmethod\n",
    "    def dimension(shape):\n",
    "        #Helper function for checking dimensions\n",
    "        out = 1\n",
    "        for s in shape:\n",
    "            out *= s\n",
    "        return out"
   ]
  },
  {
   "cell_type": "markdown",
   "metadata": {},
   "source": [
    "## VAE Class\n",
    "\n",
    "This implements the class itself. In particular, we have an encoder network, a latent layer, and a decoder network. The former "
   ]
  },
  {
   "cell_type": "code",
   "execution_count": 257,
   "metadata": {},
   "outputs": [],
   "source": [
    "class VAE(nn.Module):\n",
    "    '''\n",
    "    Creates a Variation Autoencoder in Torch.\n",
    "    '''\n",
    "    def __init__(self, encoder_network, latent_layer, decoder_network):\n",
    "        super(VAE, self).__init__()\n",
    "        \n",
    "        self.add_module('encoder', encoder_network)\n",
    "        self.add_module('latent', latent_layer)\n",
    "        self.add_module('decoder', decoder_network)\n",
    "        \n",
    "    def forward(self, x):\n",
    "        '''\n",
    "        Passes forward through encoder to create a sample latent\n",
    "        representation, then decodes that representation.\n",
    "        \n",
    "        :param x: (torch.Tensor) \n",
    "        :return: (torch.Tensor) Reconstruction of x and it's representation in the latent space\n",
    "        '''\n",
    "        #encode\n",
    "        x = self.encoder(x)\n",
    "        #Sample from a normal distribution with mean mu and variance var\n",
    "        z, mu, var = self.latent(x)\n",
    "        #Decode and return latent variables\n",
    "        return self.decoder(z), (mu, var)"
   ]
  },
  {
   "cell_type": "markdown",
   "metadata": {},
   "source": [
    "## Loading the data\n",
    "\n",
    "Here we use the torch tools to load the MNIST (or FashionMNIST) dataset. The `compose_train` is the functions we apply to the images before passing them to the model. Here we only call ToTensor to convert the image (with values between $[0, 255]$) to a tensor (with values between $[0, 1]$).\n",
    "\n",
    "We also call DataLoader, which handles batching our data and performing the necessary transformations.\n",
    "\n",
    "Note that for the FashionMNIST data, we use a RandomHorizontalFlip transformation. This increases the number of examples, which has a positive effect on fitting."
   ]
  },
  {
   "cell_type": "code",
   "execution_count": 258,
   "metadata": {},
   "outputs": [],
   "source": [
    "batch_size = 128\n",
    "compose_train = Compose([RandomRotation(5), ToTensor()])\n",
    "training_set = datasets.MNIST(root='./', train=True, download=True, transform=compose_train)\n",
    "train_loader = t.utils.data.DataLoader(dataset=training_set, batch_size=batch_size, shuffle=True)\n",
    "\n",
    "testing_set = datasets.MNIST(root='./', train=False, download=True, transform=ToTensor())\n",
    "\n",
    "data_name = 'MNIST'"
   ]
  },
  {
   "cell_type": "raw",
   "metadata": {},
   "source": [
    "batch_size = 128\n",
    "compose_train = Compose([RandomHorizontalFlip(), ToTensor()])\n",
    "\n",
    "training_set = datasets.FashionMNIST(root='./', train=True, download=True, transform=compose_train)\n",
    "train_loader = t.utils.data.DataLoader(dataset=training_set, batch_size=batch_size, shuffle=True)\n",
    "\n",
    "testing_set = datasets.FashionMNIST(root='./', train=False, download=True, transform=ToTensor())\n",
    "\n",
    "data_name = 'Fashion'"
   ]
  },
  {
   "cell_type": "markdown",
   "metadata": {},
   "source": [
    "## Building the network\n",
    "\n",
    "A basic variational autoencoder can be broken down into three modules: the encoder network, the latent layer, and the decoder network. \n",
    "\n",
    "To build the networks, we use the Sequential object to build both the encoder and the decoder. To fit them together, we use the latent layer and the VAE class defined earlier. Each network uses SELU activation functions (see [here](https://arxiv.org/abs/1706.02515)).\n",
    "\n",
    "The sizes of the hidden layers are chosen after some experimentation."
   ]
  },
  {
   "cell_type": "code",
   "execution_count": 259,
   "metadata": {},
   "outputs": [],
   "source": [
    "# We name the network here for convenience.\n",
    "model_name = 'flat_vae_model'\n",
    "latent_dim = 32\n",
    "\n",
    "#Build networks\n",
    "encoder_net = nn.Sequential(\n",
    "    ReshapeLayer((28**2,)),\n",
    "    nn.utils.weight_norm(nn.Linear(28**2, 256)),\n",
    "    nn.SELU(),\n",
    "    nn.utils.weight_norm(nn.Linear(256, 128)),\n",
    "    nn.SELU(),\n",
    "    nn.utils.weight_norm(nn.Linear(128, 64)),\n",
    "    nn.SELU(),\n",
    ")\n",
    "\n",
    "latent_net = LatentLayer(64, latent_dim)\n",
    "\n",
    "decoder_net = nn.Sequential(\n",
    "    nn.utils.weight_norm(nn.Linear(latent_dim, 64)),\n",
    "    nn.SELU(),\n",
    "    nn.utils.weight_norm(nn.Linear(64, 128)),\n",
    "    nn.SELU(),\n",
    "    nn.utils.weight_norm(nn.Linear(128, 256)),\n",
    "    nn.SELU(),\n",
    "    nn.utils.weight_norm(nn.Linear(256, 28**2)),\n",
    "    ReshapeLayer((1, 28, 28)),\n",
    ")\n",
    "\n",
    "model = VAE(encoder_net, latent_net, decoder_net)"
   ]
  },
  {
   "cell_type": "raw",
   "metadata": {},
   "source": [
    "#We name the network here for convenience.\n",
    "model_name = 'conv_vae_model'\n",
    "#Build networks\n",
    "latent_dim = 32\n",
    "final_size = 6\n",
    "filters = 32\n",
    "\n",
    "encoder_net = nn.Sequential(\n",
    "    nn.Conv2d(1, filters, 5, padding=2),\n",
    "    nn.MaxPool2d(3, 2),\n",
    "    nn.SELU(),\n",
    "    nn.Conv2d(filters, 2*filters, 5, padding=2),\n",
    "    nn.MaxPool2d(3, 2),\n",
    "    nn.SELU(),\n",
    "    ReshapeLayer((2*filters*final_size**2,)),\n",
    ")\n",
    "\n",
    "latent_net = LatentLayer(2*filters*final_size**2, latent_dim)\n",
    "\n",
    "decoder_net = nn.Sequential(\n",
    "    nn.Linear(latent_dim, (2*filters)*(final_size**2)),\n",
    "    ReshapeLayer((2*filters, final_size, final_size)),\n",
    "    nn.SELU(),\n",
    "    nn.ConvTranspose2d(2*filters, 2*filters, 5),\n",
    "    nn.Upsample(scale_factor=1.5),\n",
    "    nn.SELU(),\n",
    "    nn.ConvTranspose2d(2*filters, filters, 5),\n",
    "    nn.Upsample(scale_factor=1.5),\n",
    "    nn.SELU(),\n",
    "    nn.ConvTranspose2d(filters, filters, 5),\n",
    "    nn.SELU(),\n",
    "    nn.Conv2d(filters, 1, 5),\n",
    ")\n",
    "\n",
    "model = VAE(encoder_net, latent_net, decoder_net)"
   ]
  },
  {
   "cell_type": "markdown",
   "metadata": {},
   "source": [
    "## Training\n",
    "\n",
    "The model is called in training mode explicitely using `model.train(True)` and then moved to the gpu using `model.cuda(0)`. Removing the last command makes it run on the cpu instead. If the model is going to be moved to the gpu, it should be done before loading the parameters into the optimizer.\n",
    "\n",
    "Adam is used to optimize the model. SGD can also be used, but Adam has been more effective in my experience.\n",
    "\n",
    "To train the model, we iterate through the data set. We have to send the inputs to the gpu before we can pass it through the model. We keep a running average of the total loss for summary at the end. The last three lines of the inner loop are needed in pytorch. `optimizer.zero_grad()` zeros out all derivatives. `loss.backward()` uses autodifferentiation to compute derivatives starting at loss. `optimizer.step()` optimizes the model parameters based on the derivatives from the previous step.\n",
    "\n",
    "If the file have a pretrained model available, then that can be loaded by using the second code block instead."
   ]
  },
  {
   "cell_type": "code",
   "execution_count": 265,
   "metadata": {},
   "outputs": [
    {
     "name": "stdout",
     "output_type": "stream",
     "text": [
      "Epoch 1/20 - recon loss: 128.47 - latent loss: 11.566 - total loss: 140.03\n",
      "Epoch 2/20 - recon loss: 126.2 - latent loss: 11.71 - total loss: 137.91\n",
      "Epoch 3/20 - recon loss: 124.24 - latent loss: 11.845 - total loss: 136.09\n",
      "Epoch 4/20 - recon loss: 122.57 - latent loss: 12.019 - total loss: 134.59\n",
      "Epoch 5/20 - recon loss: 121.17 - latent loss: 12.138 - total loss: 133.31\n",
      "Epoch 6/20 - recon loss: 119.93 - latent loss: 12.234 - total loss: 132.16\n",
      "Epoch 7/20 - recon loss: 118.83 - latent loss: 12.316 - total loss: 131.14\n",
      "Epoch 8/20 - recon loss: 117.83 - latent loss: 12.412 - total loss: 130.24\n",
      "Epoch 9/20 - recon loss: 116.92 - latent loss: 12.516 - total loss: 129.44\n",
      "Epoch 10/20 - recon loss: 116.07 - latent loss: 12.601 - total loss: 128.67\n",
      "Epoch 11/20 - recon loss: 115.4 - latent loss: 12.682 - total loss: 128.08\n",
      "Epoch 12/20 - recon loss: 114.64 - latent loss: 12.768 - total loss: 127.41\n",
      "Epoch 13/20 - recon loss: 114.01 - latent loss: 12.855 - total loss: 126.87\n",
      "Epoch 14/20 - recon loss: 113.39 - latent loss: 12.918 - total loss: 126.3\n",
      "Epoch 15/20 - recon loss: 112.79 - latent loss: 12.995 - total loss: 125.79\n",
      "Epoch 16/20 - recon loss: 112.2 - latent loss: 13.068 - total loss: 125.27\n",
      "Epoch 17/20 - recon loss: 111.72 - latent loss: 13.147 - total loss: 124.86\n",
      "Epoch 18/20 - recon loss: 111.16 - latent loss: 13.243 - total loss: 124.4\n",
      "Epoch 19/20 - recon loss: 110.66 - latent loss: 13.326 - total loss: 123.99\n",
      "Epoch 20/20 - recon loss: 110.14 - latent loss: 13.389 - total loss: 123.53\n"
     ]
    }
   ],
   "source": [
    "epochs = 20\n",
    "learning_rate = 1e-4\n",
    "\n",
    "#Add to gpu before making the optimizer\n",
    "model.train(True)\n",
    "model.cuda(0)\n",
    "optimizer = t.optim.Adam(model.parameters(), lr=learning_rate)\n",
    "\n",
    "epoch_summary_text = '\\rEpoch {0}/{1}'\n",
    "loss_summary_text = '{0} loss: {1:.5}'\n",
    "\n",
    "percent_complete = '\\r{0:.1%}'\n",
    "\n",
    "n_data = len(training_set)\n",
    "for epoch in range(epochs):\n",
    "    average_latent = 0\n",
    "    average_recon = 0\n",
    "    \n",
    "    for n_batch, (x, _) in enumerate(train_loader):\n",
    "        x = x.cuda()\n",
    "        \n",
    "        x_pred, (mu, var) = model(x)\n",
    "        \n",
    "        #compute loss\n",
    "        latent_loss = KL(mu, var)\n",
    "        recon_loss = bce(x_pred, x)/batch_size\n",
    "        loss = recon_loss+latent_loss\n",
    "        \n",
    "        #Compute average\n",
    "        average_latent += (latent_loss-average_latent)/(n_batch+1)\n",
    "        average_recon += (recon_loss-average_recon)/(n_batch+1)\n",
    "\n",
    "        #Zero gradients, perform a backward pass, and update the weights.\n",
    "        optimizer.zero_grad()\n",
    "        loss.backward()\n",
    "        optimizer.step()\n",
    "\n",
    "        #Print percent complete\n",
    "        print(percent_complete.format(batch_size*n_batch/n_data), end='')\n",
    "\n",
    "    #Create summary loss\n",
    "    epoch_summary = epoch_summary_text.format(epoch+1, epochs)\n",
    "    latent_summary = loss_summary_text.format('latent', average_latent)\n",
    "    recon_summary = loss_summary_text.format('recon', average_recon)\n",
    "    total_summary = loss_summary_text.format('total', average_latent+average_recon)\n",
    "    print(epoch_summary, recon_summary, latent_summary, total_summary, sep=' - ')\n",
    "    \n",
    "t.save(model.state_dict(), file_path.format(data_name, model_name))"
   ]
  },
  {
   "cell_type": "raw",
   "metadata": {},
   "source": [
    "model.load_state_dict(t.load(file_path.format(data_name, model_name), map_location='cpu'))"
   ]
  },
  {
   "cell_type": "markdown",
   "metadata": {},
   "source": [
    "# Image Generation\n",
    "\n",
    "## Image Reconstruction\n",
    "\n",
    "A VAE can be used to reconstruct examples. This is shown below. The images in the top row are the originals, while the images in the bottom row are the reconstructions. This VAE tends to blur examples together. That is, images tend towards their most generic, with colors and edges being blurred. There are a few ways to approach fixing this, which are mentioned above."
   ]
  },
  {
   "cell_type": "code",
   "execution_count": 261,
   "metadata": {},
   "outputs": [],
   "source": [
    "import matplotlib.pylab as plt\n",
    "from random import sample\n",
    "\n",
    "def image_plot(axis, image):\n",
    "    axis.imshow(image.view(28,28), cmap='Greys')"
   ]
  },
  {
   "cell_type": "code",
   "execution_count": 270,
   "metadata": {},
   "outputs": [
    {
     "data": {
      "image/png": "[encoded data removed]",
      "text/plain": [
       "<Figure size 1152x216 with 22 Axes>"
      ]
     },
     "metadata": {},
     "output_type": "display_data"
    }
   ],
   "source": [
    "#Set up picture\n",
    "n_images = 11\n",
    "ax_settings = {'aspect':'equal', 'xticklabels':[], 'yticklabels':[], 'xticks':[], 'yticks':[]}\n",
    "fig, ax = plt.subplots(2, n_images, subplot_kw=ax_settings, figsize=(n_images*3//2, 3))\n",
    "\n",
    "\n",
    "model.cpu()\n",
    "model.eval()\n",
    "with torch.no_grad():\n",
    "    image_sample = sample(list(testing_set), n_images)\n",
    "    #Find the mean in latent space\n",
    "    for index, (image, _) in enumerate(image_sample):\n",
    "        image = image.view((1,)+image.shape)\n",
    "        recon_image, _ = model(image)\n",
    "\n",
    "        image_plot(ax[0, index], image)\n",
    "        image_plot(ax[1, index], t.sigmoid(recon_image))"
   ]
  },
  {
   "cell_type": "markdown",
   "metadata": {},
   "source": [
    "## Latent Sampling\n",
    "\n",
    "My interest in VAE are mostly tied to the fact that you can use them to generate new images. In this portion, we sample a random variable and use that to create a new image. That is, once a network is trained, we can use it to create new images."
   ]
  },
  {
   "cell_type": "code",
   "execution_count": 269,
   "metadata": {},
   "outputs": [
    {
     "data": {
      "image/png": "[encoded data removed]",
      "text/plain": [
       "<Figure size 1620x108 with 15 Axes>"
      ]
     },
     "metadata": {},
     "output_type": "display_data"
    }
   ],
   "source": [
    "n_images = 15\n",
    "fig, ax = plt.subplots(1, n_images, subplot_kw=ax_settings, figsize=(n_images*3/2, 3/2))\n",
    "with torch.no_grad():\n",
    "    for index in range(n_images):\n",
    "        latent_sample = t.randn(1, latent_dim)\n",
    "        image = model.decoder(latent_sample)\n",
    "        image_plot(ax[index], t.sigmoid(image))"
   ]
  },
  {
   "cell_type": "markdown",
   "metadata": {},
   "source": [
    "## Distribution of examples in the latent space\n",
    "\n",
    "Below we can see a scatter plot of the means of each example. The groups tend towards being distributed in an elliptic manner. This is due to our diagonal assumption on variance. Using IVF can improve the distribution of the examples.\n",
    "\n",
    "Note: The plot is fairly meaningless unless the latent dimension is equal to 2. To get around this, you can use a dimension reduction technique (e.g. t-SNE, umap) to reduce to two dimensions."
   ]
  },
  {
   "cell_type": "code",
   "execution_count": 268,
   "metadata": {},
   "outputs": [
    {
     "data": {
      "image/png": "[encoded data removed]",
      "text/plain": [
       "<Figure size 432x288 with 1 Axes>"
      ]
     },
     "metadata": {
      "needs_background": "light"
     },
     "output_type": "display_data"
    }
   ],
   "source": [
    "fig, ax = plt.subplots(1, 1)\n",
    "n_images = len(testing_set)//10\n",
    "\n",
    "outputs = t.zeros((10, 2, n_images))\n",
    "with torch.no_grad():\n",
    "    for index in range(n_images):\n",
    "        image, label = testing_set[index]\n",
    "        _, (mean, _) = model(image)\n",
    "        outputs[label, 0, index] = mean[0][0]\n",
    "        outputs[label, 1, index] = mean[0][1]\n",
    "        \n",
    "    for index, label in enumerate(testing_set.classes):\n",
    "        ax.scatter(outputs[index, 0, :], outputs[index, 1, :], label=label)\n",
    "    ax.legend()"
   ]
  },
  {
   "cell_type": "code",
   "execution_count": null,
   "metadata": {},
   "outputs": [],
   "source": []
  }
 ],
 "metadata": {
  "kernelspec": {
   "display_name": "Python 3",
   "language": "python",
   "name": "python3"
  },
  "language_info": {
   "codemirror_mode": {
    "name": "ipython",
    "version": 3
   },
   "file_extension": ".py",
   "mimetype": "text/x-python",
   "name": "python",
   "nbconvert_exporter": "python",
   "pygments_lexer": "ipython3",
   "version": "3.7.4"
  }
 },
 "nbformat": 4,
 "nbformat_minor": 2
}
