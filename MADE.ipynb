{
 "cells": [
  {
   "cell_type": "markdown",
   "metadata": {},
   "source": [
    "# MADE (Masked Autoencoders for Distribution Estimation)\n",
    "\n",
    "Below is an implementation of [MADE](https://arxiv.org/abs/1502.03509). Like an autoencoder, this network tries to recreate the input. Unlike an autoencoder, it has a significant constraint: each pixel is only allowed to depend on the pixels that come before it. This means the second pixel depends only on the first, the third on the first and second, and so on. This is described in the paper by saying $x_d = f(x_{<d})$, where $x_{<d} = (x_1, x_2, \\dots, x_{d-1})$. This is called the *autoregressive property*, tying it to [autoregressive models](https://en.wikipedia.org/wiki/Autoregressive_model).\n",
    "\n",
    "The way this property is achieved in the model is by selectively masking weights to hide inputs and connections. Normally, the linear layer is $b+Ax$, where $b$ is the bias, $A$ is a learned matrix and $x$ is the input. For MADE, we also have a mask matrix $M$, which has only $0$s and $1$S, and use $b+(M\\odot A)x$. (The operator $\\odot$ is pointwise multiplication.) The mask construction is detailed in the paper. The important fact is that the masks are constructed in order to force the autoregressive property.\n",
    "\n",
    "The implementation of MADE here includes most of the features mentioned in the paper, including:\n",
    "* Mask recycling. To avoid the computational work of generating a mask for every batch, we instead generate the masks at creation and cycle through them. This effectively limits us to a few specific masks. In the paper, they note that more than 64 masks tends to degrade performance. In the implementation below, I store the seeds used to create the masks as part of the model. This allows us to regenerate the masks when we reload the model. We could also store the masks, but this would the size of the model would then grow directly proportional to the number of masks.\n",
    "* Dynamic masks. In this situation, we change the mask every batch. It's worth noting that there is an implicit bound on the number of masks (as there are only so many mask matrices that can be chosen), and so there is a (large) finite number of masks. As noted above, this suffers from performance issues, which I have now seen for myself.\n",
    "* Direct connection layer. If we are using a deep MADE model, then this serves as a shortcut layer. This is a layer separate from the deep network that takes in the input, feeds it through this layer, and then combines it with the result of the second-to-last layer of the deep network. This combined result is then fed into the last layer. Normally, the output of the last layer would be $f(b_{n}+(M_{n}\\odot A_{n})x_{n-1})$. With a direct connection layer, the output becomes $f(b_{n}+(M_{n}\\odot A_{n})x_{n-1}+L x_0)$, where $L$ is a strictly lower triangular matrix that serves as the direct connection. The strictly lower triangularity is necessary to keep the autoregressive property.\n",
    "* Mask weights. These are weights that serves as a bias on the assigned mask. Rather than using $b+(M\\odot A)x$ as above, we use $b+(M\\odot A)x + (M \\odot Q)\\mathbf{1}$, where $Q$ is the mask weight and $\\mathbf{1}$ is a vector with $1$ for every entry. In effect, $Q$ should serve to stabilize the bias $b$ against changes that might occur from changing the mask. It's worth noting that $Q$ is necessarily the same size as $A$ in this formulation, and so it has drastic impacts on the size of the model. It also didn't seem to have positive effects on the image reconstructions, so I have left it to be false. A less memory intense version would be to use $Mq$ instead of $(M \\odot Q)\\mathbf{1}$, where $q$ is a vector instead. In this situation, $q$ would have `in_features` parameters, while $Q$ has `(in_features)*(out_features)` parameters. I haven't had a chance to determine if this is effective.\n",
    "* 'Conditional' or 'deterministic' inputs. This isn't mentioned in the paper, but I included it so that I can have an extra deterministic parameter be used as part of the input. These are not masked, and are meant to transmit high level information that will be used in the reconstruction. In a basic use case, we could provide as input a tensor holding the values for an image, and a label of the image."
   ]
  },
  {
   "cell_type": "markdown",
   "metadata": {},
   "source": [
    "## Code\n",
    "### MADE"
   ]
  },
  {
   "cell_type": "code",
   "execution_count": 1,
   "metadata": {},
   "outputs": [],
   "source": [
    "import torch as t\n",
    "import torch.nn as nn\n",
    "import torch.nn.functional as F\n",
    "import torch.utils.data as data\n",
    "import numpy as np"
   ]
  },
  {
   "cell_type": "code",
   "execution_count": 2,
   "metadata": {},
   "outputs": [],
   "source": [
    "class MaskedLinear(nn.Linear):\n",
    "    '''\n",
    "    Defines a masked linear layer by adding a feature mask. The mask is multiplied (element-wise) with\n",
    "    the linear weights to selectively zero out features. \n",
    "    \n",
    "    :param in_features: (int)\n",
    "    :param out_features: (int)\n",
    "    :param mask_conditioning: (bool)\n",
    "    :param bias: (bool)\n",
    "    '''\n",
    "    def __init__(self, in_features, out_features, mask_conditioning=False, bias=True):\n",
    "        super(MaskedLinear, self).__init__(in_features, out_features, bias)\n",
    "        self.mask = t.ones_like(self.weight)\n",
    "        if mask_conditioning:\n",
    "            self.mask_weight = nn.Parameter(t.Tensor(out_features, in_features))\n",
    "            nn.init.kaiming_uniform_(self.mask_weight, a=np.sqrt(5))\n",
    "        else:\n",
    "            self.register_parameter('mask_weight', None)\n",
    "            \n",
    "    def set_mask(self, new_mask):\n",
    "        assert new_mask.T.shape == self.weight.shape, \\\n",
    "            'Mask needs to be the same shape as weight, but recieved {0} and {1}'.format(new_mask.shape, self.weight.shape)\n",
    "        self.mask = t.tensor(new_mask.T, dtype=self.weight.dtype, device=self.weight.device)\n",
    "            \n",
    "    def forward(self, input):\n",
    "        mask = self.mask.to(device=input.device)\n",
    "        x = F.linear(input, mask*self.weight, self.bias)\n",
    "        if self.mask_weight is not None:\n",
    "            x += F.linear(t.ones_like(input), mask*self.mask_weight)\n",
    "        return x"
   ]
  },
  {
   "cell_type": "code",
   "execution_count": 3,
   "metadata": {},
   "outputs": [],
   "source": [
    "class MADE(nn.Module):\n",
    "    '''\n",
    "    Defines a masked autoencoder using masked linear layers. \n",
    "    \n",
    "    :params layer_widths: [int], widths of each layer. The first entry should be\n",
    "        the input size. The last entry should be the output size. It is expected that\n",
    "        the output size is a multiple of the input size. If this is not possible,\n",
    "        consider setting some of the input variables to conditions.\n",
    "    :params num_masks: (int, optional) The number of masks to use. If set to 0, then\n",
    "        we generate a new mask every call during training. Otherwise, we generate\n",
    "        a fixed number of masks to cycle through during training.\n",
    "    :params in_conditions: (int, opt) Size of the variable $c$ to condition the \n",
    "        input on. If 0, then the model recreates x with no additional input. \n",
    "        Otherwise, the model expects an additional input c to be used for recreating\n",
    "        x. To clarify, if in_conditions = 0, then we construct p(x). Otherwise, we\n",
    "        construct p(x|c).\n",
    "    :params connectivity_agnostic: (Bool, opt) When true, every mask will have\n",
    "        a different connectivity. Otherwise, every mask uses the same connectivity.\n",
    "    :params order_agnostic: (Bool, opt) When true, each mask will have a\n",
    "        randomized ordering of inputs. Otherwise, the original ordering of the input\n",
    "        vector is used.\n",
    "    :params direct_connection: (Bool, opt) When true, the final output will be adjusted\n",
    "        using an extra weight matrix. In order to satisfy the autoregressive property,\n",
    "        the weight matrix is strictly lower triangular.\n",
    "    :params mask_conditioning: (Bool, opt) When true, each MaskedLinear layer will also\n",
    "        create a mask conditioning weight matrix. This weight matrix adjusts the output\n",
    "        of the layer depending on the mask. Otherwise, the layer will be a simple\n",
    "        masked linear layer. See MaskedLinear for more detail.\n",
    "    :params seeds: ([int], opt) Sets the seed used to generate the masks. These are\n",
    "        used to recreate the masks when the model is reloaded so that the masks\n",
    "        themselves do not have to be saved.\n",
    "    '''\n",
    "    def __init__(self, \n",
    "                 layer_widths, \n",
    "                 num_masks=1,\n",
    "                 in_conditions=0,\n",
    "                 connectivity_agnostic=True, \n",
    "                 order_agnostic=True,\n",
    "                 direct_connection=False,\n",
    "                 mask_conditioning=False,\n",
    "                 seeds=None):\n",
    "        assert (layer_widths[-1] % layer_widths[0]) == 0, \\\n",
    "            'layer_width[-1] should be a multiple of layer_width[0].'\n",
    "        super(MADE, self).__init__()\n",
    "        #Save parameters\n",
    "        self.in_features = layer_widths[0]\n",
    "        self.in_conditions = in_conditions\n",
    "        self.out_features = layer_widths[-1]\n",
    "        self.num_masks = num_masks        \n",
    "        self.connectivity_agnostic = connectivity_agnostic\n",
    "        self.order_agnostic = order_agnostic\n",
    "        #Store seeds used to create masks - this is more space efficient than storing the\n",
    "        #masks themselves, as each mask is as large as the weight matrix.\n",
    "        if num_masks > 0:\n",
    "            assert (seeds is None) or (len(seeds) == len(num_masks)), \\\n",
    "                'If seeds are specified, there should be a seed for every mask.'\n",
    "            if seeds is None:\n",
    "                seeds = np.frombuffer(np.random.bytes(8*num_masks), dtype='uint32')\n",
    "                seeds = t.from_numpy(seeds.astype('int64'))\n",
    "        else:\n",
    "            seeds = None\n",
    "        self.register_buffer('mask_seeds', seeds)\n",
    "        self.mask_idx = 0\n",
    "        \n",
    "        ## Construct feedforward network.\n",
    "        #get sizes\n",
    "        input_sizes, output_sizes = layer_widths[:-1], layer_widths[1:]\n",
    "        #Add number of conditions if used\n",
    "        input_sizes[0] += in_conditions\n",
    "        #make layers\n",
    "        layers = [MaskedLinear(s_in, s_out, mask_conditioning) for s_in, s_out in zip(input_sizes, output_sizes)]\n",
    "        self.layers = nn.ModuleList(layers)\n",
    "        #Add direct connection layer\n",
    "        if direct_connection:\n",
    "            self.direct = nn.Parameter(t.Tensor(layer_widths[0], layer_widths[-1]))\n",
    "            nn.init.kaiming_uniform_(self.direct, a=np.sqrt(5))\n",
    "        else:\n",
    "            self.register_parameter('direct', None)\n",
    "\n",
    "        #Generate the connectivity of the masks.\n",
    "        if not self.connectivity_agnostic:\n",
    "            #Reproducibility - if seeds are set, use first seed to generate the connectivity\n",
    "            #for all.\n",
    "            if seeds is not None:\n",
    "                seed = seeds[0]\n",
    "            else:\n",
    "                seed = None\n",
    "                \n",
    "            #If not agnostic, then use the same connectivity for all\n",
    "            self.connectivity = self.generate_connectivity(seed)\n",
    "        else:\n",
    "            #Otherwise, use a different one for each mask.\n",
    "            self.connectivity = None\n",
    "            \n",
    "        #Generate masks\n",
    "        if num_masks > 0:\n",
    "            masks = self.generate_masks()\n",
    "        else:\n",
    "            #If num_masks is negative, generate a new mask for every\n",
    "            #pass.\n",
    "            masks = None\n",
    "        self.masks = masks\n",
    "        \n",
    "    def generate_masks(self):\n",
    "        masks_list = []\n",
    "        for idx in range(self.num_masks):\n",
    "            layer_masks = self.generate_layer_masks(self.mask_seeds[idx])\n",
    "            masks_list.append(layer_masks)\n",
    "        return masks_list\n",
    "    \n",
    "    def generate_connectivity(self, seed=None):\n",
    "        rng = np.random.RandomState(seed)\n",
    "        connectivity = [rng.randint(1, self.in_features, size=self.layers[0].out_features)]\n",
    "        for layer in self.layers[1:]:\n",
    "            layer_connectivity = rng.randint(connectivity[-1].min(), self.in_features, size=layer.out_features)\n",
    "            connectivity.append(layer_connectivity)\n",
    "        return connectivity\n",
    "\n",
    "    def generate_layer_masks(self, seed=None):\n",
    "        rng = np.random.RandomState(seed)\n",
    "        m = [np.arange(self.in_features)]\n",
    "        #If it's order agnostic, we shuffle the input order.\n",
    "        if self.order_agnostic:\n",
    "            rng.shuffle(m[0])\n",
    "\n",
    "        #If it's connection agnostic, we change the connectivity.\n",
    "        if self.connectivity_agnostic:\n",
    "            connectivity = self.generate_connectivity(seed)\n",
    "        else:\n",
    "            connectivity = self.connectivity\n",
    "        m.extend(connectivity)\n",
    "\n",
    "        # construct the mask matrices\n",
    "        L = len(self.layers)\n",
    "        masks = [m[index][:,None] <= m[index+1][None,:] for index in range(L)]\n",
    "        masks.append(m[L][:,None] < m[0][None,:])\n",
    "        #First mask needs to be fixed for conditioned data\n",
    "        if self.in_conditions > 0:\n",
    "            extra_connections = np.ones((self.in_conditions, self.layers[0].out_features))\n",
    "            masks[0] = np.concatenate([masks[0], extra_connections], 0)\n",
    "        return masks\n",
    "    \n",
    "    def next_mask(self):\n",
    "        if self.num_masks == 1:\n",
    "            #We don't need to change the mask\n",
    "            return\n",
    "        elif self.num_masks == 0:\n",
    "            masks = self.generate_layer_masks()\n",
    "        else:\n",
    "            self.mask_idx = (self.mask_idx+1) % self.num_masks\n",
    "            masks = self.masks[self.mask_idx]\n",
    "        \n",
    "        for layer, mask in zip(self.layers, masks):\n",
    "            layer.set_mask(mask)\n",
    "    \n",
    "    def forward(self, input, condition=None):\n",
    "        '''\n",
    "        Does a forward pass.\n",
    "        \n",
    "        :param input: (t.Tensor)\n",
    "        :param condition: (t.Tensor)\n",
    "        '''\n",
    "        if condition is not None:\n",
    "            assert self.in_conditions == condition.shape[1], \\\n",
    "                'Expected {} conditions, but recieved condition of size {}'.format(self.in_conditions, condition.shape[1:])\n",
    "            x = t.cat([input, condition], 1)\n",
    "        else:\n",
    "            assert self.in_conditions == 0, 'This model does not use a conditioning variable.'\n",
    "            x = input\n",
    "\n",
    "        if self.training:\n",
    "            self.next_mask()\n",
    "\n",
    "        for layer in self.layers[:-1]:\n",
    "            x = F.selu(layer(x))\n",
    "        x = self.layers[-1](x)\n",
    "        if self.direct is not None:\n",
    "            #We use an additional weight matrix to augment the final output.\n",
    "            #The matrix must be strictly lower triangular in order to satisfy\n",
    "            #the autoregressive property.\n",
    "            x += F.linear(input, self.direct.tril(-1))\n",
    "        return x\n",
    "\n",
    "    def ensemble(self, input, condition=None, votes=None, reduction='none'):\n",
    "        '''\n",
    "        Run forward on each input, condition using different masks. The number\n",
    "        of votes cannot be more than the number of masks. If reduction is 'none',\n",
    "        then each mask will return an output. If it is 'mean', then only the\n",
    "        mean of the votes will be returned.\n",
    "        \n",
    "        This is useful for viewing reconstructions by the model, as the mean\n",
    "        reconstruction is typically more accurate.\n",
    "        :param input: (t.Tensor)\n",
    "        :param condition: (t.Tensor)\n",
    "        :param votes: (Int, opt) Number of different masks to cycle through\n",
    "        :param reduction: (Str, opt) Whether to return each vote or the\n",
    "            average vote.\n",
    "        '''\n",
    "        votes = votes or self.num_masks\n",
    "        assert votes > 0, 'Votes should be a positive integer.'\n",
    "        assert (votes <= self.num_masks) or (self.num_masks == 0), \\\n",
    "            'Votes cannot be more than the number of masks ({}).'.format(self.num_masks)\n",
    "        prediction = t.zeros((votes,) + input.shape, device=input.device)\n",
    "        for idx in range(votes):\n",
    "            self.next_mask()\n",
    "            prediction[idx,:] = t.sigmoid(self.forward(input, condition))\n",
    "        if reduction == 'mean':\n",
    "            return prediction.mean(0)\n",
    "        else:\n",
    "            return prediction\n",
    "        \n",
    "    def unmask(self):\n",
    "        '''\n",
    "        sets all masks to be identically 1, effectively removing all masks.\n",
    "        '''\n",
    "        for layer in self.layers:\n",
    "            mask_shape = layer.weight.shape\n",
    "            layer.set_mask(np.ones(mask_shape).T)"
   ]
  },
  {
   "cell_type": "markdown",
   "metadata": {},
   "source": [
    "### Training setup\n",
    "\n",
    "Training is done using pytorch lightning."
   ]
  },
  {
   "cell_type": "code",
   "execution_count": 4,
   "metadata": {},
   "outputs": [],
   "source": [
    "import torch.utils.data as data\n",
    "import torchvision.datasets as datasets\n",
    "import torchvision.transforms as transforms\n",
    "import pytorch_lightning as pl"
   ]
  },
  {
   "cell_type": "code",
   "execution_count": 5,
   "metadata": {},
   "outputs": [],
   "source": [
    "class MADE_system(pl.LightningModule):\n",
    "    def __init__(self, model, batch_size=128):\n",
    "        super(MADE_system, self).__init__()\n",
    "        self.net = model\n",
    "        self.batch_size = batch_size\n",
    "\n",
    "    def forward(self, x):\n",
    "        return self.net.forward(x)\n",
    "\n",
    "    def training_step(self, batch, batch_nb):\n",
    "        x, y = batch\n",
    "        x = x.view((-1, 28**2))\n",
    "        x_hat = self.forward(x)\n",
    "        \n",
    "        loss = BCELoss(x_hat, x)\n",
    "        \n",
    "        self.net.next_mask()\n",
    "        return {'loss': loss}\n",
    "\n",
    "    def validation_step(self, batch, batch_nb):\n",
    "        x, y = batch\n",
    "        x = x.view((-1, 28**2))\n",
    "        x_hat = self.forward(x)\n",
    "        \n",
    "        loss = BCELoss(x_hat, x)\n",
    "        \n",
    "        self.net.next_mask()\n",
    "        return {'loss': loss}\n",
    "\n",
    "    def validation_end(self, outputs):\n",
    "        # OPTIONAL\n",
    "        avg_loss = t.stack([x['loss'] for x in outputs]).mean()\n",
    "        return {'avg_loss': avg_loss}\n",
    "\n",
    "    def configure_optimizers(self):\n",
    "        # Same optimizer used in tf implementation\n",
    "        return t.optim.AdamW(self.net.parameters(), lr=0.001)\n",
    "\n",
    "    @pl.data_loader\n",
    "    def tng_dataloader(self):\n",
    "        #Set up training data. We use these to optimize our network.\n",
    "        dset = datasets.MNIST(root='./', train=True, download=False, transform=transforms.ToTensor())\n",
    "        training_set = data.Subset(dset, range(50000))\n",
    "        return data.DataLoader(training_set, batch_size=self.batch_size, num_workers=4)\n",
    "\n",
    "    @pl.data_loader\n",
    "    def val_dataloader(self):\n",
    "        #Set up validation data. We use the last 10k for training. These are never used for optimization.\n",
    "        dset = datasets.MNIST(root='./', train=True, download=False, transform=transforms.ToTensor())\n",
    "        testing_set = data.Subset(dset, range(50000+1,60000))\n",
    "        return data.DataLoader(testing_set, batch_size=self.batch_size)"
   ]
  },
  {
   "cell_type": "code",
   "execution_count": 6,
   "metadata": {},
   "outputs": [],
   "source": [
    "def BCELoss(input, target):\n",
    "    #Implements binary cross entropy with logits that takes a batch average.\n",
    "    loss = F.binary_cross_entropy_with_logits(input, target)\n",
    "    loss = loss.mean(0)\n",
    "    return loss.sum()"
   ]
  },
  {
   "cell_type": "markdown",
   "metadata": {},
   "source": [
    "### Training"
   ]
  },
  {
   "cell_type": "code",
   "execution_count": 7,
   "metadata": {},
   "outputs": [],
   "source": [
    "from pytorch_lightning import Trainer\n",
    "from pytorch_lightning.callbacks import ModelCheckpoint, EarlyStopping"
   ]
  },
  {
   "cell_type": "code",
   "execution_count": 8,
   "metadata": {},
   "outputs": [],
   "source": [
    "checkpoint_callback = ModelCheckpoint(\n",
    "    filepath='./models/MADE',\n",
    "    save_best_only=True,\n",
    "    verbose=True,\n",
    "    monitor='avg_loss',\n",
    "    mode='min',\n",
    ")"
   ]
  },
  {
   "cell_type": "code",
   "execution_count": 9,
   "metadata": {},
   "outputs": [],
   "source": [
    "layer_widths = [28**2,] + [1000]*2 + [28**2,]\n",
    "num_masks = 64\n",
    "model = MADE(layer_widths, num_masks, direct_connection=True, mask_conditioning=False)"
   ]
  },
  {
   "cell_type": "raw",
   "metadata": {
    "scrolled": true
   },
   "source": [
    "system = MADE_system(model, batch_size=500)\n",
    "trainer = Trainer(gpus=[0],\n",
    "                  max_nb_epochs=100,\n",
    "                  checkpoint_callback=checkpoint_callback)\n",
    "\n",
    "trainer.fit(system)\n",
    "t.save(model.state_dict(), './models/MADE.pkl')"
   ]
  },
  {
   "cell_type": "code",
   "execution_count": 10,
   "metadata": {},
   "outputs": [
    {
     "data": {
      "text/plain": [
       "<All keys matched successfully>"
      ]
     },
     "execution_count": 10,
     "metadata": {},
     "output_type": "execute_result"
    }
   ],
   "source": [
    "model.load_state_dict(t.load('./models/MADE.pkl', map_location='cpu'))"
   ]
  },
  {
   "cell_type": "markdown",
   "metadata": {},
   "source": [
    "## Image Reconstruction\n",
    "\n",
    "Below I show off some image reconstructions. This is because it's an effective (and pleasing) way to see what their results.\n",
    "\n",
    "### Ensemble Reconstruction\n",
    "The reconstructions performed by the MADE model using a single mask tend to be fairly noisy. This makes sense when you consider the impact of the autoregressive property. As each pixel can only depend on prior pixels, we run into an issue with the first pixel. Specifically, there is no input from the image for deciding that pixel. For any image, the first pixel will be the same. Due to the random connectivity and ordering used in training, the 'first pixel' is usually multiple pixels that get distributed around the image.\n",
    "\n",
    "To reduce the effects of noise, we can use ensembles to reconstruct an image. In this case, the ensemble is formed by running the image through the model for multiple masks. This is expensive, as it requires passing through the batch once for each mask. The result is more accurate since the initial noise from the model is diminished by taking the average. However, the ensemble will typically not be autoregressive."
   ]
  },
  {
   "cell_type": "code",
   "execution_count": 11,
   "metadata": {},
   "outputs": [],
   "source": [
    "import matplotlib.pylab as plt"
   ]
  },
  {
   "cell_type": "code",
   "execution_count": 12,
   "metadata": {},
   "outputs": [],
   "source": [
    "def image_plot(axis, image, **kwargs):\n",
    "    axis.imshow(image.view(28,28), cmap='Greys', **kwargs)"
   ]
  },
  {
   "cell_type": "code",
   "execution_count": 13,
   "metadata": {},
   "outputs": [],
   "source": [
    "n_images = 6\n",
    "\n",
    "images = datasets.MNIST(root='./', train=True, download=True, transform=transforms.ToTensor())\n",
    "test_loader = data.DataLoader(images, batch_size=n_images)\n",
    "samples = next(iter(test_loader))"
   ]
  },
  {
   "cell_type": "code",
   "execution_count": 14,
   "metadata": {},
   "outputs": [
    {
     "data": {
      "image/png": "[encoded data removed]",
      "text/plain": [
       "<Figure size 648x432 with 24 Axes>"
      ]
     },
     "metadata": {},
     "output_type": "display_data"
    }
   ],
   "source": [
    "#Set up picture\n",
    "ax_settings = {'aspect':'equal', 'xticklabels':[], 'yticklabels':[], 'xticks':[], 'yticks':[]}\n",
    "fig, ax = plt.subplots(4, n_images, subplot_kw=ax_settings, figsize=(n_images*3//2, 6))\n",
    "\n",
    "\n",
    "if num_masks == 0:\n",
    "    votes = 16\n",
    "else:\n",
    "    votes = num_masks\n",
    "\n",
    "model.cpu()\n",
    "model.eval()\n",
    "with t.no_grad():\n",
    "    images, _ = samples\n",
    "    images = images.view((n_images, 28**2))\n",
    "\n",
    "    recons = model.ensemble(images, votes=votes, reduction='none')\n",
    "\n",
    "\n",
    "    #Find the mean in latent space\n",
    "    for idx in range(n_images):\n",
    "        image_plot(ax[0, idx], images[idx, :])\n",
    "        image_plot(ax[1, idx], recons[0, idx, :])\n",
    "        image_plot(ax[2, idx], recons[:votes//4, idx, :].mean(0))\n",
    "        image_plot(ax[3, idx], recons[:, idx, :].mean(0))\n",
    "\n",
    "ax[0,-1].text(30.0, 14, 'Original')\n",
    "ax[1,-1].text(30.0, 14, 'Single mask')\n",
    "ax[2,-1].text(30.0, 14, '{} mask ensemble'.format(votes//4))\n",
    "ax[3,-1].text(30.0, 14, '{} mask ensemble'.format(votes))\n",
    "fig.suptitle('Image reconstructions by MADE ensemble')\n",
    "plt.savefig('./images/MADE-ensemble-reconstructions.png', bbox_inches='tight')"
   ]
  },
  {
   "cell_type": "markdown",
   "metadata": {},
   "source": [
    "### Unmasked Reconstruction\n",
    "\n",
    "I was curious about was the result of unmasking each layer. Doing a forward pass at this point no longer satisfies the autoregressive property, but I was interested in seeing the result. What I expected is that it would produce images between a single mask and an ensemble. The result achieved is below. While the reconstruction is recognized, the noise is still significant and the character strokes are broader. I tested the result after changing the number of masks. I had originally expected that removing the explicit bound would reduce the noise, but it made for significantly worse results. Similarly, using very few masks also produces poor results after unmasking.\n",
    "\n",
    "The image below is created by unmasking a 64 mask MADE model."
   ]
  },
  {
   "cell_type": "code",
   "execution_count": 15,
   "metadata": {},
   "outputs": [
    {
     "data": {
      "image/png": "[encoded data removed]",
      "text/plain": [
       "<Figure size 648x216 with 12 Axes>"
      ]
     },
     "metadata": {},
     "output_type": "display_data"
    }
   ],
   "source": [
    "model.unmask()\n",
    "#Set up picture\n",
    "ax_settings = {'aspect':'equal', 'xticklabels':[], 'yticklabels':[], 'xticks':[], 'yticks':[]}\n",
    "fig, ax = plt.subplots(2, n_images, subplot_kw=ax_settings, figsize=(n_images*3//2, 3))\n",
    "\n",
    "with t.no_grad():\n",
    "\n",
    "    recons = model(images)\n",
    "    #Find the mean in latent space\n",
    "    for idx in range(n_images):\n",
    "        image_plot(ax[0, idx], images[idx, :])\n",
    "        image_plot(ax[1, idx], t.sigmoid(recons[idx, :,]))\n",
    "fig.suptitle('Unmasking a Masked Autoencoder')\n",
    "plt.savefig('./images/MADE-unmasked-reconstructions.png')"
   ]
  },
  {
   "cell_type": "markdown",
   "metadata": {},
   "source": [
    "## Final Comments\n",
    "\n",
    "The reason I am interested in MADE is due to a paper on [Inverse Autoregressive Flow](https://arxiv.org/abs/1606.04934v2). The takeaway I want to emphasize is that a MADE network can be attached to a variational autoencoder in order to give it access to more flexible distributions. The autoregressive property is key to the loss estimate used for the latent variables. This is also why I add the conditional/deterministic input."
   ]
  }
 ],
 "metadata": {
  "kernelspec": {
   "display_name": "Python 3",
   "language": "python",
   "name": "python3"
  },
  "language_info": {
   "codemirror_mode": {
    "name": "ipython",
    "version": 3
   },
   "file_extension": ".py",
   "mimetype": "text/x-python",
   "name": "python",
   "nbconvert_exporter": "python",
   "pygments_lexer": "ipython3",
   "version": "3.7.4"
  }
 },
 "nbformat": 4,
 "nbformat_minor": 2
}
