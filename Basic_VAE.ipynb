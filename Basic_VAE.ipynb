{
 "cells": [
  {
   "cell_type": "markdown",
   "metadata": {},
   "source": [
    "# A Very Brief Look of Variational Autoencoders\n",
    "\n",
    "## Summary\n",
    "This notebook describes and implements a (basic) Variational Autoencoder (VAE) in pytorch. VAEs are a type of generative model. By providing a dataset, a variational autoencoder uses variational Bayesian methods to generate similar examples. Once trained, it can be used to turn noise into images.\n",
    "\n",
    "These notes are based off this [VAE tutorial](https://arxiv.org/abs/1606.05908) and the explanation provided in [these notes](https://deepgenerativemodels.github.io/notes/vae/). The target audience for this notebook is someone who has read about VAEs but want to see another explanation or an implementation. Further reading is provided below. If you are just interested in the implementation, you can skip the first half of this notebook.\n",
    "\n",
    "Finally, it should be known that $\\simeq$ is used below to denote that two values are equal up to a constant difference. Specifically, if $a \\simeq b$, then $a = b + \\text{constant}$. This is used as constants are ignored during optimization. This is not to be confused with $a \\approx b$, which means that a is approximately b."
   ]
  },
  {
   "cell_type": "markdown",
   "metadata": {},
   "source": [
    "## Training Objective\n",
    "Suppose we have a set of observations $D = \\{x_1, \\dots, x_N\\}$. We want to generate examples similar to the observations in $D$, but how do we start? One approach is to find a probability distribution $p$ such that $p(x)$ is high for $x$ similar to an observation in $D$, and low for dissimilar observations. However, if the observations are high dimensional, then the dependencies between dimensions can be complex. Untangling these dependencies can make finding $p$ difficult. To alleviate this, we can introduce a latent variable.\n",
    "\n",
    "A latent variable is a variable that is inferred from the observation. In the right situations, it encodes high level information that can be used to recreate the observation. Introducing this latent variable means that we are now looking for $p(x, z)$, where $z$ is our latent variable. We can break down this distribution into $p(x|z)p_\\ell(z)$. The benefit is that this gives us a generative process: we can first generate a $z$ according to $p_\\ell$ and then use $p(x|z)$ to generate an $x$.\n",
    "\n",
    "At this point, we can always recover $p(x)$ using integration as we have\n",
    "\n",
    "$$p(x) = \\int_\\mathcal{Z} p(x|z)p_\\ell(z)dz,$$\n",
    "\n",
    "where $\\mathcal{Z}$ is the space of all possible latent variables. However, this integral is generally intractable. This difficulty is important as our goal is to make $p$ similar to $p_D$. Instead of optimizing $p$ directly, we will use variational Bayesian methods.\n",
    "\n",
    "Variational Bayesian methods are aimed at approximation the posterior. We are attempting to approximate $p(z|x)$ with another distribution $q_\\lambda(z)$, where $\\lambda = \\lambda(x)$. We are forced to use an approximation as $p(z|x)$ is just as difficult to evaluate as $p(x)$. However, if we had the posterior $p(z|x)$, then we could find $p(x)$ using \n",
    "\n",
    "$$p(x) = \\frac{p(x, z)}{p(z|x)} \\approx \\frac{p(x, z)}{q_\\lambda(z)}.$$\n",
    "\n",
    "The benefit of introducing this is that we now have\n",
    "\n",
    "$$\\log p(x) \n",
    "\\geq \\int_\\mathcal{Z} q_\\lambda(z) \\log\\left(\\frac{p(x, z)}{q_\\lambda(z)}\\right) dz\n",
    "= \\mathbb{E}_{q_\\lambda}\\left[\\log(p(x, z)) - \\log(q_\\lambda(z))\\right].$$\n",
    "\n",
    "This lower bound (called the Evidence Lower Bound, or ELBO) is possible to approximate with an unbiased Monte Carlo estimator when $q$ is simple to sample from. (Big note: this estimate uses Jensen's inequality. See either tutorial above for a derivation.)"
   ]
  },
  {
   "cell_type": "markdown",
   "metadata": {},
   "source": [
    "## Variational Autoencoders\n",
    "### The probabilistic model\n",
    "Variational autoencoders are a type of latent variable model where we use a network to learn the distributions. The basic variational autoencoder was defined with specific distribution choices.\n",
    "\n",
    "The latent distribution $p_\\ell$ is chosen to be the standard normal $N(0, I)$. In this situation, we do not optimize over $p_\\ell$ as it does not change. This builds in the assumption that our latent variables are normally distributed.\n",
    "\n",
    "The posterior $q_\\lambda$ is a normal distribution. That is, $\\lambda(x) = (\\mu(x), \\Sigma(x))$ and $q_\\lambda = N(\\mu(x), \\Sigma(x))$. Generally $\\Sigma$ is restricted to be diagonal. This results in a factorized Gaussian (where each dimension is statistically independent). In this case, if $\\Sigma_{ii} = \\sigma_i^2$ (so that $\\sigma_i$ is the scale in the $i$th coordinate), then we specifically have\n",
    "\n",
    "$$-\\log q(z|x, \\theta) \n",
    "\\simeq \\sum_i \\left(\\frac{(x-\\mu_i)^2}{2\\sigma_i^2}+\\log \\sigma_i\\right).$$\n",
    "\n",
    "The distribution $p(x|z)$ is typically chosen to be either a normal distribution or a Bernoulli distribution, depending on the target data. We will use $x \\sim N(\\mu(z), I)$, so that we have that\n",
    "\n",
    "$$-\\log p(x|z) \\simeq \\tfrac{1}{2}\\Vert x-\\mu(z) \\Vert^2_2,$$\n",
    "\n",
    "which is a multiple of the mean squared error. If we chose $p(x|z)$ to be Bernoulli, then we would have binary cross entropy instead."
   ]
  },
  {
   "cell_type": "markdown",
   "metadata": {},
   "source": [
    "### The network\n",
    "To turn this into a variational autoencoder, we need to introduce some networks. In this situation, that means we use a network to learn the parameters for the distributions $p(x|z)$ and $q_\\lambda(z)$. In practice, we separate this into two modules that are both parameterized by $\\theta$.\n",
    "\n",
    "The first is the encoder $f_\\theta$. The encoder takes an observation $x$ and outputs statistical parameters used to determine the latent variable. This is done using\n",
    "\n",
    "$$f_\\theta(x) = \\lambda(x) = (\\mu_\\theta(x), \\Sigma_\\theta(x)).$$\n",
    "\n",
    "These parameters are then used for $q_\\lambda(z)$. An important note is that if we draw $z \\sim q_\\lambda$, then we have no way to recover the parameters $\\lambda$ for back propogation. To avoid this, we use the 'reparamiterization trick' and define $z$ as a transformation of a random variable. This means we draw $\\epsilon \\sim N(0, I)$ and let $z = \\mu+\\Sigma^{1/2}\\epsilon$, where $\\Sigma^{1/2}$ is the Choletsky factorization of $\\Sigma$ (effectively giving us a square root of the matrix). This is equivalent to sampling from $N(\\mu, \\Sigma)$ but allows us to differentiate $z$ (w.r.t. $\\theta$). The variable $\\epsilon$ can be used in our log probability to instead give us\n",
    "\n",
    "$$\\log q_\\lambda(z) \\simeq -\\sum_i \\left(\\tfrac{1}{2}\\epsilon_i^2+\\log \\sigma_i\\right).$$\n",
    "\n",
    "The second module is the decoder $g_\\theta$. The decoder turns a latent variable $z$ and outputs the statistical parameter $\\mu(z)$. More explicitely, we now have that\n",
    "\n",
    "$$-\\log p(x|z) \\simeq \\tfrac{1}{2}\\Vert x-g_\\theta(z) \\Vert^2_2.$$"
   ]
  },
  {
   "cell_type": "markdown",
   "metadata": {},
   "source": [
    "### Final form of the loss function\n",
    "With the choices above, we are now ready to write our loss function. We are trying to maximize $\\log p(x)$ for $x \\in D$. As Torch works by minimizing, this means we are going to instead minimize $-\\log p(x)$. We then replace this with the evidence lower bound to change goals to minimizing $-\\mathbb{E}_{q_\\lambda}\\left[\\log(p(x, z)) - \\log(q_{\\lambda}(z))\\right]$. If we expand the first term in the expectation, we have\n",
    "\n",
    "$$-\\log p(x, z) \n",
    "= -\\log (p(x|z)p_\\ell(z)) \n",
    "= - \\log p(x|z) - \\log p_\\ell(z) \n",
    "\\simeq \\tfrac{1}{2}\\Vert x-g_\\theta(z) \\Vert^2_2+\\tfrac{1}{2}\\Vert z \\Vert^2_2.$$\n",
    "\n",
    "This gives us a final loss function of \n",
    "$$-\\mathbb{E}_{q_\\lambda}\\left[\\log(p(x, z)) - \\log(q_\\lambda(z))\\right]\n",
    "= \\mathbb{E}_{q_\\lambda}\\left[\\log(q_\\lambda(z))-\\log(p(x, z))\\right] \n",
    "= \\mathbb{E}_{q_\\lambda}\\left[\\tfrac{1}{2}\\Vert x-g_\\theta(z) \\Vert^2_2 + \\tfrac{1}{2}\\Vert z \\Vert^2_2 -\\sum_i \\left(\\tfrac{1}{2}\\epsilon_i^2+\\log \\sigma_i\\right)\\right].$$\n",
    "\n",
    "We compute this last quantity using Monte Carlo methods, meaning we approximate it by using a number of samples.\n",
    "\n",
    "It's worth noting what exactly we are getting when we optimize using this bound. The $\\epsilon$ term can be ignored, as it's not subject to our parameters. The first term, $\\Vert x - g_\\theta(z) \\Vert^2_2$, is optimized by choosing parameters for the decoder that produce accurate reconstructions. The term $\\Vert z \\Vert^2_2$ is optimized by making the latent variable small; this is most directly done by decreasing the mean. The final term, $-\\sum_i \\log \\sigma_i$, has more flexibility as it's able to take both positive and negative values. If $\\sigma_i$ is small, then $z$ has little variance, but $-\\log\\sigma_i$ will be large. On the other hand, if $\\sigma_i$ is large, then $z$ has a lot of variance (which makes the decoder's job harder) but $-\\log\\sigma_i$ is now a negative value. In essence, the scale parameter can reduce the loss if chosen to be large, but this is only feasible if the decoder can still make accurate representations. Meanwhile, the entire expectation can be made smaller by adjusting $q_\\lambda$."
   ]
  },
  {
   "cell_type": "markdown",
   "metadata": {},
   "source": [
    "#### Alternate loss function\n",
    "An alternate choice for lower bound uses the [Kullback-Leibler (KL) divergence](http://mathworld.wolfram.com/Kullback-LeiblerDistance.html), $\\text{KL}(q||p_\\ell)$. With $q_\\lambda$ and $p_\\ell$ as chosen above, the divergence term can be computed analytically as\n",
    "\n",
    "$$\\text{KL}(q_\\lambda || p_\\ell) \\simeq \\tfrac{1}{2}\\sum_i (\\sigma_i^2 + \\mu_i^2 - \\log \\sigma_i^2 - 1).$$\n",
    "\n",
    "Using this with a variant evidence lower bound, we have\n",
    "\n",
    "$$ \n",
    "-\\log p(x)\n",
    "\\leq -\\mathbb{E}_{q_\\lambda}\\left[\\log(p(x|z))\\right] + \\text{KL}(q_\\lambda||p_\\ell)\n",
    "\\simeq \\mathbb{E}_{q_\\lambda}\\left[\\tfrac{1}{2}\\Vert x - g_\\theta(z) \\Vert^2_2 \\right] \n",
    "+ \\tfrac{1}{2}\\sum_i (\\sigma_i^2 + \\mu_i^2 - \\log \\sigma_i^2 - 1). \n",
    "$$\n",
    "\n",
    "While this form of loss can be useful, it turns out that the KL loss is too restrictive in some cases. Specifically, we have that if $q_\\lambda(z) = p(z|x)$, then the Monte Carlo loss above will be $0$, but the KL loss here will still have a constant entropy. Thus, the Monte Carlo error above should be used if we suspect that we can learn $\\lambda$ well enough that $q_\\lambda(z) \\approx p(z|x)$. This is explained in [Sticking the Landing](https://arxiv.org/abs/1703.09194) by Roeder et al, which also notes that the MC form is easier to apply when using normalizing flows.\n",
    "\n",
    "Similar to above, the result of optimization on the individual components can be interpreted for this loss. The new term, the KL divergence, is minimized when $q_\\lambda$ has the same distribution $p_\\ell$. Thus, the KL term pushes the posterior distribution towards being like the latent distribution. It's worth noting that this is not necessarily desirable, as $q_\\lambda$ is supposed to approximate $p(z|x)$. More directly, it's encouraging the encoded mean to be close to $0$ and encouraging $\\sigma_i$ to be close to 1 (so that $\\sigma_i^2-1+\\log \\sigma_i = 0$)."
   ]
  },
  {
   "cell_type": "markdown",
   "metadata": {},
   "source": [
    "## Code\n",
    "\n",
    "Below is the code for the network. You can run it in the notebook with (probably) few modifications needed. You can also copy the code into a python file. The necessary packages are pytorch, torchvision for the computations, and matplotlib for the plots."
   ]
  },
  {
   "cell_type": "code",
   "execution_count": 1,
   "metadata": {},
   "outputs": [],
   "source": [
    "import torch as t\n",
    "import torch.nn as nn\n",
    "import torch.nn.functional as F"
   ]
  },
  {
   "cell_type": "markdown",
   "metadata": {},
   "source": [
    "### Layers\n",
    "#### Statistics Layer\n",
    "\n",
    "The statistics layer outputs the mean and scale (i.e. standard deviation) that will be used to generate the latent variables. It returns the latent variable and the associated loss. Below both the KL and fully Monte Carlo loss are included."
   ]
  },
  {
   "cell_type": "code",
   "execution_count": 2,
   "metadata": {},
   "outputs": [],
   "source": [
    "class LatentLayer(nn.Module):\n",
    "    '''\n",
    "    Creates a layer that takes an input and outputs latent parameters.\n",
    "    :param input_size: (int) Size of input\n",
    "    :param latent_size: (int) Number of latent dimensions\n",
    "    '''\n",
    "    def __init__(self, input_size, latent_size):\n",
    "        super(LatentLayer, self).__init__()\n",
    "        self.mean = nn.Linear(input_size, latent_size)\n",
    "        self.variance = nn.Linear(input_size, latent_size)\n",
    "\n",
    "    def forward(self, input):\n",
    "        '''\n",
    "        Encodes input to the latent statistics.\n",
    "        :param input: (t.Tensor)\n",
    "        :return: (t.Tensor, t.Tensor) Statistical parameters\n",
    "        '''\n",
    "        mean = self.mean(input)\n",
    "        log_var = self.variance(input)\n",
    "        scale = (log_var/2).exp()\n",
    "        return mean, scale"
   ]
  },
  {
   "cell_type": "markdown",
   "metadata": {},
   "source": [
    "#### VAE network\n",
    "\n",
    "Here we create the VAE network, which takes in an encoder and decoder. The network adds simple interactions between the encoder and decoder for training and generating."
   ]
  },
  {
   "cell_type": "code",
   "execution_count": 3,
   "metadata": {},
   "outputs": [],
   "source": [
    "class VAE(nn.Module):\n",
    "    '''\n",
    "    Creates a Variation Autoencoder\n",
    "    \n",
    "    :param encoder_network: (nn.Module)\n",
    "    :param decoder_network: (nn.Module)\n",
    "    :param loss: (str, opt) Either 'kl' or 'mc'. Sets how to calculate loss.\n",
    "    '''\n",
    "    def __init__(self, encoder_network, decoder_network):\n",
    "        super(VAE, self).__init__()\n",
    "        \n",
    "        self.add_module('encode', encoder_network)\n",
    "        self.add_module('generate', decoder_network)\n",
    "        \n",
    "    def forward(self, input):\n",
    "        '''\n",
    "        Passes forward through encoder to create a sample latent\n",
    "        representation, then decodes that representation.\n",
    "        \n",
    "        :param input: (t.Tensor) \n",
    "        :return: (t.Tensor) Reconstruction of x and it's latent loss\n",
    "        '''\n",
    "        mean, scale = self.encode(input)\n",
    "        eps = t.randn_like(mean)\n",
    "        z = mean+scale*eps\n",
    "        \n",
    "        return self.generate(z), MC(z, eps, scale)\n",
    "\n",
    "    def generate_similar(self, input, noise=True):\n",
    "        '''\n",
    "        Creates similar examples by encoding the observation and then decoding the \n",
    "        latent observation. If noise is True, then it uses the latent variable\n",
    "        z = mean+eps*scale. Otherwise, z = mean.\n",
    "\n",
    "        :param input: (t.Tensor)\n",
    "        :param noise: (Bool, opt)\n",
    "        :return: (torch.Tensor) Reconstruction of input\n",
    "        '''\n",
    "        mean, scale = self.encode(input)\n",
    "\n",
    "        if noise:\n",
    "            eps = t.randn_like(mean)\n",
    "            z = mean+scale*eps\n",
    "        else:\n",
    "            z = mean\n",
    "\n",
    "        return self.generate(z)\n",
    "    \n",
    "def MC(z, eps, scale):\n",
    "    '''\n",
    "    Computes fully monte carlo loss for the statistics layer.\n",
    "\n",
    "    :param z: (t.Tensor) latent variable\n",
    "    :param eps: (t.Tensor) random noise\n",
    "    :param scale: (t.Tensor) scale (or standard deviation)\n",
    "    '''     \n",
    "    loss = t.sum(z.pow(2)/2-(eps.pow(2)/2+scale.log()), 1)\n",
    "    return loss.mean()"
   ]
  },
  {
   "cell_type": "markdown",
   "metadata": {},
   "source": [
    "#### Utility layer\n",
    "This layer reshapes the input. This is done for convenience when using `nn.Sequential`."
   ]
  },
  {
   "cell_type": "code",
   "execution_count": 4,
   "metadata": {},
   "outputs": [],
   "source": [
    "class ReshapeLayer(nn.Module):\n",
    "    '''\n",
    "    Reshapes the input to be the output using view. Shapes are checked\n",
    "    on forward pass to verify that they are compatible.\n",
    "\n",
    "    :param view_shape: The shape to cast the input to. Given a batch\n",
    "        input of shape (n, _) will be cast to (n, view_shape).\n",
    "    '''\n",
    "    def __init__(self, view_shape):\n",
    "        super(ReshapeLayer, self).__init__()\n",
    "        self.view_shape = view_shape\n",
    "\n",
    "    def forward(self, x):\n",
    "        '''\n",
    "        Reshapes x to initialized shape.\n",
    "        :param x: (t.Tensor)\n",
    "        :return: (t.Tensor)\n",
    "        '''\n",
    "        return x.view((x.shape[0],) + self.view_shape)"
   ]
  },
  {
   "cell_type": "markdown",
   "metadata": {},
   "source": [
    "### Building the network\n",
    "\n",
    "Here we build the encoder and decoder. This is done using the Sequential function. The encoder network needs to end with the statistics layer. The decoder is just a standard decoder. The size of the hidden layers are chosen experimentally.\n",
    "\n",
    "The encoder and decoder networks are based on the Deep Convolution GAN architecture. The images are encoded using strided convolutions with dropout, batch normalization and Leaky ReLU units. The latent encoding is then decoded using strided convolution tranpositions with dropout, batch normalization and ReLU units."
   ]
  },
  {
   "cell_type": "code",
   "execution_count": 5,
   "metadata": {},
   "outputs": [],
   "source": [
    "#Build networks\n",
    "encoder_net = nn.Sequential(\n",
    "    nn.Flatten(),\n",
    "    nn.Linear(28**2, 512),\n",
    "    nn.ReLU(),\n",
    "    nn.Linear(512, 128),\n",
    "    nn.ReLU(),\n",
    "    LatentLayer(128, 2)\n",
    ")\n",
    "\n",
    "decoder_net = nn.Sequential(\n",
    "    nn.Linear(2, 128),\n",
    "    nn.ReLU(),\n",
    "    nn.Linear(128, 512),\n",
    "    nn.ReLU(),\n",
    "    nn.Linear(512, 28**2),\n",
    "    ReshapeLayer((1, 28, 28)),\n",
    "    nn.Sigmoid()\n",
    ")\n",
    "\n",
    "model = VAE(encoder_net, decoder_net)"
   ]
  },
  {
   "cell_type": "markdown",
   "metadata": {},
   "source": [
    "### Dataset\n",
    "\n",
    "For this notebook, we use the MNIST dataset. A drop-in replacement that can be used is the FashionMNIST dataset."
   ]
  },
  {
   "cell_type": "code",
   "execution_count": 6,
   "metadata": {},
   "outputs": [],
   "source": [
    "import torch.utils.data as data\n",
    "import torchvision.datasets as datasets\n",
    "from torchvision.transforms import ToTensor\n",
    "from torchvision.utils import make_grid, save_image"
   ]
  },
  {
   "cell_type": "code",
   "execution_count": 7,
   "metadata": {},
   "outputs": [],
   "source": [
    "training_set = datasets.MNIST(root='./data/', train=True, download=False, transform=ToTensor())\n",
    "batch_size = 100\n",
    "training_loader = data.DataLoader(dataset=training_set, batch_size=batch_size, shuffle=True)"
   ]
  },
  {
   "cell_type": "markdown",
   "metadata": {},
   "source": [
    "### Optimizing the network parameters\n",
    "\n",
    "Now that we have the network, we need to find parameters that minimizes our estimate above. In order to accomplish this, we run the model over a batch of observations, and then compute the loss. Using stochastic gradient descent methods, we can then find a change of parameters that will (usually) decrease the loss.\n",
    "\n",
    "More explicitely, the encoder network takes in an observation $x$ and produces statistics, $(\\mu, \\Sigma)$, for the latent variable, $z$. Using the Monte Carlo loss or KL divergence above, we can determine a loss for the encoder. We then use $z$ to generate a reconstruction of the observation, $\\hat{x}$. By comparing $x$ and $\\hat{x}$, we have a loss for the decoder. The total loss of the variational autoencoder is the sum of these two losses. Because we are minimizing the sum, there is no guarantee that both components will decrease. In fact, the encoder loss typically increases while the decoder loss typically decreases. This is seen in the training summary printed below."
   ]
  },
  {
   "cell_type": "code",
   "execution_count": 8,
   "metadata": {},
   "outputs": [],
   "source": [
    "def train_vae(model, data_loader, optimizer, use_gpu=True):\n",
    "    average_recon = 0\n",
    "    average_latent = 0\n",
    "    for x, _ in data_loader:\n",
    "        if use_gpu:\n",
    "            x = x.cuda()\n",
    "        \n",
    "        x_pred, latent_loss = model(x)\n",
    "        \n",
    "        #compute -log p(x|z)\n",
    "        recon_loss = F.mse_loss(x, x_pred, reduction='sum') / len(x)\n",
    "        loss = recon_loss + latent_loss\n",
    "\n",
    "        #Zero gradients, perform a backward pass, and update the weights.\n",
    "        optimizer.zero_grad()\n",
    "        loss.backward()\n",
    "        optimizer.step()\n",
    "        \n",
    "        average_latent = 0.9 * average_latent + 0.1 * float(latent_loss)\n",
    "        average_recon = 0.9 * average_recon + 0.1 * float(recon_loss)\n",
    "\n",
    "    return average_recon, average_latent"
   ]
  },
  {
   "cell_type": "code",
   "execution_count": 10,
   "metadata": {
    "scrolled": true
   },
   "outputs": [
    {
     "name": "stdout",
     "output_type": "stream",
     "text": [
      "Epoch 1/100 - recon loss: 33.358 - latent loss: 4.3257\n",
      "Epoch 2/100 - recon loss: 32.648 - latent loss: 4.4847\n",
      "Epoch 3/100 - recon loss: 32.634 - latent loss: 4.6384\n",
      "Epoch 4/100 - recon loss: 31.573 - latent loss: 4.725\n",
      "Epoch 5/100 - recon loss: 31.51 - latent loss: 4.8302\n",
      "Epoch 6/100 - recon loss: 31.099 - latent loss: 4.9011\n",
      "Epoch 7/100 - recon loss: 30.902 - latent loss: 4.9022\n",
      "Epoch 8/100 - recon loss: 31.094 - latent loss: 4.9909\n",
      "Epoch 9/100 - recon loss: 30.291 - latent loss: 5.1509\n",
      "Epoch 10/100 - recon loss: 30.501 - latent loss: 5.1129\n",
      "Epoch 11/100 - recon loss: 29.373 - latent loss: 5.1936\n",
      "Epoch 12/100 - recon loss: 29.659 - latent loss: 5.2246\n",
      "Epoch 13/100 - recon loss: 28.954 - latent loss: 5.2477\n",
      "Epoch 14/100 - recon loss: 29.419 - latent loss: 5.2717\n",
      "Epoch 15/100 - recon loss: 29.357 - latent loss: 5.2539\n",
      "Epoch 16/100 - recon loss: 29.541 - latent loss: 5.2486\n",
      "Epoch 17/100 - recon loss: 29.092 - latent loss: 5.2713\n",
      "Epoch 18/100 - recon loss: 28.805 - latent loss: 5.3143\n",
      "Epoch 19/100 - recon loss: 28.59 - latent loss: 5.3398\n",
      "Epoch 20/100 - recon loss: 28.58 - latent loss: 5.3802\n",
      "Epoch 21/100 - recon loss: 28.476 - latent loss: 5.3311\n",
      "Epoch 22/100 - recon loss: 28.461 - latent loss: 5.4333\n",
      "Epoch 23/100 - recon loss: 28.141 - latent loss: 5.425\n",
      "Epoch 24/100 - recon loss: 27.619 - latent loss: 5.4915\n",
      "Epoch 25/100 - recon loss: 27.968 - latent loss: 5.4393\n",
      "Epoch 26/100 - recon loss: 28.01 - latent loss: 5.4746\n",
      "Epoch 27/100 - recon loss: 27.826 - latent loss: 5.5092\n",
      "Epoch 28/100 - recon loss: 27.648 - latent loss: 5.434\n",
      "Epoch 29/100 - recon loss: 27.847 - latent loss: 5.4578\n",
      "Epoch 30/100 - recon loss: 27.833 - latent loss: 5.5143\n",
      "Epoch 31/100 - recon loss: 27.375 - latent loss: 5.4934\n",
      "Epoch 32/100 - recon loss: 27.172 - latent loss: 5.5049\n",
      "Epoch 33/100 - recon loss: 27.468 - latent loss: 5.5199\n",
      "Epoch 34/100 - recon loss: 27.809 - latent loss: 5.5034\n",
      "Epoch 35/100 - recon loss: 28.041 - latent loss: 5.5318\n",
      "Epoch 36/100 - recon loss: 27.538 - latent loss: 5.548\n",
      "Epoch 37/100 - recon loss: 27.044 - latent loss: 5.5547\n",
      "Epoch 38/100 - recon loss: 27.844 - latent loss: 5.5384\n",
      "Epoch 39/100 - recon loss: 27.792 - latent loss: 5.5525\n",
      "Epoch 40/100 - recon loss: 27.744 - latent loss: 5.5906\n",
      "Epoch 41/100 - recon loss: 27.296 - latent loss: 5.5493\n",
      "Epoch 42/100 - recon loss: 27.472 - latent loss: 5.5856\n",
      "Epoch 43/100 - recon loss: 27.029 - latent loss: 5.5489\n",
      "Epoch 44/100 - recon loss: 27.779 - latent loss: 5.5988\n",
      "Epoch 45/100 - recon loss: 27.786 - latent loss: 5.6049\n",
      "Epoch 46/100 - recon loss: 27.535 - latent loss: 5.5189\n",
      "Epoch 47/100 - recon loss: 27.516 - latent loss: 5.6036\n",
      "Epoch 48/100 - recon loss: 27.384 - latent loss: 5.6214\n",
      "Epoch 49/100 - recon loss: 27.517 - latent loss: 5.5972\n",
      "Epoch 50/100 - recon loss: 26.691 - latent loss: 5.6095\n",
      "Epoch 51/100 - recon loss: 27.427 - latent loss: 5.5877\n",
      "Epoch 52/100 - recon loss: 27.349 - latent loss: 5.635\n",
      "Epoch 53/100 - recon loss: 27.555 - latent loss: 5.5842\n",
      "Epoch 54/100 - recon loss: 27.097 - latent loss: 5.6008\n",
      "Epoch 55/100 - recon loss: 27.803 - latent loss: 5.5779\n",
      "Epoch 56/100 - recon loss: 26.491 - latent loss: 5.6394\n",
      "Epoch 57/100 - recon loss: 26.968 - latent loss: 5.6502\n",
      "Epoch 58/100 - recon loss: 27.382 - latent loss: 5.6453\n",
      "Epoch 59/100 - recon loss: 26.855 - latent loss: 5.6285\n",
      "Epoch 60/100 - recon loss: 27.203 - latent loss: 5.5823\n",
      "Epoch 61/100 - recon loss: 27.108 - latent loss: 5.6225\n",
      "Epoch 62/100 - recon loss: 27.098 - latent loss: 5.6\n",
      "Epoch 63/100 - recon loss: 27.24 - latent loss: 5.5556\n",
      "Epoch 64/100 - recon loss: 27.703 - latent loss: 5.6317\n",
      "Epoch 65/100 - recon loss: 27.656 - latent loss: 5.6085\n",
      "Epoch 66/100 - recon loss: 27.276 - latent loss: 5.6289\n",
      "Epoch 67/100 - recon loss: 27.448 - latent loss: 5.5992\n",
      "Epoch 68/100 - recon loss: 26.614 - latent loss: 5.6274\n",
      "Epoch 69/100 - recon loss: 27.242 - latent loss: 5.665\n",
      "Epoch 70/100 - recon loss: 26.874 - latent loss: 5.5882\n",
      "Epoch 71/100 - recon loss: 26.334 - latent loss: 5.6348\n",
      "Epoch 72/100 - recon loss: 27.151 - latent loss: 5.6088\n",
      "Epoch 73/100 - recon loss: 27.115 - latent loss: 5.6532\n",
      "Epoch 74/100 - recon loss: 26.863 - latent loss: 5.6359\n",
      "Epoch 75/100 - recon loss: 27.827 - latent loss: 5.6471\n",
      "Epoch 76/100 - recon loss: 26.914 - latent loss: 5.6287\n",
      "Epoch 77/100 - recon loss: 27.252 - latent loss: 5.5553\n",
      "Epoch 78/100 - recon loss: 26.664 - latent loss: 5.6087\n",
      "Epoch 79/100 - recon loss: 27.321 - latent loss: 5.6479\n",
      "Epoch 80/100 - recon loss: 26.711 - latent loss: 5.5833\n",
      "Epoch 81/100 - recon loss: 27.364 - latent loss: 5.6546\n",
      "Epoch 82/100 - recon loss: 26.832 - latent loss: 5.6927\n",
      "Epoch 83/100 - recon loss: 27.458 - latent loss: 5.6334\n",
      "Epoch 84/100 - recon loss: 27.506 - latent loss: 5.6138\n",
      "Epoch 85/100 - recon loss: 27.114 - latent loss: 5.6336\n",
      "Epoch 86/100 - recon loss: 26.862 - latent loss: 5.6824\n",
      "Epoch 87/100 - recon loss: 27.056 - latent loss: 5.6202\n",
      "Epoch 88/100 - recon loss: 26.672 - latent loss: 5.6141\n",
      "Epoch 89/100 - recon loss: 27.443 - latent loss: 5.6959\n",
      "Epoch 90/100 - recon loss: 27.331 - latent loss: 5.6389\n",
      "Epoch 91/100 - recon loss: 27.573 - latent loss: 5.6291\n",
      "Epoch 92/100 - recon loss: 26.405 - latent loss: 5.6268\n",
      "Epoch 93/100 - recon loss: 27.158 - latent loss: 5.6808\n",
      "Epoch 94/100 - recon loss: 27.273 - latent loss: 5.6276\n",
      "Epoch 95/100 - recon loss: 27.362 - latent loss: 5.6091\n",
      "Epoch 96/100 - recon loss: 27.086 - latent loss: 5.6157\n",
      "Epoch 97/100 - recon loss: 27.189 - latent loss: 5.6356\n",
      "Epoch 98/100 - recon loss: 27.467 - latent loss: 5.597\n",
      "Epoch 99/100 - recon loss: 27.208 - latent loss: 5.6279\n",
      "Epoch 100/100 - recon loss: 26.65 - latent loss: 5.639\n"
     ]
    }
   ],
   "source": [
    "epochs = 100\n",
    "use_gpu = t.cuda.is_available()\n",
    "model.train()\n",
    "\n",
    "#Add to gpu before making the optimizer\n",
    "if use_gpu:\n",
    "    model.cuda(0)\n",
    "\n",
    "optimizer = t.optim.Adam(model.parameters(), lr=1e-3)\n",
    "scheduler = t.optim.lr_scheduler.StepLR(optimizer, 10, .5)\n",
    "\n",
    "epoch_summary_text = '\\rEpoch {0}/{1}'\n",
    "loss_summary_text = '{0} loss: {1:.5}'\n",
    "\n",
    "n_data = len(training_set)\n",
    "for epoch in range(epochs):\n",
    "    recon_loss, latent_loss = train_vae(model, training_loader, optimizer, use_gpu)\n",
    "    scheduler.step()\n",
    "    #Create summary loss\n",
    "    epoch_summary = epoch_summary_text.format(epoch+1, epochs)\n",
    "    latent_summary = loss_summary_text.format('latent', latent_loss)\n",
    "    recon_summary = loss_summary_text.format('recon', recon_loss)\n",
    "    print(epoch_summary, recon_summary, latent_summary, sep=' - ')\n",
    "    \n",
    "t.save(model.state_dict(), './models/vae.pkl')"
   ]
  },
  {
   "cell_type": "markdown",
   "metadata": {},
   "source": [
    "## Examples\n",
    "\n",
    "### Image Reconstruction\n",
    "\n",
    "Variational autoencoders can be used to reconstruct observations. This is exactly the training process: we encode the observation to a latent variable, and then use the latent variable to generate an image. After training, the network should be able to reconstruct both the example and similar examples. This is shown below. The images in the top row are the originals, while the images below are the reconstructions. The second row is a reconstruction using the mean, while the lower rows show what would be typically generated during training.\n",
    "\n",
    "The reconstructions are noticeably blurry. This is a fairly common issue with simple VAE models. There are a number of ways to improve the quality of the generated pictures. A few of these are mentioned below."
   ]
  },
  {
   "cell_type": "code",
   "execution_count": 11,
   "metadata": {},
   "outputs": [],
   "source": [
    "#Set up picture\n",
    "n_images = 6\n",
    "rows = 5\n",
    "\n",
    "model.eval()\n",
    "with t.no_grad():\n",
    "    data_sample = next(iter(training_loader))\n",
    "    images, _ = data_sample\n",
    "    images = images[:n_images]\n",
    "    if use_gpu:\n",
    "        images = images.cuda()\n",
    "    \n",
    "    album = [images]\n",
    "    #Create most likely example (i.e. using the mean)\n",
    "    album.append(model.generate_similar(images, noise=False))\n",
    "    \n",
    "    #Create similar examples with noise\n",
    "    for row in range(2, rows):\n",
    "        album.append(model.generate_similar(images))\n",
    "\n",
    "album = t.cat(album, 0)\n",
    "save_image(album, './images/MNIST-VAE-reconstructions.png', nrow=n_images)"
   ]
  },
  {
   "cell_type": "markdown",
   "metadata": {},
   "source": [
    "Image Reconstructions\n",
    "![Digit reconstructions](./images/MNIST-VAE-reconstructions.png)"
   ]
  },
  {
   "cell_type": "markdown",
   "metadata": {},
   "source": [
    "### Image generation using latent sampling\n",
    "\n",
    "My interest in VAEs comes from the ability to use them to generate new images. One of the original assumptions we made at the onset of our model is that $p_\\ell$ is normally distributed. Thus, we can generate $z$ by drawing from a standard normal distribution $N(0, I)$ and then decode that generated latent variable to form an observation. Below we see examples from the square $[-3, 3] \\times [-3, 3]$."
   ]
  },
  {
   "cell_type": "code",
   "execution_count": 12,
   "metadata": {},
   "outputs": [],
   "source": [
    "grid_size = 20\n",
    "\n",
    "with t.no_grad():\n",
    "    x = t.linspace(-3, 3, grid_size)\n",
    "    X, Y = t.meshgrid(x, x)\n",
    "    z = t.stack([X, Y]).flatten(1).T\n",
    "    if use_gpu:\n",
    "        z = z.cuda()\n",
    "    images = model.generate(z)\n",
    "\n",
    "save_image(images, './images/MNIST-VAE-latent_samples.png', nrow=grid_size)"
   ]
  },
  {
   "cell_type": "markdown",
   "metadata": {},
   "source": [
    "Example from the latent space\n",
    "![Latent Sample image](./images/MNIST-VAE-latent_samples.png)"
   ]
  },
  {
   "cell_type": "markdown",
   "metadata": {},
   "source": [
    "### Latent Interpolation\n",
    "\n",
    "Another way to use a Variational Autoencoder is to combine the latent encodings. That is, if we have an image $x_1$ and $x_2$ with latent encodings $z_1$ and $z_2$ respectively, we can form a third image $x_3$ from a combination of $z_1$ and $z_2$. This is shown below. The first and last images are the original. The second and fourth are the recreations of the original. The image in the middle, $x_3$, is formed using the latent encoding $(1-\\alpha)z_1+\\alpha z_2$, with $0 \\leq \\alpha \\leq 1$. Specifically, $\\alpha = .33$ below, while $z_1$ and $z_2$ are determined from images 10 and 13 respectively."
   ]
  },
  {
   "cell_type": "code",
   "execution_count": 13,
   "metadata": {},
   "outputs": [],
   "source": [
    "def image_mix(image_idx_1, image_idx_2, mix_value):\n",
    "    with t.no_grad():\n",
    "        #Grab sample images\n",
    "        image_1 = training_set[image_idx_1][0]\n",
    "        image_2 = training_set[image_idx_2][0]\n",
    "        #Encode\n",
    "        input = t.stack([image_1, image_2], 0)\n",
    "        if use_gpu:\n",
    "            input = input.cuda()\n",
    "        latent = model.encode(input)[0]\n",
    "        #Mix latent codes\n",
    "        mixed_latent = (1-mix_value)*latent[0]+mix_value*latent[1]\n",
    "        #Decode into images\n",
    "        latent = t.stack([latent[0], mixed_latent, latent[1]], 0)\n",
    "        images = model.generate(latent)\n",
    "        #Turn into grid\n",
    "        save_image(t.cat([input[0].unsqueeze(0), images, input[1].unsqueeze(0)]),\n",
    "                   './images/MNIST-VAE-mixed.png',\n",
    "                   5)\n",
    "\n",
    "image_mix(10, 13, .33)"
   ]
  },
  {
   "cell_type": "markdown",
   "metadata": {},
   "source": [
    "![Latent mixed image](./images/MNIST-VAE-mixed.png)"
   ]
  },
  {
   "cell_type": "markdown",
   "metadata": {},
   "source": [
    "## Further Reading\n",
    "\n",
    "If you are interested in learning more about variational autoencoders, here is what I recommend:\n",
    "* [Sticking the Landing](https://arxiv.org/abs/1703.09194). As mentioned above, it explains why the MC loss is used rather than KL divergence.\n",
    "* [Towards a deeper understanding of VAEs](https://arxiv.org/abs/1702.08658v1), which explains in part why the blurry images above occur. I had originally believed it was a result of using an inappropriate loss function, but it turns out that this is actually caused by the decoder using the average reconstruction. In our notation, this means the decoder is learning to return $\\mathbb{E}_{p(x|z)}[x]$. The paper also discuss how to avoid blurry images.\n",
    "* [Improved Variational Inference with Inverse Autoregressive Flow](https://arxiv.org/abs/1606.04934v2), which describes how to encode to non-diagonal covariance matrices $\\Sigma(x)$ in a computationally straight-forward way. Another approach based on this paper is offered in [convex combination linear Inverse Autoregressive Flow](https://arxiv.org/abs/1706.0232), which is more easily applied.\n",
    "* It's also worth pointing out that you can use *several* latent variables. There are two variants I'm aware of for this: the Ladder Variational Autoencoder and the Variational Ladder Autoencoder."
   ]
  },
  {
   "cell_type": "markdown",
   "metadata": {},
   "source": [
    "## Final Comments\n",
    "\n",
    "I made this notebook to have an easy way of sharing my interest in VAEs with others. If you find an error or have any suggestions, please let me know."
   ]
  }
 ],
 "metadata": {
  "kernelspec": {
   "display_name": "Python 3",
   "language": "python",
   "name": "python3"
  },
  "language_info": {
   "codemirror_mode": {
    "name": "ipython",
    "version": 3
   },
   "file_extension": ".py",
   "mimetype": "text/x-python",
   "name": "python",
   "nbconvert_exporter": "python",
   "pygments_lexer": "ipython3",
   "version": "3.7.4"
  },
  "widgets": {
   "application/vnd.jupyter.widget-state+json": {
    "state": {
     "067cc2f721e84d10b79535815185fa09": {
      "model_module": "@jupyter-widgets/controls",
      "model_module_version": "1.5.0",
      "model_name": "FloatSliderModel",
      "state": {
       "description": "Transition",
       "layout": "IPY_MODEL_7a2ed94cf94248b38473f3cd7bc078ac",
       "max": 1,
       "step": 0.05,
       "style": "IPY_MODEL_1b04a944c1a94539aa8a871e8fd41dce",
       "value": 0.5
      }
     },
     "0af12164fcca4c4388005ffe8d5427be": {
      "model_module": "@jupyter-widgets/controls",
      "model_module_version": "1.5.0",
      "model_name": "BoundedIntTextModel",
      "state": {
       "description": "Image 2",
       "layout": "IPY_MODEL_bf615a509bfd4be6bddda79795fc5be4",
       "max": 50000,
       "style": "IPY_MODEL_cf93a42289b34506bb2a243849479600",
       "value": 9
      }
     },
     "0b03a33ae85949d1aaa8f74699581a57": {
      "model_module": "@jupyter-widgets/base",
      "model_module_version": "1.2.0",
      "model_name": "LayoutModel",
      "state": {
       "height": "150px"
      }
     },
     "12ba732e0004477a97aae48a9cdebaff": {
      "model_module": "@jupyter-widgets/output",
      "model_module_version": "1.0.0",
      "model_name": "OutputModel",
      "state": {
       "layout": "IPY_MODEL_0b03a33ae85949d1aaa8f74699581a57",
       "outputs": [
        {
         "name": "stderr",
         "output_type": "stream",
         "text": "Clipping input data to the valid range for imshow with RGB data ([0..1] for floats or [0..255] for integers).\n"
        },
        {
         "data": {
          "image/png": "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\n",
          "text/plain": "<Figure size 432x288 with 1 Axes>"
         },
         "metadata": {
          "needs_background": "light"
         },
         "output_type": "display_data"
        }
       ]
      }
     },
     "1a0c3e76b8584919b25efd227c4bf87e": {
      "model_module": "@jupyter-widgets/controls",
      "model_module_version": "1.5.0",
      "model_name": "DescriptionStyleModel",
      "state": {
       "description_width": ""
      }
     },
     "1b04a944c1a94539aa8a871e8fd41dce": {
      "model_module": "@jupyter-widgets/controls",
      "model_module_version": "1.5.0",
      "model_name": "SliderStyleModel",
      "state": {
       "description_width": ""
      }
     },
     "1b3bfc19b3834f62a7c8491afe61632f": {
      "model_module": "@jupyter-widgets/controls",
      "model_module_version": "1.5.0",
      "model_name": "FloatSliderModel",
      "state": {
       "description": "Transition",
       "layout": "IPY_MODEL_54123a91281344eaa9eaf085e271d090",
       "max": 1,
       "step": 0.05,
       "style": "IPY_MODEL_226c89d2e66349548858c540b50d25d7",
       "value": 0.5
      }
     },
     "1f3b287481824e05957cc51829d5fac8": {
      "model_module": "@jupyter-widgets/base",
      "model_module_version": "1.2.0",
      "model_name": "LayoutModel",
      "state": {
       "height": "150px"
      }
     },
     "226c89d2e66349548858c540b50d25d7": {
      "model_module": "@jupyter-widgets/controls",
      "model_module_version": "1.5.0",
      "model_name": "SliderStyleModel",
      "state": {
       "description_width": ""
      }
     },
     "24cbed0ccf7d4858a44718fc929af5eb": {
      "model_module": "@jupyter-widgets/controls",
      "model_module_version": "1.5.0",
      "model_name": "VBoxModel",
      "state": {
       "_dom_classes": [
        "widget-interact"
       ],
       "children": [
        "IPY_MODEL_91397c469f5444ddbbe768bb3459bbf8",
        "IPY_MODEL_0af12164fcca4c4388005ffe8d5427be",
        "IPY_MODEL_1b3bfc19b3834f62a7c8491afe61632f",
        "IPY_MODEL_8f2640cba85a42ceb7c48a3234034aee"
       ],
       "layout": "IPY_MODEL_70b1e52e45104fc19d9ceb6d5c19fbf7"
      }
     },
     "28f3556f65bf40c0a9ca24886351f1f8": {
      "model_module": "@jupyter-widgets/controls",
      "model_module_version": "1.5.0",
      "model_name": "FloatSliderModel",
      "state": {
       "description": "Transition",
       "layout": "IPY_MODEL_8e9a14d676574e87aa1e63e9a0c31c84",
       "max": 1,
       "step": 0.05,
       "style": "IPY_MODEL_6024c3fb8a0b455cb7472691789e0a4f"
      }
     },
     "2f9a0af73eb149a1ab188b79291de46a": {
      "model_module": "@jupyter-widgets/controls",
      "model_module_version": "1.5.0",
      "model_name": "VBoxModel",
      "state": {
       "_dom_classes": [
        "widget-interact"
       ],
       "children": [
        "IPY_MODEL_c77bcf8aa944475798f4f9e4d64c7e82",
        "IPY_MODEL_5aa59eb51f934c3aa0df6f9e204393ea",
        "IPY_MODEL_f299a9f04ccd42efb4e6159e3442b7a9",
        "IPY_MODEL_36af248a527a4961ac2a392ca479c2db"
       ],
       "layout": "IPY_MODEL_684b866724ed40e3b8b138687dd18d2c"
      }
     },
     "36af248a527a4961ac2a392ca479c2db": {
      "model_module": "@jupyter-widgets/output",
      "model_module_version": "1.0.0",
      "model_name": "OutputModel",
      "state": {
       "layout": "IPY_MODEL_e68f5b4d8fe2409db25fcba2525ff29d",
       "outputs": [
        {
         "name": "stderr",
         "output_type": "stream",
         "text": "Clipping input data to the valid range for imshow with RGB data ([0..1] for floats or [0..255] for integers).\n"
        },
        {
         "data": {
          "image/png": "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\n",
          "text/plain": "<Figure size 432x288 with 1 Axes>"
         },
         "metadata": {
          "needs_background": "light"
         },
         "output_type": "display_data"
        }
       ]
      }
     },
     "4fdef6a1b5b74a1084f0902c317aa008": {
      "model_module": "@jupyter-widgets/controls",
      "model_module_version": "1.5.0",
      "model_name": "VBoxModel",
      "state": {
       "_dom_classes": [
        "widget-interact"
       ],
       "children": [
        "IPY_MODEL_a5198937de70474f989de887e7f50634",
        "IPY_MODEL_d3bea58d22754802adffcda0d8ac94e2",
        "IPY_MODEL_28f3556f65bf40c0a9ca24886351f1f8",
        "IPY_MODEL_12ba732e0004477a97aae48a9cdebaff"
       ],
       "layout": "IPY_MODEL_a99c02e5070848d699c6ed5769c47c32"
      }
     },
     "54123a91281344eaa9eaf085e271d090": {
      "model_module": "@jupyter-widgets/base",
      "model_module_version": "1.2.0",
      "model_name": "LayoutModel",
      "state": {}
     },
     "566fce2a9eb342bea769355e9bf8ff8e": {
      "model_module": "@jupyter-widgets/controls",
      "model_module_version": "1.5.0",
      "model_name": "VBoxModel",
      "state": {
       "_dom_classes": [
        "widget-interact"
       ],
       "children": [
        "IPY_MODEL_fa58c96e98674877b4d4ff2c31c02ff3",
        "IPY_MODEL_7f48335c020549b9bb34e2f50cfb9a22",
        "IPY_MODEL_067cc2f721e84d10b79535815185fa09",
        "IPY_MODEL_c539b883e63c47c99e7abd66a184f766"
       ],
       "layout": "IPY_MODEL_9047073494cb4c879b336454b420ffb1"
      }
     },
     "5918811673354e49a851595eed71391f": {
      "model_module": "@jupyter-widgets/base",
      "model_module_version": "1.2.0",
      "model_name": "LayoutModel",
      "state": {}
     },
     "5aa59eb51f934c3aa0df6f9e204393ea": {
      "model_module": "@jupyter-widgets/controls",
      "model_module_version": "1.5.0",
      "model_name": "BoundedIntTextModel",
      "state": {
       "description": "Image 2",
       "layout": "IPY_MODEL_79928172ead6440fbfc9dd7eab1afd93",
       "max": 50000,
       "style": "IPY_MODEL_e0c68beb051d4ff59fe485c4c3c10af5",
       "value": 72
      }
     },
     "5c2ffa51408f477197685a4326a874a5": {
      "model_module": "@jupyter-widgets/base",
      "model_module_version": "1.2.0",
      "model_name": "LayoutModel",
      "state": {
       "height": "150px"
      }
     },
     "6024c3fb8a0b455cb7472691789e0a4f": {
      "model_module": "@jupyter-widgets/controls",
      "model_module_version": "1.5.0",
      "model_name": "SliderStyleModel",
      "state": {
       "description_width": ""
      }
     },
     "684b866724ed40e3b8b138687dd18d2c": {
      "model_module": "@jupyter-widgets/base",
      "model_module_version": "1.2.0",
      "model_name": "LayoutModel",
      "state": {}
     },
     "697418bd92154c8892d35aba31bb4ed3": {
      "model_module": "@jupyter-widgets/base",
      "model_module_version": "1.2.0",
      "model_name": "LayoutModel",
      "state": {}
     },
     "6aba755019f640a5aba1c4dec7f34b13": {
      "model_module": "@jupyter-widgets/base",
      "model_module_version": "1.2.0",
      "model_name": "LayoutModel",
      "state": {}
     },
     "70b1e52e45104fc19d9ceb6d5c19fbf7": {
      "model_module": "@jupyter-widgets/base",
      "model_module_version": "1.2.0",
      "model_name": "LayoutModel",
      "state": {}
     },
     "71b1c8f46ddc4530835cea0b34bb1bf6": {
      "model_module": "@jupyter-widgets/controls",
      "model_module_version": "1.5.0",
      "model_name": "SliderStyleModel",
      "state": {
       "description_width": ""
      }
     },
     "79928172ead6440fbfc9dd7eab1afd93": {
      "model_module": "@jupyter-widgets/base",
      "model_module_version": "1.2.0",
      "model_name": "LayoutModel",
      "state": {}
     },
     "7a2ed94cf94248b38473f3cd7bc078ac": {
      "model_module": "@jupyter-widgets/base",
      "model_module_version": "1.2.0",
      "model_name": "LayoutModel",
      "state": {}
     },
     "7f48335c020549b9bb34e2f50cfb9a22": {
      "model_module": "@jupyter-widgets/controls",
      "model_module_version": "1.5.0",
      "model_name": "IntSliderModel",
      "state": {
       "description": "Image 2",
       "layout": "IPY_MODEL_697418bd92154c8892d35aba31bb4ed3",
       "max": 200,
       "min": 101,
       "style": "IPY_MODEL_fe8945f292e749029a511c534223cbc2",
       "value": 120
      }
     },
     "872f8eafb0634de8963728620a923b55": {
      "model_module": "@jupyter-widgets/controls",
      "model_module_version": "1.5.0",
      "model_name": "DescriptionStyleModel",
      "state": {
       "description_width": ""
      }
     },
     "8e9a14d676574e87aa1e63e9a0c31c84": {
      "model_module": "@jupyter-widgets/base",
      "model_module_version": "1.2.0",
      "model_name": "LayoutModel",
      "state": {}
     },
     "8f2640cba85a42ceb7c48a3234034aee": {
      "model_module": "@jupyter-widgets/output",
      "model_module_version": "1.0.0",
      "model_name": "OutputModel",
      "state": {
       "layout": "IPY_MODEL_5c2ffa51408f477197685a4326a874a5",
       "outputs": [
        {
         "data": {
          "image/png": "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\n",
          "text/plain": "<Figure size 432x288 with 1 Axes>"
         },
         "metadata": {
          "needs_background": "light"
         },
         "output_type": "display_data"
        }
       ]
      }
     },
     "9047073494cb4c879b336454b420ffb1": {
      "model_module": "@jupyter-widgets/base",
      "model_module_version": "1.2.0",
      "model_name": "LayoutModel",
      "state": {}
     },
     "91397c469f5444ddbbe768bb3459bbf8": {
      "model_module": "@jupyter-widgets/controls",
      "model_module_version": "1.5.0",
      "model_name": "BoundedIntTextModel",
      "state": {
       "description": "Image 1",
       "layout": "IPY_MODEL_98c572379dec49f3bb50da3bacb346f3",
       "max": 50000,
       "style": "IPY_MODEL_c81014995be94d9e9f8eacfca8104e27",
       "value": 20
      }
     },
     "98c572379dec49f3bb50da3bacb346f3": {
      "model_module": "@jupyter-widgets/base",
      "model_module_version": "1.2.0",
      "model_name": "LayoutModel",
      "state": {}
     },
     "9f7f08ee59554c009e07af7474ad458b": {
      "model_module": "@jupyter-widgets/controls",
      "model_module_version": "1.5.0",
      "model_name": "DescriptionStyleModel",
      "state": {
       "description_width": ""
      }
     },
     "a5198937de70474f989de887e7f50634": {
      "model_module": "@jupyter-widgets/controls",
      "model_module_version": "1.5.0",
      "model_name": "BoundedIntTextModel",
      "state": {
       "description": "Image 1",
       "layout": "IPY_MODEL_6aba755019f640a5aba1c4dec7f34b13",
       "min": 1,
       "style": "IPY_MODEL_9f7f08ee59554c009e07af7474ad458b",
       "value": 1
      }
     },
     "a99c02e5070848d699c6ed5769c47c32": {
      "model_module": "@jupyter-widgets/base",
      "model_module_version": "1.2.0",
      "model_name": "LayoutModel",
      "state": {}
     },
     "aafda70ecafd4d138507187e98a959ef": {
      "model_module": "@jupyter-widgets/base",
      "model_module_version": "1.2.0",
      "model_name": "LayoutModel",
      "state": {}
     },
     "aeca112c1ff04a0b9264d0e791b297ab": {
      "model_module": "@jupyter-widgets/controls",
      "model_module_version": "1.5.0",
      "model_name": "SliderStyleModel",
      "state": {
       "description_width": ""
      }
     },
     "bf4bf8f87e1c4406b67bd333a17bddc3": {
      "model_module": "@jupyter-widgets/base",
      "model_module_version": "1.2.0",
      "model_name": "LayoutModel",
      "state": {}
     },
     "bf615a509bfd4be6bddda79795fc5be4": {
      "model_module": "@jupyter-widgets/base",
      "model_module_version": "1.2.0",
      "model_name": "LayoutModel",
      "state": {}
     },
     "c539b883e63c47c99e7abd66a184f766": {
      "model_module": "@jupyter-widgets/output",
      "model_module_version": "1.0.0",
      "model_name": "OutputModel",
      "state": {
       "layout": "IPY_MODEL_1f3b287481824e05957cc51829d5fac8",
       "outputs": [
        {
         "name": "stderr",
         "output_type": "stream",
         "text": "Clipping input data to the valid range for imshow with RGB data ([0..1] for floats or [0..255] for integers).\n"
        },
        {
         "data": {
          "image/png": "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\n",
          "text/plain": "<Figure size 432x288 with 1 Axes>"
         },
         "metadata": {
          "needs_background": "light"
         },
         "output_type": "display_data"
        }
       ]
      }
     },
     "c77bcf8aa944475798f4f9e4d64c7e82": {
      "model_module": "@jupyter-widgets/controls",
      "model_module_version": "1.5.0",
      "model_name": "BoundedIntTextModel",
      "state": {
       "description": "Image 1",
       "layout": "IPY_MODEL_bf4bf8f87e1c4406b67bd333a17bddc3",
       "max": 50000,
       "style": "IPY_MODEL_872f8eafb0634de8963728620a923b55"
      }
     },
     "c81014995be94d9e9f8eacfca8104e27": {
      "model_module": "@jupyter-widgets/controls",
      "model_module_version": "1.5.0",
      "model_name": "DescriptionStyleModel",
      "state": {
       "description_width": ""
      }
     },
     "cf93a42289b34506bb2a243849479600": {
      "model_module": "@jupyter-widgets/controls",
      "model_module_version": "1.5.0",
      "model_name": "DescriptionStyleModel",
      "state": {
       "description_width": ""
      }
     },
     "d3bea58d22754802adffcda0d8ac94e2": {
      "model_module": "@jupyter-widgets/controls",
      "model_module_version": "1.5.0",
      "model_name": "BoundedIntTextModel",
      "state": {
       "description": "Image 2",
       "layout": "IPY_MODEL_5918811673354e49a851595eed71391f",
       "max": 200,
       "min": 101,
       "style": "IPY_MODEL_1a0c3e76b8584919b25efd227c4bf87e",
       "value": 101
      }
     },
     "e0c68beb051d4ff59fe485c4c3c10af5": {
      "model_module": "@jupyter-widgets/controls",
      "model_module_version": "1.5.0",
      "model_name": "DescriptionStyleModel",
      "state": {
       "description_width": ""
      }
     },
     "e1d9a26127744985850ace749c8399e8": {
      "model_module": "@jupyter-widgets/base",
      "model_module_version": "1.2.0",
      "model_name": "LayoutModel",
      "state": {}
     },
     "e68f5b4d8fe2409db25fcba2525ff29d": {
      "model_module": "@jupyter-widgets/base",
      "model_module_version": "1.2.0",
      "model_name": "LayoutModel",
      "state": {
       "height": "150px"
      }
     },
     "f299a9f04ccd42efb4e6159e3442b7a9": {
      "model_module": "@jupyter-widgets/controls",
      "model_module_version": "1.5.0",
      "model_name": "FloatSliderModel",
      "state": {
       "description": "Transition",
       "layout": "IPY_MODEL_e1d9a26127744985850ace749c8399e8",
       "max": 1,
       "step": 0.05,
       "style": "IPY_MODEL_aeca112c1ff04a0b9264d0e791b297ab",
       "value": 0.75
      }
     },
     "fa58c96e98674877b4d4ff2c31c02ff3": {
      "model_module": "@jupyter-widgets/controls",
      "model_module_version": "1.5.0",
      "model_name": "IntSliderModel",
      "state": {
       "description": "Image 1",
       "layout": "IPY_MODEL_aafda70ecafd4d138507187e98a959ef",
       "min": 1,
       "style": "IPY_MODEL_71b1c8f46ddc4530835cea0b34bb1bf6",
       "value": 31
      }
     },
     "fe8945f292e749029a511c534223cbc2": {
      "model_module": "@jupyter-widgets/controls",
      "model_module_version": "1.5.0",
      "model_name": "SliderStyleModel",
      "state": {
       "description_width": ""
      }
     }
    },
    "version_major": 2,
    "version_minor": 0
   }
  }
 },
 "nbformat": 4,
 "nbformat_minor": 2
}