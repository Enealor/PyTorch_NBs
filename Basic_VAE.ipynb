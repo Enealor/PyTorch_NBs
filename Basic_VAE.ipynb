{
 "cells": [
  {
   "cell_type": "markdown",
   "metadata": {},
   "source": [
    "# A Very Brief Look of Variational Autoencoders\n",
    "\n",
    "## Summary\n",
    "This notebook describes and implements a Variational Autoencoder (VAE) in pytorch. VAEs are a type of generative model. By providing a dataset, a variational autoencoder uses variational Bayesian methods to generate similar examples. Once trained, it can be used to turn noise into images.\n",
    "\n",
    "These notes are based off this [VAE tutorial](https://arxiv.org/abs/1606.05908) and the explanation provided in [these notes](https://deepgenerativemodels.github.io/notes/vae/). The target audience for this notebook is someone who has read about VAEs but want to see another explanation or an implementation. Further reading is provided below. If you are just interested in the implementation, you can skip the first half of this notebook.\n",
    "\n",
    "Finally, it should be known that $\\simeq$ is used below to denote that two values are equal up to a constant difference. Specifically, if $a \\simeq b$, then $a = b + \\text{constant}$. This is used as constants are ignored during optimization. This is not to be confused with $a \\approx b$, which means that a is approximately b."
   ]
  },
  {
   "cell_type": "markdown",
   "metadata": {},
   "source": [
    "## Training Objective\n",
    "Suppose we have a set of observations $D = \\{x_1, \\dots, x_N\\}$. We want to generate examples similar to the observations in $D$, but how do we start? One approach is to find a probability distribution $p$ such that $p(x)$ is high for $x$ similar to an observation in $D$, and low for dissimilar observations. However, if the observations are high dimensional, then the dependencies between dimensions can be complex. Untangling these dependencies can make finding $p$ difficult. To alleviate this, we can introduce a latent variable.\n",
    "\n",
    "A latent variable is a variable that is inferred from the observation. In the right situations, it encodes high level information that can be used to recreate the observation. Introducing this latent variable means that we are now looking for $p(x, z)$, where $z$ is our latent variable. We can break down this distribution into $p(x|z)p_\\ell(z)$. The benefit is that this gives us a generative process: we can first generate a $z$ according to $p_\\ell$ and then use $p(x|z)$ to generate an $x$.\n",
    "\n",
    "At this point, we can always recover $p(x)$ using integration as we have\n",
    "\n",
    "$$p(x) = \\int_\\mathcal{Z} p(x|z)p_\\ell(z)dz,$$\n",
    "\n",
    "where $\\mathcal{Z}$ is the space of all possible latent variables. However, this integral is generally intractable. This difficulty is important as our goal is to make $p$ similar to $p_D$. Instead of optimizing $p$ directly, we will use variational Bayesian methods.\n",
    "\n",
    "Variational Bayesian methods are aimed at approximation the posterior. We are attempting to approximate $p(z|x)$ with another distribution $q_\\lambda(z)$, where $\\lambda = \\lambda(x)$. We are forced to use an approximation as $p(z|x)$ is just as difficult to evaluate as $p(x)$. However, if we had the posterior $p(z|x)$, then we could find $p(x)$ using \n",
    "\n",
    "$$p(x) = \\frac{p(x, z)}{p(z|x)} \\approx \\frac{p(x, z)}{q_\\lambda(z)}.$$\n",
    "\n",
    "The benefit of introducing this is that we now have\n",
    "\n",
    "$$\\log p(x) \n",
    "\\geq \\int_\\mathcal{Z} q_\\lambda(z) \\log\\left(\\frac{p(x, z)}{q_\\lambda(z)}\\right) dz\n",
    "= \\mathbb{E}_{q_\\lambda}\\left[\\log(p(x, z)) - \\log(q_\\lambda(z))\\right].$$\n",
    "\n",
    "This lower bound (called the Evidence Lower Bound, or ELBO) is possible to approximate with an unbiased Monte Carlo estimator when $q$ is simple to sample from. (Big note: this estimate uses Jensen's inequality. See either tutorial above for a derivation.)"
   ]
  },
  {
   "cell_type": "markdown",
   "metadata": {},
   "source": [
    "## Variational Autoencoders\n",
    "### The probabilistic model\n",
    "Variational autoencoders are a type of latent variable model where we use a network to learn the distributions. The basic variational autoencoder was defined with specific distribution choices.\n",
    "\n",
    "The latent distribution $p_\\ell$ is chosen to be the standard normal $N(0, I)$. In this situation, we do not optimize over $p_\\ell$ as it does not change. This builds in the assumption that our latent variables are normally distributed.\n",
    "\n",
    "The posterior $q_\\lambda$ is a normal distribution. That is, $\\lambda(x) = (\\mu(x), \\Sigma(x))$ and $q_\\lambda = N(\\mu(x), \\Sigma(x))$. Generally $\\Sigma$ is restricted to be diagonal. This results in a factorized Gaussian (where each dimension is statistically independent). In this case, if $\\Sigma_{ii} = \\sigma_i^2$ (so that $\\sigma_i$ is the scale in the $i$th coordinate), then we specifically have\n",
    "\n",
    "$$-\\log q(z|x, \\theta) \n",
    "\\simeq \\sum_i \\left(\\frac{(x-\\mu_i)^2}{2\\sigma_i^2}+\\log \\sigma_i\\right).$$\n",
    "\n",
    "The distribution $p(x|z)$ is typically chosen to be either a normal distribution or a Bernoulli distribution, depending on the target data. We will use $x \\sim N(\\mu(z), I)$, so that we have that\n",
    "\n",
    "$$-\\log p(x|z) \\simeq \\tfrac{1}{2}\\Vert x-\\mu(z) \\Vert^2_2,$$\n",
    "\n",
    "which is a multiple of the mean squared error. If we chose $p(x|z)$ to be Bernoulli, then we would have binary cross entropy instead."
   ]
  },
  {
   "cell_type": "markdown",
   "metadata": {},
   "source": [
    "### The network\n",
    "To turn this into a variational autoencoder, we need to introduce some networks. In this situation, that means we use a network to learn the parameters for the distributions $p(x|z)$ and $q_\\lambda(z)$. In practice, we separate this into two modules that are both parameterized by $\\theta$.\n",
    "\n",
    "The first is the encoder $f_\\theta$. The encoder takes an observation $x$ and outputs statistical parameters used to determine the latent variable. This is done using\n",
    "\n",
    "$$f_\\theta(x) = \\lambda(x) = (\\mu_\\theta(x), \\Sigma_\\theta(x)).$$\n",
    "\n",
    "These parameters are then used for $q_\\lambda(z)$. An important note is that if we draw $z \\sim q_\\lambda$, then we have no way to recover the parameters $\\lambda$ for back propogation. To avoid this, we use the 'reparamiterization trick' and define $z$ as a transformation of a random variable. This means we draw $\\epsilon \\sim N(0, I)$ and let $z = \\mu+\\Sigma^{1/2}\\epsilon$, where $\\Sigma^{1/2}$ is the Choletsky factorization of $\\Sigma$ (effectively giving us a square root of the matrix). This is equivalent to sampling from $N(\\mu, \\Sigma)$ but allows us to differentiate $z$ (w.r.t. $\\theta$). The variable $\\epsilon$ can be used in our log probability to instead give us\n",
    "\n",
    "$$\\log q_\\lambda(z) \\simeq -\\sum_i \\left(\\tfrac{1}{2}\\epsilon_i^2+\\log \\sigma_i\\right).$$\n",
    "\n",
    "The second module is the decoder $g_\\theta$. The decoder turns a latent variable $z$ and outputs the statistical parameter $\\mu(z)$. More explicitely, we now have that\n",
    "\n",
    "$$-\\log p(x|z) \\simeq \\tfrac{1}{2}\\Vert x-g_\\theta(z) \\Vert^2_2.$$"
   ]
  },
  {
   "cell_type": "markdown",
   "metadata": {},
   "source": [
    "### Final form of the loss function\n",
    "With the choices above, we are now ready to write our loss function. We are trying to maximize $\\log p(x)$ for $x \\in D$. As Torch works by minimizing, this means we are going to instead minimize $-\\log p(x)$. We then replace this with the evidence lower bound to change goals to minimizing $-\\mathbb{E}_{q_\\lambda}\\left[\\log(p(x, z)) - \\log(q_{\\lambda}(z))\\right]$. If we expand the first term in the expectation, we have\n",
    "\n",
    "$$-\\log p(x, z) \n",
    "= -\\log (p(x|z)p_\\ell(z)) \n",
    "= - \\log p(x|z) - \\log p_\\ell(z) \n",
    "\\simeq \\tfrac{1}{2}\\Vert x-g_\\theta(z) \\Vert^2_2+\\tfrac{1}{2}\\Vert z \\Vert^2_2.$$\n",
    "\n",
    "This gives us a final loss function of \n",
    "$$-\\mathbb{E}_{q_\\lambda}\\left[\\log(p(x, z)) - \\log(q_\\lambda(z))\\right]\n",
    "= \\mathbb{E}_{q_\\lambda}\\left[\\log(q_\\lambda(z))-\\log(p(x, z))\\right] \n",
    "= \\mathbb{E}_{q_\\lambda}\\left[\\tfrac{1}{2}\\Vert x-g_\\theta(z) \\Vert^2_2 + \\tfrac{1}{2}\\Vert z \\Vert^2_2 -\\sum_i \\left(\\tfrac{1}{2}\\epsilon_i^2+\\log \\sigma_i\\right)\\right].$$\n",
    "\n",
    "We compute this last quantity using Monte Carlo methods, meaning we approximate it by using a number of samples.\n",
    "\n",
    "It's worth noting what exactly we are getting when we optimize using this bound. The $\\epsilon$ term can be ignored, as it's not subject to our parameters. The first term, $\\Vert x - g_\\theta(z) \\Vert^2_2$, is optimized by choosing parameters for the decoder that produce accurate reconstructions. The term $\\Vert z \\Vert^2_2$ is optimized by making the latent variable small; this is most directly done by decreasing the mean. The final term, $-\\sum_i \\log \\sigma_i$, has more flexibility as it's able to take both positive and negative values. If $\\sigma_i$ is small, then $z$ has little variance, but $-\\log\\sigma_i$ will be large. On the other hand, if $\\sigma_i$ is large, then $z$ has a lot of variance (which makes the decoder's job harder) but $-\\log\\sigma_i$ is now a negative value. In essence, the scale parameter can reduce the loss if chosen to be large, but this is only feasible if the decoder can still make accurate representations. Meanwhile, the entire expectation can be made smaller by adjusting $q_\\lambda$."
   ]
  },
  {
   "cell_type": "markdown",
   "metadata": {},
   "source": [
    "#### Alternate loss function\n",
    "An alternate choice for lower bound uses the [Kullback-Leibler (KL) divergence](http://mathworld.wolfram.com/Kullback-LeiblerDistance.html), $\\text{KL}(q||p_\\ell)$. With $q_\\lambda$ and $p_\\ell$ as chosen above, the divergence term can be computed analytically as\n",
    "\n",
    "$$\\text{KL}(q_\\lambda || p_\\ell) \\simeq \\tfrac{1}{2}\\sum_i (\\sigma_i^2 + \\mu_i^2 - \\log \\sigma_i^2 - 1).$$\n",
    "\n",
    "Using this with a variant evidence lower bound, we have\n",
    "\n",
    "$$-\\log p(x)\n",
    "\\leq -\\mathbb{E}_{q_\\lambda}\\left[\\log(p(x|z))\\right] + \\text{KL}(q_\\lambda||p_\\ell) \n",
    "\\simeq \\mathbb{E}_{q_\\lambda}\\left[\\tfrac{1}{2}\\Vert x - g_\\theta(z) \\Vert^2_2 \\right] + \\tfrac{1}{2}\\sum_i (\\sigma_i^2 + \\mu_i^2 - \\log \\sigma_i^2 - 1).$$\n",
    "\n",
    "While this form of loss can be useful, it turns out that the KL loss is too restrictive in some cases. Specifically, we have that if $q_\\lambda(z) = p(z|x)$, then the Monte Carlo loss above will be $0$, but the KL loss here will still have a constant entropy. Thus, the Monte Carlo error above should be used if we suspect that we can learn $\\lambda$ well enough that $q_\\lambda(z) \\approx p(z|x)$. This is explained in [Sticking the Landing](https://arxiv.org/abs/1703.09194) by Roeder et al, which also notes that the MC form is easier to apply when using normalizing flows.\n",
    "\n",
    "Similar to above, the result of optimization on the individual components can be interpreted for this loss. The new term, the KL divergence, is minimized when $q_\\lambda$ has the same distribution $p_\\ell$. Thus, the KL term pushes the posterior distribution towards being like the latent distribution. It's worth noting that this is not necessarily desirable, as $q_\\lambda$ is supposed to approximate $p(z|x)$. More directly, it's encouraging the encoded mean to be close to $0$ and encouraging $\\sigma_i$ to be close to 1 (so that $\\sigma_i^2-1+\\log \\sigma_i = 0$)."
   ]
  },
  {
   "cell_type": "markdown",
   "metadata": {},
   "source": [
    "## Code\n",
    "\n",
    "Below is the code for the network. You can run it in the notebook with (probably) few modifications needed. You can also copy the code into a python file. The necessary packages are pytorch, torchvision for the computations, and matplotlib for the plots."
   ]
  },
  {
   "cell_type": "code",
   "execution_count": 1,
   "metadata": {},
   "outputs": [],
   "source": [
    "import torch as t\n",
    "import torch.nn as nn\n",
    "import torch.nn.functional as F"
   ]
  },
  {
   "cell_type": "markdown",
   "metadata": {},
   "source": [
    "### Layers\n",
    "#### Statistics Layer\n",
    "\n",
    "The statistics layer outputs the mean and scale (i.e. standard deviation) that will be used to generate the latent variables. It returns the latent variable and the associated loss. Below both the KL and fully Monte Carlo loss are included."
   ]
  },
  {
   "cell_type": "code",
   "execution_count": 2,
   "metadata": {},
   "outputs": [],
   "source": [
    "class LatentLayer(nn.Module):\n",
    "    '''\n",
    "    Creates a layer that takes an input and outputs latent parameters.\n",
    "    :param input_size: (int) Size of input\n",
    "    :param latent_size: (int) Number of latent dimensions\n",
    "    '''\n",
    "    def __init__(self, input_size, latent_size):\n",
    "        super(LatentLayer, self).__init__()\n",
    "        self.mean = nn.Linear(input_size, latent_size)\n",
    "        self.variance = nn.Linear(input_size, latent_size)\n",
    "\n",
    "    def forward(self, input):\n",
    "        '''\n",
    "        Encodes input to the latent statistics.\n",
    "        :param input: (t.Tensor)\n",
    "        :return: (t.Tensor, t.Tensor) Statistical parameters\n",
    "        '''\n",
    "        mean = self.mean(input)\n",
    "        log_var = self.variance(input)\n",
    "        scale = (log_var/2).exp()\n",
    "        return mean, scale"
   ]
  },
  {
   "cell_type": "markdown",
   "metadata": {},
   "source": [
    "#### VAE Class\n",
    "\n",
    "This implements the VAE network. It's made up of two separate modules: an encoder network, and a decoder network."
   ]
  },
  {
   "cell_type": "code",
   "execution_count": 3,
   "metadata": {},
   "outputs": [],
   "source": [
    "class VAE(nn.Module):\n",
    "    '''\n",
    "    Creates a Variation Autoencoder\n",
    "    \n",
    "    :param encoder_network: (nn.Module)\n",
    "    :param decoder_network: (nn.Module)\n",
    "    :param loss: (str, opt) Either 'kl' or 'mc'. Sets how to calculate loss.\n",
    "    '''\n",
    "    def __init__(self, encoder_network, decoder_network, loss='mc'):\n",
    "        super(VAE, self).__init__()\n",
    "        \n",
    "        self.add_module('encode', encoder_network)\n",
    "        self.add_module('generate', decoder_network)\n",
    "        self.loss = loss.lower()\n",
    "        \n",
    "    def forward(self, input):\n",
    "        '''\n",
    "        Passes forward through encoder to create a sample latent\n",
    "        representation, then decodes that representation.\n",
    "        \n",
    "        :param input: (t.Tensor) \n",
    "        :return: (t.Tensor) Reconstruction of x and it's latent loss\n",
    "        '''\n",
    "        mean, scale = self.encode(input)\n",
    "        eps = t.randn_like(mean)\n",
    "        z = mean+scale*eps\n",
    "\n",
    "        if self.training:\n",
    "            loss = self.MC(z, eps, scale)\n",
    "        else:\n",
    "            loss = t.tensor(0.)\n",
    "\n",
    "        return self.generate(z), loss\n",
    "\n",
    "    def generate_similar(self, input, noise=True):\n",
    "        '''\n",
    "        Creates similar examples by encoding the observation and then decoding the \n",
    "        latent observation. If noise is True, then it uses the latent variable\n",
    "        z = mean+eps*scale. Otherwise, z = mean.\n",
    "\n",
    "        :param input: (t.Tensor)\n",
    "        :param noise: (Bool, opt)\n",
    "        :return: (torch.Tensor) Reconstruction of input\n",
    "        '''\n",
    "        mean, scale = self.encode(input)\n",
    "\n",
    "        if noise:\n",
    "            eps = t.randn_like(mean)\n",
    "            z = mean+scale*eps\n",
    "        else:\n",
    "            z = mean\n",
    "\n",
    "        return self.generate(z)\n",
    "    \n",
    "    @staticmethod\n",
    "    def MC(z, eps, scale):\n",
    "        '''\n",
    "        Computes fully monte carlo loss for the statistics layer.\n",
    "        \n",
    "        :param z: (t.Tensor) latent variable\n",
    "        :param eps: (t.Tensor) random noise\n",
    "        :param scale: (t.Tensor) scale (or standard deviation)\n",
    "        '''     \n",
    "        loss = t.sum(z.pow(2)/2-(eps.pow(2)/2+scale.log()), 1)\n",
    "        return loss.mean()"
   ]
  },
  {
   "cell_type": "markdown",
   "metadata": {},
   "source": [
    "#### Utility layer\n",
    "This layer reshapes the input. This is done for convenience when using `nn.Sequential`."
   ]
  },
  {
   "cell_type": "code",
   "execution_count": 4,
   "metadata": {},
   "outputs": [],
   "source": [
    "class ReshapeLayer(nn.Module):\n",
    "    '''\n",
    "    Reshapes the input to be the output using view. Shapes are checked\n",
    "    on forward pass to verify that they are compatible.\n",
    "\n",
    "    :param view_shape: The shape to cast the input to. Given a batch\n",
    "        input of shape (n, _) will be cast to (n, view_shape).\n",
    "    '''\n",
    "    def __init__(self, view_shape):\n",
    "        super(ReshapeLayer, self).__init__()\n",
    "        self.view_shape = view_shape\n",
    "\n",
    "    def forward(self, x):\n",
    "        '''\n",
    "        Reshapes x to initialized shape.\n",
    "        :param x: (t.Tensor)\n",
    "        :return: (t.Tensor)\n",
    "        '''\n",
    "        output_shape = (x.shape[0],) + self.view_shape\n",
    "        assert self.dimension(x.shape) == self.dimension(output_shape), \\\n",
    "            '{0} and {1} are not compatabile'.format(x.shape, output_shape)\n",
    "        return x.view(output_shape)\n",
    "\n",
    "    @staticmethod\n",
    "    def dimension(shape):\n",
    "        #Helper function for checking dimensions\n",
    "        out = 1\n",
    "        for s in shape:\n",
    "            out *= s\n",
    "        return out"
   ]
  },
  {
   "cell_type": "markdown",
   "metadata": {},
   "source": [
    "### Building the network\n",
    "\n",
    "Here we build a simple sequential model. The encoder is several convolution layers feeding into several fully connected layers. The decoder is a several fully connected layers feeding into convolution transpose layers."
   ]
  },
  {
   "cell_type": "code",
   "execution_count": 5,
   "metadata": {},
   "outputs": [],
   "source": [
    "latent_dim = 32\n",
    "filters = 16\n",
    "\n",
    "#Build networks\n",
    "encoder_net = nn.Sequential(\n",
    "    nn.Conv2d(1, filters, 4, 2, 1),             #Shape: filters x 16 x 16\n",
    "    nn.ReLU(),\n",
    "    nn.Conv2d(filters, 2*filters, 4, 2, 1),     #Shape: 2*filters x 8 x 8\n",
    "    nn.ReLU(),\n",
    "    nn.Conv2d(2*filters, 4*filters, 4, 2, 1),   #Shape: 4*filters x 4 x 4\n",
    "    nn.ReLU(),\n",
    "    nn.Flatten(),\n",
    "    nn.Linear(64*filters, 8*filters),\n",
    "    nn.ReLU(),\n",
    "    LatentLayer(8*filters, latent_dim)\n",
    ")\n",
    "\n",
    "decoder_net = nn.Sequential(\n",
    "    nn.Linear(latent_dim, 8*filters),\n",
    "    nn.ReLU(),\n",
    "    nn.Linear(8*filters, 64*filters),\n",
    "    nn.ReLU(),\n",
    "    ReshapeLayer((4*filters, 4, 4)),\n",
    "    nn.ConvTranspose2d(4*filters, 2*filters, 4, 2, 1), #Shape: 2*filters x 8 x 8\n",
    "    nn.ReLU(),\n",
    "    nn.ConvTranspose2d(2*filters, filters, 4, 2, 1),   #Shape: filters x 16 x 16\n",
    "    nn.ReLU(),\n",
    "    nn.ConvTranspose2d(filters, 1, 4, 2, 1),           #Shape: 1 x 32 x 32\n",
    "    nn.Sigmoid(),\n",
    ")\n",
    "\n",
    "model = VAE(encoder_net, decoder_net)"
   ]
  },
  {
   "cell_type": "code",
   "execution_count": 7,
   "metadata": {},
   "outputs": [
    {
     "name": "stdout",
     "output_type": "stream",
     "text": [
      "Loaded previous weights.\n"
     ]
    }
   ],
   "source": [
    "try:\n",
    "    model.load_state_dict(t.load('./models/vae.pkl'))\n",
    "    print('Loaded previous weights.')\n",
    "except FileNotFoundError:\n",
    "    pass"
   ]
  },
  {
   "cell_type": "markdown",
   "metadata": {},
   "source": [
    "### Dataset\n",
    "\n",
    "For this notebook, we use the MNIST dataset. A drop-in replacement that can be used is the FashionMNIST dataset."
   ]
  },
  {
   "cell_type": "code",
   "execution_count": 8,
   "metadata": {},
   "outputs": [],
   "source": [
    "import torch.utils.data as data\n",
    "import torchvision.datasets as datasets\n",
    "from torchvision.transforms import Compose, Pad, ToTensor\n",
    "from torchvision.utils import make_grid, save_image"
   ]
  },
  {
   "cell_type": "code",
   "execution_count": 9,
   "metadata": {},
   "outputs": [],
   "source": [
    "# Images are padded to make them 32 x 32.\n",
    "# This avoids convolution artifacts that can occur for certain sizes.\n",
    "transforms = Compose([Pad(2), ToTensor()])\n",
    "training_set = datasets.MNIST(root='D:\\Code\\pytorch_VAEs\\data', train=True, download=False, transform=transforms)\n",
    "batch_size = 250\n",
    "training_loader = data.DataLoader(dataset=training_set, batch_size=batch_size, shuffle=True)"
   ]
  },
  {
   "cell_type": "markdown",
   "metadata": {},
   "source": [
    "### Optimizing the network parameters\n",
    "\n",
    "Now that we have the network, we need to find parameters that minimizes our estimate above. In order to accomplish this, we run the model over a batch of observations, and then compute the loss. Using stochastic gradient descent methods, we can then find a change of parameters that will (usually) decrease the loss.\n",
    "\n",
    "More explicitely, the encoder network takes in an observation $x$ and produces statistics, $(\\mu, \\Sigma)$, for the latent variable, $z$. Using the Monte Carlo loss or KL divergence above, we can determine a loss for the encoder. We then use $z$ to generate a reconstruction of the observation, $\\hat{x}$. By comparing $x$ and $\\hat{x}$, we have a loss for the decoder. The total loss of the variational autoencoder is the sum of these two losses. Because we are minimizing the sum, there is no guarantee that both components will decrease. In fact, the encoder loss typically increases while the decoder loss typically decreases. This is seen in the training summary printed below."
   ]
  },
  {
   "cell_type": "code",
   "execution_count": 10,
   "metadata": {},
   "outputs": [],
   "source": [
    "def mse_loss(input, target):\n",
    "    loss = (input-target).pow(2)/2\n",
    "    #Return batch average\n",
    "    return loss.mean(0).sum()"
   ]
  },
  {
   "cell_type": "code",
   "execution_count": 11,
   "metadata": {},
   "outputs": [],
   "source": [
    "def train_vae(model, data_loader, optimizer, use_gpu=True):\n",
    "    average_recon = 0\n",
    "    average_latent = 0\n",
    "    for n_batch, (x, _) in enumerate(data_loader):\n",
    "        if use_gpu:\n",
    "            x = x.cuda()\n",
    "        \n",
    "        x_pred, latent_loss = model(x)\n",
    "        \n",
    "        #compute -log p(x|z)\n",
    "        recon_loss = mse_loss(x, x_pred)\n",
    "        loss = recon_loss+latent_loss\n",
    "        \n",
    "        #Compute average\n",
    "        average_latent += (latent_loss-average_latent)/(n_batch+1)\n",
    "        average_recon += (recon_loss-average_recon)/(n_batch+1)\n",
    "\n",
    "        #Zero gradients, perform a backward pass, and update the weights.\n",
    "        optimizer.zero_grad()\n",
    "        loss.backward()\n",
    "        optimizer.step()\n",
    "\n",
    "        #Print percent complete\n",
    "        print(percent_complete.format(batch_size*n_batch/n_data), end='')\n",
    "        \n",
    "    return average_recon, average_latent"
   ]
  },
  {
   "cell_type": "code",
   "execution_count": 12,
   "metadata": {},
   "outputs": [
    {
     "name": "stdout",
     "output_type": "stream",
     "text": [
      "Epoch 1/50 - recon loss: 12.318 - latent loss: 6.4196 - total loss: 18.737\n",
      "Epoch 2/50 - recon loss: 12.29 - latent loss: 6.4258 - total loss: 18.716\n",
      "Epoch 3/50 - recon loss: 12.249 - latent loss: 6.4467 - total loss: 18.696\n",
      "Epoch 4/50 - recon loss: 12.228 - latent loss: 6.4518 - total loss: 18.68\n",
      "Epoch 5/50 - recon loss: 12.186 - latent loss: 6.4789 - total loss: 18.665\n",
      "Epoch 6/50 - recon loss: 12.159 - latent loss: 6.4839 - total loss: 18.643\n",
      "Epoch 7/50 - recon loss: 12.141 - latent loss: 6.4877 - total loss: 18.629\n",
      "Epoch 8/50 - recon loss: 12.107 - latent loss: 6.5079 - total loss: 18.615\n",
      "Epoch 9/50 - recon loss: 12.075 - latent loss: 6.5318 - total loss: 18.607\n",
      "Epoch 10/50 - recon loss: 12.05 - latent loss: 6.532 - total loss: 18.582\n",
      "Epoch 11/50 - recon loss: 12.033 - latent loss: 6.5388 - total loss: 18.571\n",
      "Epoch 12/50 - recon loss: 12.006 - latent loss: 6.5611 - total loss: 18.567\n",
      "Epoch 13/50 - recon loss: 11.99 - latent loss: 6.5625 - total loss: 18.553\n",
      "Epoch 14/50 - recon loss: 11.961 - latent loss: 6.5751 - total loss: 18.536\n",
      "Epoch 15/50 - recon loss: 11.935 - latent loss: 6.5779 - total loss: 18.513\n",
      "Epoch 16/50 - recon loss: 11.903 - latent loss: 6.5983 - total loss: 18.501\n",
      "Epoch 17/50 - recon loss: 11.87 - latent loss: 6.6159 - total loss: 18.486\n",
      "Epoch 18/50 - recon loss: 11.862 - latent loss: 6.619 - total loss: 18.482\n",
      "Epoch 19/50 - recon loss: 11.837 - latent loss: 6.6376 - total loss: 18.474\n",
      "Epoch 20/50 - recon loss: 11.825 - latent loss: 6.643 - total loss: 18.468\n",
      "Epoch 21/50 - recon loss: 11.792 - latent loss: 6.6477 - total loss: 18.439\n",
      "Epoch 22/50 - recon loss: 11.781 - latent loss: 6.6567 - total loss: 18.437\n",
      "Epoch 23/50 - recon loss: 11.772 - latent loss: 6.6626 - total loss: 18.434\n",
      "Epoch 24/50 - recon loss: 11.735 - latent loss: 6.6748 - total loss: 18.41\n",
      "Epoch 25/50 - recon loss: 11.722 - latent loss: 6.6848 - total loss: 18.407\n",
      "Epoch 26/50 - recon loss: 11.692 - latent loss: 6.6995 - total loss: 18.392\n",
      "Epoch 27/50 - recon loss: 11.674 - latent loss: 6.7095 - total loss: 18.384\n",
      "Epoch 28/50 - recon loss: 11.649 - latent loss: 6.7237 - total loss: 18.373\n",
      "Epoch 29/50 - recon loss: 11.64 - latent loss: 6.7221 - total loss: 18.362\n",
      "Epoch 30/50 - recon loss: 11.614 - latent loss: 6.7353 - total loss: 18.35\n",
      "Epoch 31/50 - recon loss: 11.599 - latent loss: 6.7468 - total loss: 18.346\n",
      "Epoch 32/50 - recon loss: 11.585 - latent loss: 6.7588 - total loss: 18.344\n",
      "Epoch 33/50 - recon loss: 11.563 - latent loss: 6.7619 - total loss: 18.325\n",
      "Epoch 34/50 - recon loss: 11.546 - latent loss: 6.7698 - total loss: 18.316\n",
      "Epoch 35/50 - recon loss: 11.534 - latent loss: 6.7764 - total loss: 18.311\n",
      "Epoch 36/50 - recon loss: 11.502 - latent loss: 6.7969 - total loss: 18.299\n",
      "Epoch 37/50 - recon loss: 11.498 - latent loss: 6.7972 - total loss: 18.295\n",
      "Epoch 38/50 - recon loss: 11.474 - latent loss: 6.7973 - total loss: 18.271\n",
      "Epoch 39/50 - recon loss: 11.447 - latent loss: 6.8206 - total loss: 18.268\n",
      "Epoch 40/50 - recon loss: 11.43 - latent loss: 6.831 - total loss: 18.261\n",
      "Epoch 41/50 - recon loss: 11.411 - latent loss: 6.8389 - total loss: 18.25\n",
      "Epoch 42/50 - recon loss: 11.405 - latent loss: 6.8414 - total loss: 18.247\n",
      "Epoch 43/50 - recon loss: 11.393 - latent loss: 6.8471 - total loss: 18.24\n",
      "Epoch 44/50 - recon loss: 11.367 - latent loss: 6.8547 - total loss: 18.221\n",
      "Epoch 45/50 - recon loss: 11.358 - latent loss: 6.867 - total loss: 18.225\n",
      "Epoch 46/50 - recon loss: 11.342 - latent loss: 6.8707 - total loss: 18.212\n",
      "Epoch 47/50 - recon loss: 11.337 - latent loss: 6.8775 - total loss: 18.214\n",
      "Epoch 48/50 - recon loss: 11.304 - latent loss: 6.8981 - total loss: 18.202\n",
      "Epoch 49/50 - recon loss: 11.285 - latent loss: 6.9031 - total loss: 18.188\n",
      "Epoch 50/50 - recon loss: 11.288 - latent loss: 6.896 - total loss: 18.184\n"
     ]
    }
   ],
   "source": [
    "epochs = 50\n",
    "use_gpu = t.cuda.is_available()\n",
    "model.train()\n",
    "\n",
    "#Add to gpu before making the optimizer\n",
    "if use_gpu:\n",
    "    model.cuda(0)\n",
    "\n",
    "optimizer = t.optim.Adam(model.parameters(), lr=0.0002)\n",
    "\n",
    "epoch_summary_text = '\\rEpoch {0}/{1}'\n",
    "loss_summary_text = '{0} loss: {1:.5}'\n",
    "\n",
    "percent_complete = '\\r{0:.1%}'\n",
    "\n",
    "n_data = len(training_set)\n",
    "for epoch in range(epochs):\n",
    "    recon_loss, latent_loss = train_vae(model, training_loader, optimizer, use_gpu)\n",
    "\n",
    "    #Create summary loss\n",
    "    epoch_summary = epoch_summary_text.format(epoch+1, epochs)\n",
    "    latent_summary = loss_summary_text.format('latent', latent_loss)\n",
    "    recon_summary = loss_summary_text.format('recon', recon_loss)\n",
    "    total_summary = loss_summary_text.format('total', latent_loss+recon_loss)\n",
    "    print(epoch_summary, recon_summary, latent_summary, total_summary, sep=' - ')\n",
    "    \n",
    "t.save(model.state_dict(), './models/vae.pkl')"
   ]
  },
  {
   "cell_type": "markdown",
   "metadata": {},
   "source": [
    "## Examples\n",
    "\n",
    "### Image Reconstruction\n",
    "\n",
    "Variational autoencoders can be used to reconstruct observations. This is the same process used while training. We encode the observation to a latent variable, and then use the latent variable to generate an image. After training, the network should be able to reconstruct both the example and similar examples. This is shown below. The images in the top row are the originals, while the images below are the reconstructions. The second row is a reconstruction using the mean, while the lower rows show what would be typically generated during training.\n",
    "\n",
    "The reconstructions are noticeably blurry. This is a fairly common issue with simple VAE models. There are a number of ways to improve the quality of the generated pictures. A few of these are mentioned below."
   ]
  },
  {
   "cell_type": "code",
   "execution_count": 13,
   "metadata": {},
   "outputs": [],
   "source": [
    "#Set up picture\n",
    "n_images = 6\n",
    "rows=5\n",
    "\n",
    "model.eval()\n",
    "with t.no_grad():\n",
    "    data_sample = next(iter(training_loader))\n",
    "    images, _ = data_sample\n",
    "    images = images[:n_images]\n",
    "    if use_gpu:\n",
    "        images = images.cuda()\n",
    "    \n",
    "    album = [images]\n",
    "    #Create most likely example (i.e. using the mean)\n",
    "    album.append(model.generate_similar(images, noise=False))\n",
    "    \n",
    "    #Create similar examples with noise\n",
    "    for row in range(2, rows):\n",
    "        album.append(model.generate_similar(images))\n",
    "\n",
    "album = t.cat(album, 0)\n",
    "save_image(album, './images/MNIST-VAE-reconstructions.png', nrow=n_images)"
   ]
  },
  {
   "cell_type": "markdown",
   "metadata": {},
   "source": [
    "Image Reconstructions\n",
    "![Digit reconstructions](./images/MNIST-VAE-reconstructions.png)"
   ]
  },
  {
   "cell_type": "markdown",
   "metadata": {},
   "source": [
    "### Image generation using latent sampling\n",
    "\n",
    "My interest in VAEs are mostly tied to the fact that you can use them to generate new images. One of the original assumptions we made at the onset of our model is that $p_\\ell$ is normally distributed. Thus, we can generate $z$ by drawing from a standard normal distribution $N(0, I)$ and then decode that generated latent variable to form an observation. This is what we see below."
   ]
  },
  {
   "cell_type": "code",
   "execution_count": 14,
   "metadata": {},
   "outputs": [],
   "source": [
    "grid_size = 10\n",
    "\n",
    "with t.no_grad():\n",
    "    latent_sample = t.randn(grid_size**2, latent_dim, device=album.device)\n",
    "    images = model.generate(latent_sample)\n",
    "\n",
    "save_image(images, './images/MNIST-VAE-latent_samples.png', nrow=grid_size)"
   ]
  },
  {
   "cell_type": "markdown",
   "metadata": {},
   "source": [
    "Randomly generated images\n",
    "![Latent Sample image](./images/MNIST-VAE-latent_samples.png)"
   ]
  },
  {
   "cell_type": "markdown",
   "metadata": {},
   "source": [
    "### Latent Interpolation\n",
    "\n",
    "Another way to use a Variational Autoencoder is to combine the latent encodings. That is, if we have an image $x_1$ and $x_2$ with latent encodings $z_1$ and $z_2$ respectively, we can form a third image $x_3$ from a combination of $z_1$ and $z_2$. This is shown below. The first and last images are the original. The second and fourth are the recreations of the original. The image in the middle, $x_3$, is formed using the latent encoding $(1-\\alpha)z_1+\\alpha z_2$, with $0 \\leq \\alpha \\leq 1$. By changing the sliders, the center changes. \n",
    "\n",
    "Note: if training the model locally would take too long, then I recommend downloading the file `/models/vae.pkl` and loading it to allow for experimentation with the widget below."
   ]
  },
  {
   "cell_type": "code",
   "execution_count": 15,
   "metadata": {},
   "outputs": [],
   "source": [
    "def image_mix(image_idx_1, image_idx_2, mix_value):\n",
    "    with t.no_grad():\n",
    "        #Grab sample images\n",
    "        image_1 = training_set[image_idx_1-1][0]\n",
    "        image_2 = training_set[image_idx_2-1][0]\n",
    "        #Encode\n",
    "        input = t.stack([image_1, image_2], 0)\n",
    "        if use_gpu:\n",
    "            input = input.cuda()\n",
    "        latent = model.encode(input)[0]\n",
    "        #Mix latent codes\n",
    "        mixed_latent = (1-mix_value)*latent[0]+mix_value*latent[1]\n",
    "        #Decode into images\n",
    "        latent = t.stack([latent[0], mixed_latent, latent[1]], 0)\n",
    "        images = model.generate(latent)\n",
    "        #Turn into grid\n",
    "        images = make_grid(t.cat([input[0].unsqueeze(0), images, input[1].unsqueeze(0)]), 5)\n",
    "        #Permute for imshow\n",
    "        images = images.permute(1,2,0)\n",
    "        plt.imshow(images.cpu())"
   ]
  },
  {
   "cell_type": "code",
   "execution_count": 16,
   "metadata": {},
   "outputs": [
    {
     "data": {
      "application/vnd.jupyter.widget-view+json": {
       "model_id": "353c84da386e420cb0015d59f9bdf49e",
       "version_major": 2,
       "version_minor": 0
      },
      "text/plain": [
       "interactive(children=(IntSlider(value=1, description='Image 1', min=1), IntSlider(value=101, description='Imag…"
      ]
     },
     "metadata": {},
     "output_type": "display_data"
    }
   ],
   "source": [
    "import ipywidgets as widgets\n",
    "from IPython.display import display\n",
    "import matplotlib.pylab as plt\n",
    "\n",
    "mix_slider = widgets.FloatSlider(\n",
    "    value=0,\n",
    "    min=0,\n",
    "    max=1,\n",
    "    step=0.05,\n",
    "    description='Transition'\n",
    ")\n",
    "image_1_slider = widgets.IntSlider(\n",
    "    value=1,\n",
    "    min=1,\n",
    "    max=100,\n",
    "    description='Image 1'\n",
    ")\n",
    "\n",
    "image_2_slider = widgets.IntSlider(\n",
    "    value=101,\n",
    "    min=101,\n",
    "    max=200,\n",
    "    description='Image 2'\n",
    ")\n",
    "\n",
    "interactive_plot = widgets.interactive(image_mix, image_idx_1=image_1_slider, image_idx_2=image_2_slider, mix_value=mix_slider)\n",
    "output = interactive_plot.children[-1]\n",
    "output.layout.height = '150px'\n",
    "display(interactive_plot)"
   ]
  },
  {
   "cell_type": "markdown",
   "metadata": {},
   "source": [
    "## Further Reading\n",
    "\n",
    "If you are interested in learning more about variational autoencoders, here is what I recommend:\n",
    "* [Sticking the Landing](https://arxiv.org/abs/1703.09194). As mentioned above, it explains why the MC loss is used rather than KL divergence.\n",
    "* [Towards a deeper understanding of VAEs](https://arxiv.org/abs/1702.08658v1), which explains in part why the blurry images above occur. I had originally believed it was a result of using an inappropriate loss function, but it turns out that this is actually caused by the decoder using the average reconstruction. In our notation, this means the decoder is learning to return $\\mathbb{E}_{p(x|z)}[x]$. The paper also discuss how to avoid blurry images.\n",
    "* [Improved Variational Inference with Inverse Autoregressive Flow](https://arxiv.org/abs/1606.04934v2), which describes how to encode to non-diagonal covariance matrices $\\Sigma(x)$ in a computationally straight-forward way. Another approach based on this paper is offered in [convex combination linear Inverse Autoregressive Flow](https://arxiv.org/abs/1706.0232), which is more easily applied.\n",
    "* It's also worth pointing out that you can use *several* latent variables. There are two variants I'm aware of for this: the Ladder Variational Autoencoder and the Variational Ladder Autoencoder."
   ]
  },
  {
   "cell_type": "markdown",
   "metadata": {},
   "source": [
    "## Final Comments\n",
    "\n",
    "I made this notebook to have an easy way of sharing my interest in VAEs with others. If you find an error or have any suggestions, please let me know."
   ]
  }
 ],
 "metadata": {
  "kernelspec": {
   "display_name": "Python 3",
   "language": "python",
   "name": "python3"
  },
  "language_info": {
   "codemirror_mode": {
    "name": "ipython",
    "version": 3
   },
   "file_extension": ".py",
   "mimetype": "text/x-python",
   "name": "python",
   "nbconvert_exporter": "python",
   "pygments_lexer": "ipython3",
   "version": "3.7.4"
  },
  "widgets": {
   "application/vnd.jupyter.widget-state+json": {
    "state": {
     "02dc4756f12940fa8a6ac9c49a2672ba": {
      "model_module": "@jupyter-widgets/controls",
      "model_module_version": "1.5.0",
      "model_name": "SliderStyleModel",
      "state": {
       "description_width": ""
      }
     },
     "21477d626d9f447fbd252eb9ae79389a": {
      "model_module": "@jupyter-widgets/controls",
      "model_module_version": "1.5.0",
      "model_name": "VBoxModel",
      "state": {
       "_dom_classes": [
        "widget-interact"
       ],
       "children": [
        "IPY_MODEL_f5dd209945734567a4681ea79feb1fbf",
        "IPY_MODEL_a0ca08ba78e247f1a1761202f248e165",
        "IPY_MODEL_ca8b6bdee6904177ad14f1a52227de08",
        "IPY_MODEL_efcc01b152844fa188a552a0ecf7fc98"
       ],
       "layout": "IPY_MODEL_31c45e9cdd874b59b7ab77914e6c37cd"
      }
     },
     "29c9fb0177fd4705978acd770c707a79": {
      "model_module": "@jupyter-widgets/base",
      "model_module_version": "1.2.0",
      "model_name": "LayoutModel",
      "state": {}
     },
     "2bea087c213a41bc9a449105a25d41ee": {
      "model_module": "@jupyter-widgets/controls",
      "model_module_version": "1.5.0",
      "model_name": "IntSliderModel",
      "state": {
       "description": "Image 2",
       "layout": "IPY_MODEL_e9cf7e243c8346b3b4c4d06ba7aadea7",
       "max": 200,
       "min": 101,
       "style": "IPY_MODEL_951ea09cc55e4af69a37bed3009fe7ae",
       "value": 124
      }
     },
     "31c45e9cdd874b59b7ab77914e6c37cd": {
      "model_module": "@jupyter-widgets/base",
      "model_module_version": "1.2.0",
      "model_name": "LayoutModel",
      "state": {}
     },
     "353c84da386e420cb0015d59f9bdf49e": {
      "model_module": "@jupyter-widgets/controls",
      "model_module_version": "1.5.0",
      "model_name": "VBoxModel",
      "state": {
       "_dom_classes": [
        "widget-interact"
       ],
       "children": [
        "IPY_MODEL_e1d39e8fa8744d539deeb9c3faee60ae",
        "IPY_MODEL_2bea087c213a41bc9a449105a25d41ee",
        "IPY_MODEL_b850c922c6d2449c8001859ea23e8970",
        "IPY_MODEL_50dec4ac7b564e74a17b63568d166849"
       ],
       "layout": "IPY_MODEL_622aa90b85e14b7ebdfe2f2cc8c9f3c6"
      }
     },
     "48a93c1aa1114fa19717b9eb6b222d41": {
      "model_module": "@jupyter-widgets/controls",
      "model_module_version": "1.5.0",
      "model_name": "SliderStyleModel",
      "state": {
       "description_width": ""
      }
     },
     "50dec4ac7b564e74a17b63568d166849": {
      "model_module": "@jupyter-widgets/output",
      "model_module_version": "1.0.0",
      "model_name": "OutputModel",
      "state": {
       "layout": "IPY_MODEL_b2e3baa399bb40d5ad139cf02887023e",
       "outputs": [
        {
         "data": {
          "image/png": "iVBORw0KGgoAAAANSUhEUgAAAXAAAABoCAYAAADo66t9AAAABHNCSVQICAgIfAhkiAAAAAlwSFlzAAALEgAACxIB0t1+/AAAADh0RVh0U29mdHdhcmUAbWF0cGxvdGxpYiB2ZXJzaW9uMy4xLjEsIGh0dHA6Ly9tYXRwbG90bGliLm9yZy8QZhcZAAAUvUlEQVR4nO2debAVdXbHPwcUwQXZFcQRUFRwQVEQNVjj6DiOuFSsRBnRGDNRS+MWTSKIFdeyHBMtdw2VMYyJwZWMiOWKGI0Lg4gKCCgqKoIibuCKyC9/dH9fv/fjXpa3dN9+73yqqPu6+3Lv6XP7/u73d37nnLYQAo7jOE75aFe0AY7jOE7j8AHccRynpPgA7jiOU1J8AHccxykpPoA7juOUFB/AHcdxSkqTBnAzO9LMFprZIjMb21xGOY7jOBvGGpsHbmbtgbeAXwJLgJnAb0IIbzafeY7jOE41mqLAhwOLQgjvhhBWA/cCxzWPWY7jOM6G2KwJ/3cH4MN620uAA9b3H8zMyz4dx3E2nRUhhJ7xzqYM4FZh3zoDtJmdAZzRhPdxHMdp67xfaWdTBvAlwI71tvsCS+MnhRAmABPAFbjjOE5z0pQY+ExgoJn1N7MOwGhgSvOY5bRFzAyzShM7x3Eq0WgFHkJYY2bnAE8A7YG7Qgjzms0yx3EcZ700Oo2wUW/mIRTHcZzGMCuEsH+80ysxHcdxSooP4I7jOCXFB3DHcZyS4gO44zhOSfEB3HEcp6T4AO44jlNSfAB3HMcpKU0ppXdKhCoc27VLfrPbt28PwNq1awFYs2ZNMYY5jtNoXIE7juOUlDajwG+66SYAzjvvPADmzp0LwNFHHw3A++9XbPZVCqSu4z4iZsbmm28OQN++fQE49NBDAdhxx6QP2ezZswF48sknAfj2228ByLNC13GcxuEK3HEcp6S0egXer18/AE4++WQgi/kOGjQIgN133x1oHQpc8W09mhnbbrstAAceeCAAY8aMAaBbt24A9OrVC4CZM2cC8P333wPw008/5WF6LsQzlM02Sy57rQNA5jPNPHSdxNtC/tFxn7E0RL52v7QsrsAdx3FKSqtX4J9++ikAzz33HADHHntskea0CLECl+pp165d3d8//vgjAJ06dQJgq622AmC77bYDoHPnzgB8/PHHDV6zjAoq9scWW2wBQMeOHQHYfvvtAdhpp50A6NOnD126dAFgyy23BODzzz8H4L333gOyGZqupy+//BLIlHis2GuR+jMzWHf2oOMinnXUX2OJnxvP/vSaym4qg3/KiCtwx3GcktLqFfg333wDlDvGXY04thsrqrVr19Ypb/nh66+/BjIVqhh5165dAeqyVsoYA49j3LHi3meffQA4/PDDARgwYACQzEo0M5Fi1OOHHyb37VbW0rPPPgvAm2++CWT+jNVqkVRaC4F1ZyKyWZ+5ZmXVnr/NNtvUbcczD/lcayiawaxYsQKAL774AoDVq1cDrsSbC1fgjuM4JaXVK3DFNocMGVKwJS2H1EycB7527do6JfnVV18BsHLlygbPkQLv378/AHPmzAEyJVUG4pi3FGP37t0BGD58OADHHHMMAHvttReQqccVK1awdGlyP27NVKQw5Z9ddtkFgE8++QTIlLny5mPf53ynKyA7fylqzSq0rcyjXXfdFYAePXoAWSaW1kH69OnT4PlS5vXVs/ykR/lcfpwxYwYATz/9NJBdf7KxFmZ48sOoUaMqHpdfL730UiC7FmJ0TqqpuO666wC49957m8/YKrgCdxzHKSmtXoErq+BnP/tZxePDhg0DYMGCBUC5YuVxzFuqplJlppSSlLVyoJUHHvunjDFKKSHFYxXXV86/lOWSJUsAmDZtGgDPPPNMXYxWryHFrUrd3r17A5kareafIvwWZ9vovGWzZleDBw8GYOTIkUBWnavviK4XXRt6vTiu3a5du7pjqujVa0jFv/XWW0A2y4nj8nlmpagGQud7yCGHAHDiiScC2UwjptraUozOZe+99wbgrrvuAmDVqlU8+uijTbZ/fbgCdxzHKSmtXoErJjdx4kQALr/88gbHta283ltvvTUv05qNajFwyLIpvvvuOyDLBoizB+IslDISZ6EoZqnsCc2uHnnkEQCmT58OJPFZ+bBDhw5AFj/Wa0pZ6rUVD44rMvMkjnkrDq3cfsX+pTjjWLfOVQpb8XxdMz/88AMA7777LpCtjwwePJg99tgDyJS3bFi1ahWQZZ9IzcdZKrG/mrPu4LDDDgPgyiuvBGDgwIFAprQ39r1eeumljXreQQcd1GA7voZaElfgjuM4JaXVK3Bx1VVXAesq8NZErMRDCHVKW8pIlYTaL5XQs2dPoGF/kLJQqQsjZKpQfnn77bcBeOONN4Ash3vNmjXrrBvstttuAOy5555AFvvWTEYKvBYqDOPZlJS4ZiBbb701sK6ijjNGVHWq2aiuGZ2rro2ePXvWZfjIx3HFs9aU9H+l6vNYO5DSPuCAAyoe1xqI/HbLLbcA8MEHHzR43oMPPrje91GG22effdZgv+L/L7/88qaY3ShcgTuO45SUNqPARbwK3hqopLy1rRit1KayUZRFIH9ohV77y9QLpVo2jhSjct917lJOy5cvBxpmVcgPxx9/PJBlWSim+8477wCZEq8F/+izktpVtsiiRYuAzA9SwQsXLgQyJa6cdvknntFI2SuLZdiwYXWqXmsqDz/8MACTJ08GMnVff5YD+fjr9ddfB7I1D1XPKoZ/4403Nun1df089dRTFY9rvU1KvyVxBe44jlNS2pwCr4WYZUsRn1MIoU5NqSeKKgkVD1VsVzFwZWyUSYGLuPOi1KFiujo3VWIqVrpy5co6RTl06FAgy9jQDOXVV18Fsjh6fA/RIvwVd/zTZyoF/tprrwGZzXFsW4/V7oeq+LbyyK+55hogWReQWp80aRKQ5T4vW7YMKLbniWLQO++8c7O+ruoIlNutvG9dI/fddx+QVWLmQZsbwNsClb40CivoS6svuy4+DeQayOK2oOt77aKJb7qgAVxhDy3OqXRaRUtqcrVy5cq611ABjwZ7hV+ef/55IBscaykEF/94KFVPA7P8EO+vlgJZf7ES4OKLLwZgv/32q3uOSuRvu+02IFvIKzKtsqVRK2oJAJ2jFmzHjRuXu00eQnEcxykpG1TgZrYjcDewPbAWmBBCuMnMugH3Af2AxcAJIYQvWs5UpylIMWrhTuGFHXbYAchUlxbttBBUC02HNpY4hCJVqBCCFh6lvLUYJV9ANgORqtVClPwR3/S5SKUZL9oKfdY6B23H4cNqylv+UertEUcc0eD5s2fP5rLLLgOy66k1Km6hwqBrr722wf7FixcDcOSRRwLFtOHYGAW+BrgohDAIGAH8nZkNBsYC00IIA4Fp6bbjOI6TExtU4CGEZcCy9O9VZjYf2AE4Dvh5+rQ/AM8CF7eIlc1ItTRClRuXsZR+fcQqTYpJcVHFQ+UXNUBSWp3UbC3FfKsRx8KluFWgIUWumLiKmEIIdbFvLdgJLQTqVnPxjQxqgfgzrqbAY+LiJc1Izj33XACOOuooIEsjVMHPJZdcwkcffdTgvVsjmo1eeOGFQDY7UyqpGp0V2QBvk2LgZtYP2BeYAWyXDu4a5Hs1t3GO4zhOdTY6C8XMtgYeAi4IIays1Dipyv87AzijceY1P9XSCFW4oWIF3TKrjFRKadN5q+RZRRxqtSk12q9fvwbbcXFHmRSXFGmcfaE4tmYdnTp1qpuBqRGUsnVUGq6ClFpeE9jQZxMXfCnmrZJ7tZkYPXo0kDVlUpaF4t7z5s2raT80F4pxx34dP348kK2tFMlGKXAz25xk8L4nhDA53f2JmfVOj/cGllf6vyGECSGE/UMI+zeHwY7jOE7CxmShGPB7YH4I4YZ6h6YApwLXpo8Pt4iFzcydd94JwJlnnlnx+BlnJJOFCy64IDeb8qBahoaUeZyFkkcrzJYijgnHsfG4+VP37t3rWoIq9j9r1iwgi4Erb75MM5Bq2SZS4IrpnnbaaQCccMIJQPbZq8T+iiuuALJMHBXptDYU077ooouAbIamGcgdd9wBbLjJVZ5sTAjlYOAUYI6ZvZbuu4Rk4L7fzH4LfAD8ZcuY6DiO41RiY7JQ/g+oFvA+rHnNaXn0a9qaWZ9KlPrUTWalLNWYX9V3KjPPoyFPSxPHfuUDlYrvtddedTcoUOz7oYceAtadqZSB+HzjRynsc845B4CzzjoLyK4BZSgp+0JNmzR7a22oNe7YsUkm9IgRI4DsM7/77rsBuPnmmwuwbv14JabjOE5JaXO9UNS8XbmuccOb888/v8HzlPNZdqrlgyvLRL1QpLx1GyrNWKTUy9AMrJoCjff36NEDgFGjRtWpTzVCeuGFF4DazjrZEPGNhJVtctJJJwFw+umnA9lnr/z48847D8j6v1RrdlV2VGF5ww3J0p5mYeLggw8GskZmtYgrcMdxnJLS5hS4mDdvHgADBgxosL9Msc7GoPPT+av9p9So4oFSI7qxq9rQVouD1rIijzNtFAPed999gaQtqDIrpk6dCmRx4DJeD/HNjvWZnnLKKUCWgSVFrirTs88+G4AXX3wRKPfsY33EFZa61jXbVp53HrdEayquwB3HcUpKm1XgEyZMAOCYY44p2JJ8kaqS8lZur3plS2GrH7aq8aTqYmpZeccxb52Den4MHz68bltVddOnTwey6s0yofNUfrvO88QTTwSymLeUt2ZVV199NZApztaqvMWGKixrKc97Q7gCdxzHKSltVoGr18n8+fMBGDRoUJHm5IZUhzr1KdtiyJAhQKbelI1R7aa0tay8q6FzU+dB3WFm9erVzJw5E8hi3xvb66eWkM3KKlF/lzFjxjTYrwrL22+/Hchy3ltrnrdmk1OmTAHWrbAssp93U3EF7jiOU1LarALXr63ub9dWkHJWR77HH38cyHpmK+atroVS4GXI/66GlKlyvffcc08AOnfuDMDSpUuZO3cusO55lqkLo5Rlr15JZ2fdw1EdFlV9O3HiRAAeeOABIJuNtVauv/56AEaOHAmsW2FZRuUtXIE7juOUlDarwNs6yjTQXddfeeUVIMsdluJU7LuM+dBCKlrnJpSNsGDBgrr+6MoHL+OMQ50Uhw4dCmT3tlRGzZw5cwB47LHHgOyzL9M5bgqKfcd3WdK9LaXMy4wrcMdxnJJief76mlnr/KlvhcRZGGVWaTqXjh07Almfl65duwJJPvTSpUuBrDdMGXOhlWWi/Hblf6u/zaRJkwB48skngWwdpMyf7frQ3abU00UoG6lkzKp0UxxX4I7jOCWllD9FTsvTmlRZnPuujJP6s4wyxrxjFOtWTnvcSVOVl4rzl/lcnQRX4I7jOCXFY+CO08qIs240u4jvEeqUCo+BO47jtCY8Bu7UDHlVPapisdL7lFGdxhlD8b0/9Vitv0sZz9lJcAXuOI5TUlyBOzVDXkqwzFWllYj9pu3Wdp7OurgCdxzHKSk+gDuO45QUH8Adx3FKSt4x8BXAN+ljLdIDt60xuG2bTq3aBW5bY2lJ23aqtDPXQh4AM3ulUkJ6LeC2NQ63bdOpVbvAbWssRdjmIRTHcZyS4gO44zhOSSliAJ9QwHtuLG5b43DbNp1atQvctsaSu225x8Adx3Gc5sFDKI7jOCUltwHczI40s4VmtsjMxub1vlVs2dHMppvZfDObZ2bnp/u7mdlTZvZ2+ti1QBvbm9lsM5uabvc3sxmpbfeZWYeC7OpiZg+a2YLUfwfWit/M7O/Tz3OumU0ys45F+c3M7jKz5WY2t96+in6yhJvT78YbZja0ANv+Jf1M3zCz/zGzLvWOjUttW2hmv8rbtnrH/sHMgpn1SLcL91u6/9zUN/PM7Lp6+1vebyGEFv8HtAfeAQYAHYDXgcF5vHcVe3oDQ9O/twHeAgYD1wFj0/1jgd8VaOOFwH8DU9Pt+4HR6d93AmcVZNcfgL9N/+4AdKkFvwE7AO8Bner566+L8htwCDAUmFtvX0U/AUcBjwEGjABmFGDbEcBm6d+/q2fb4PT7ugXQP/0et8/TtnT/jsATwPtAjxry26HA08AW6XavPP3W4hdyejIHAk/U2x4HjMvjvTfSvoeBXwILgd7pvt7AwoLs6QtMA34BTE0v0BX1vmAN/JmjXZ3TQdKi/YX7LR3APwS6kRSoTQV+VaTfgH7Rl72in4B/A35T6Xl52RYd+3PgnvTvBt/VdBA9MG/bgAeBIcDiegN44X4jEQiHV3heLn7LK4SiL5dYku4rHDPrB+wLzAC2CyEsA0gfexVk1o3APwFqJ9cd+DKEsCbdLsp/A4BPgf9Iwzv/bmZbUQN+CyF8BPwr8AGwDPgKmEVt+E1U81OtfT/+hkTZQg3YZmbHAh+FEF6PDhVuG7ArMDIN0/2vmQ3L07a8BvBKneQLT38xs62Bh4ALQggri7YHwMyOBpaHEGbV313hqUX4bzOSKeQdIYR9SdoiFLqeIdJ48nEk09U+wFbArys8tfDrrgK18vliZuOBNcA92lXhabnZZmZbAuOBf650uMK+vP22GdCVJITzj8D9ltw5Ixfb8hrAl5DEsERfYGlO710RM9ucZPC+J4QwOd39iZn1To/3BpYXYNrBwLFmthi4lySMciPQxczUu6Yo/y0BloQQZqTbD5IM6LXgt8OB90IIn4YQfgQmAwdRG34T1fxUE98PMzsVOBoYE9J5fw3YtjPJj/Lr6XeiL/CqmW1fA7aR2jA5JPyJZNbcIy/b8hrAZwID04yADsBoYEpO770O6S/k74H5IYQb6h2aApya/n0qSWw8V0II40IIfUMI/Uj89EwIYQwwHfiLgm37GPjQzHZLdx0GvEkN+I0kdDLCzLZMP1/ZVrjf6lHNT1OAv0qzKkYAXynUkhdmdiRwMXBsCOHbeoemAKPNbAsz6w8MBP6Ul10hhDkhhF4hhH7pd2IJSQLCx9SA34A/kogszGxXkoX9FeTlt5YM+EdB/aNIsj3eAcbn9b5VbPkzkunMG8Br6b+jSGLN04C308duBdv5c7IslAHpBbAIeIB01bsAm/YBXkl990eS6WNN+A24AlgAzAX+kyQDoBC/AZNIYvE/kgw6v63mJ5Lp9m3pd2MOsH8Bti0iidnq+3BnveePT21bCPw6b9ui44vJFjFrwW8dgP9Kr7lXgV/k6TevxHQcxykpXonpOI5TUnwAdxzHKSk+gDuO45QUH8Adx3FKig/gjuM4JcUHcMdxnJLiA7jjOE5J8QHccRynpPw/nuc93BIBDQoAAAAASUVORK5CYII=\n",
          "text/plain": "<Figure size 432x288 with 1 Axes>"
         },
         "metadata": {
          "needs_background": "light"
         },
         "output_type": "display_data"
        }
       ]
      }
     },
     "53d988bb6f4345d2abc3bd7bdf33c293": {
      "model_module": "@jupyter-widgets/controls",
      "model_module_version": "1.5.0",
      "model_name": "SliderStyleModel",
      "state": {
       "description_width": ""
      }
     },
     "622aa90b85e14b7ebdfe2f2cc8c9f3c6": {
      "model_module": "@jupyter-widgets/base",
      "model_module_version": "1.2.0",
      "model_name": "LayoutModel",
      "state": {}
     },
     "951ea09cc55e4af69a37bed3009fe7ae": {
      "model_module": "@jupyter-widgets/controls",
      "model_module_version": "1.5.0",
      "model_name": "SliderStyleModel",
      "state": {
       "description_width": ""
      }
     },
     "99ccdf5a78994777986271bce8a8d91c": {
      "model_module": "@jupyter-widgets/controls",
      "model_module_version": "1.5.0",
      "model_name": "SliderStyleModel",
      "state": {
       "description_width": ""
      }
     },
     "a0ca08ba78e247f1a1761202f248e165": {
      "model_module": "@jupyter-widgets/controls",
      "model_module_version": "1.5.0",
      "model_name": "IntSliderModel",
      "state": {
       "description": "Image 2",
       "layout": "IPY_MODEL_bb08d269932d448fa4789e4b17ceb969",
       "max": 200,
       "min": 101,
       "style": "IPY_MODEL_48a93c1aa1114fa19717b9eb6b222d41",
       "value": 119
      }
     },
     "b2e3baa399bb40d5ad139cf02887023e": {
      "model_module": "@jupyter-widgets/base",
      "model_module_version": "1.2.0",
      "model_name": "LayoutModel",
      "state": {
       "height": "150px"
      }
     },
     "b2f05f74180b4479a79d1d5e5cf73067": {
      "model_module": "@jupyter-widgets/base",
      "model_module_version": "1.2.0",
      "model_name": "LayoutModel",
      "state": {}
     },
     "b850c922c6d2449c8001859ea23e8970": {
      "model_module": "@jupyter-widgets/controls",
      "model_module_version": "1.5.0",
      "model_name": "FloatSliderModel",
      "state": {
       "description": "Transition",
       "layout": "IPY_MODEL_b2f05f74180b4479a79d1d5e5cf73067",
       "max": 1,
       "step": 0.05,
       "style": "IPY_MODEL_99ccdf5a78994777986271bce8a8d91c",
       "value": 0.5
      }
     },
     "bb08d269932d448fa4789e4b17ceb969": {
      "model_module": "@jupyter-widgets/base",
      "model_module_version": "1.2.0",
      "model_name": "LayoutModel",
      "state": {}
     },
     "ca8b6bdee6904177ad14f1a52227de08": {
      "model_module": "@jupyter-widgets/controls",
      "model_module_version": "1.5.0",
      "model_name": "FloatSliderModel",
      "state": {
       "description": "Transition",
       "layout": "IPY_MODEL_29c9fb0177fd4705978acd770c707a79",
       "max": 1,
       "step": 0.05,
       "style": "IPY_MODEL_53d988bb6f4345d2abc3bd7bdf33c293",
       "value": 0.5
      }
     },
     "d276c8c12ad84431ad692b96e48949fa": {
      "model_module": "@jupyter-widgets/base",
      "model_module_version": "1.2.0",
      "model_name": "LayoutModel",
      "state": {}
     },
     "e1d39e8fa8744d539deeb9c3faee60ae": {
      "model_module": "@jupyter-widgets/controls",
      "model_module_version": "1.5.0",
      "model_name": "IntSliderModel",
      "state": {
       "description": "Image 1",
       "layout": "IPY_MODEL_d276c8c12ad84431ad692b96e48949fa",
       "min": 1,
       "style": "IPY_MODEL_e5204770b2e748ef9d881f955c3dab2f",
       "value": 7
      }
     },
     "e5204770b2e748ef9d881f955c3dab2f": {
      "model_module": "@jupyter-widgets/controls",
      "model_module_version": "1.5.0",
      "model_name": "SliderStyleModel",
      "state": {
       "description_width": ""
      }
     },
     "e9cf7e243c8346b3b4c4d06ba7aadea7": {
      "model_module": "@jupyter-widgets/base",
      "model_module_version": "1.2.0",
      "model_name": "LayoutModel",
      "state": {}
     },
     "ef57e44e1e7e480e8a78e70645c6b751": {
      "model_module": "@jupyter-widgets/base",
      "model_module_version": "1.2.0",
      "model_name": "LayoutModel",
      "state": {
       "height": "150px"
      }
     },
     "efcc01b152844fa188a552a0ecf7fc98": {
      "model_module": "@jupyter-widgets/output",
      "model_module_version": "1.0.0",
      "model_name": "OutputModel",
      "state": {
       "layout": "IPY_MODEL_ef57e44e1e7e480e8a78e70645c6b751",
       "outputs": [
        {
         "data": {
          "image/png": "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\n",
          "text/plain": "<Figure size 432x288 with 1 Axes>"
         },
         "metadata": {
          "needs_background": "light"
         },
         "output_type": "display_data"
        }
       ]
      }
     },
     "f51d7b0cda5a45c3a36a45b0fab965f2": {
      "model_module": "@jupyter-widgets/base",
      "model_module_version": "1.2.0",
      "model_name": "LayoutModel",
      "state": {}
     },
     "f5dd209945734567a4681ea79feb1fbf": {
      "model_module": "@jupyter-widgets/controls",
      "model_module_version": "1.5.0",
      "model_name": "IntSliderModel",
      "state": {
       "description": "Image 1",
       "layout": "IPY_MODEL_f51d7b0cda5a45c3a36a45b0fab965f2",
       "min": 1,
       "style": "IPY_MODEL_02dc4756f12940fa8a6ac9c49a2672ba",
       "value": 15
      }
     }
    },
    "version_major": 2,
    "version_minor": 0
   }
  }
 },
 "nbformat": 4,
 "nbformat_minor": 2
}
